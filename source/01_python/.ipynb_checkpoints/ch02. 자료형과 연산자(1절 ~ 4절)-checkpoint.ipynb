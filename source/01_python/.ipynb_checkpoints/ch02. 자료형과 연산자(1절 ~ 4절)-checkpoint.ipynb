{
 "cells": [
  {
   "cell_type": "code",
   "execution_count": 1,
   "id": "1bd5877b",
   "metadata": {},
   "outputs": [
    {
     "data": {
      "text/html": [
       "\n",
       "<style>\n",
       "div.container{width:90% !important;}\n",
       "div.cell.code_cell.rendered{width:100%;}\n",
       "div.input_prompt{padding:0px;}\n",
       "div.CodeMirror {font-family:Consolas; font-size:12pt;}\n",
       "div.text_cell_render.rendered_html{font-size:12pt;}\n",
       "div.output {font-size:12pt; font-weight:bold;}\n",
       "div.input {font-family:Consolas; font-size:12pt;}\n",
       "div.prompt {min-width:70px;}\n",
       "div#toc-wrapper{padding-top:120px;}\n",
       "div.text_cell_render ul li{font-size:12pt;padding:5px;}\n",
       "table.dataframe{font-size:12px;}\n",
       "</style>\n"
      ],
      "text/plain": [
       "<IPython.core.display.HTML object>"
      ]
     },
     "metadata": {},
     "output_type": "display_data"
    }
   ],
   "source": [
    "from IPython.display import display, HTML\n",
    "display(HTML(\"\"\"\n",
    "<style>\n",
    "div.container{width:90% !important;}\n",
    "div.cell.code_cell.rendered{width:100%;}\n",
    "div.input_prompt{padding:0px;}\n",
    "div.CodeMirror {font-family:Consolas; font-size:12pt;}\n",
    "div.text_cell_render.rendered_html{font-size:12pt;}\n",
    "div.output {font-size:12pt; font-weight:bold;}\n",
    "div.input {font-family:Consolas; font-size:12pt;}\n",
    "div.prompt {min-width:70px;}\n",
    "div#toc-wrapper{padding-top:120px;}\n",
    "div.text_cell_render ul li{font-size:12pt;padding:5px;}\n",
    "table.dataframe{font-size:12px;}\n",
    "</style>\n",
    "\"\"\"))"
   ]
  },
  {
   "cell_type": "markdown",
   "id": "bda3b303",
   "metadata": {},
   "source": [
    "<b><font size=\"6\" color =\"red\" > ch02. 자료형과 연산자 </font></b>\n",
    "# 1절. 변수\n",
    "- 변수 : 프로그램 작업 처리를 위해, 값을 저장할 수 있는 메모리 공간\n",
    "- 파이썬은 변수 선언을 위한 타입이 없고, 별도의 선언 과정도 없음\n",
    "\n",
    "## 1.1 변수 할당\n",
    "- 할당연산자(=)을 이용해서 값을 할당하면 자료형(타입)이 셋팅\n",
    "- **파이썬에서의 모든 변수는 객체로 저장**"
   ]
  },
  {
   "cell_type": "code",
   "execution_count": 2,
   "id": "0a399369",
   "metadata": {},
   "outputs": [
    {
     "name": "stdout",
     "output_type": "stream",
     "text": [
      "넓이 : 78.5\n"
     ]
    }
   ],
   "source": [
    "r = 5.0\n",
    "area = 3.14 * r * r\n",
    "\n",
    "print('넓이 :' , area)"
   ]
  },
  {
   "cell_type": "code",
   "execution_count": 9,
   "id": "877febe5",
   "metadata": {},
   "outputs": [
    {
     "name": "stdout",
     "output_type": "stream",
     "text": [
      "넓이 :  78.53981633974483\n"
     ]
    }
   ],
   "source": [
    "import numpy as np #numpy패키지를 np라는 이름으로 사용\n",
    "#pypi.org\n",
    "\n",
    "area = np.pi * r * r\n",
    "print(\"넓이 : \", area)"
   ]
  },
  {
   "cell_type": "code",
   "execution_count": 10,
   "id": "994ff210",
   "metadata": {},
   "outputs": [
    {
     "name": "stdout",
     "output_type": "stream",
     "text": [
      "area의 주소 : 2545084169488\n",
      "area의 타입: <class 'float'>\n"
     ]
    }
   ],
   "source": [
    "print('area의 주소 :', id(area))\n",
    "print(\"area의 타입:\",type(area))"
   ]
  },
  {
   "cell_type": "code",
   "execution_count": 11,
   "id": "28bb8688",
   "metadata": {},
   "outputs": [
    {
     "data": {
      "text/plain": [
       "False"
      ]
     },
     "execution_count": 11,
     "metadata": {},
     "output_type": "execute_result"
    }
   ],
   "source": [
    "area.is_integer() "
   ]
  },
  {
   "cell_type": "code",
   "execution_count": 14,
   "id": "16dcd895",
   "metadata": {},
   "outputs": [
    {
     "name": "stdout",
     "output_type": "stream",
     "text": [
      "area의 주소 : 2545009033744\n",
      "area의 타입: <class 'int'>\n"
     ]
    }
   ],
   "source": [
    "area = 10\n",
    "print('area의 주소 :', id(area))\n",
    "print(\"area의 타입:\",type(area))\n"
   ]
  },
  {
   "cell_type": "markdown",
   "id": "752f3c34",
   "metadata": {},
   "source": [
    "## 1.2 변수(함수) 이름 규칙\n",
    "- 문자로 시작\n",
    "- 문자(특수문자는 _ 외에는 불가), 숫자, _로 변수명 작성\n",
    "- 함수명은 변수명으로 가능하나 피한다. 꼭 써야 한다면 str_식으로 사용한다\n",
    "- 파이썬 예약어(for, if, ...)는 변수명 사용 불가\n",
    "- 한글 변수 꼭 필요시에만 사용"
   ]
  },
  {
   "cell_type": "code",
   "execution_count": null,
   "id": "19ee28cf",
   "metadata": {},
   "outputs": [],
   "source": [
    "\n",
    "\n"
   ]
  },
  {
   "cell_type": "code",
   "execution_count": 15,
   "id": "5a1cb36f",
   "metadata": {},
   "outputs": [
    {
     "name": "stdout",
     "output_type": "stream",
     "text": [
      "홍길돋\n"
     ]
    }
   ],
   "source": [
    "이름 = \"홍길돋\"\n",
    "print(이름)"
   ]
  },
  {
   "cell_type": "code",
   "execution_count": 17,
   "id": "3f0cdea6",
   "metadata": {},
   "outputs": [
    {
     "name": "stdout",
     "output_type": "stream",
     "text": [
      "<class 'complex'>\n"
     ]
    }
   ],
   "source": [
    "# 숫자 : 정수, 실수, 복소수\n",
    "i = 1 + 3j # 복소수\n",
    "print(type(i))"
   ]
  },
  {
   "cell_type": "code",
   "execution_count": 19,
   "id": "5e0b7e4d",
   "metadata": {},
   "outputs": [
    {
     "data": {
      "text/plain": [
       "True"
      ]
     },
     "execution_count": 19,
     "metadata": {},
     "output_type": "execute_result"
    }
   ],
   "source": [
    "isinstance(i , complex)# 변수가 complex 타입의 객체인지?"
   ]
  },
  {
   "cell_type": "code",
   "execution_count": 20,
   "id": "dfd41752",
   "metadata": {},
   "outputs": [
    {
     "data": {
      "text/plain": [
       "False"
      ]
     },
     "execution_count": 20,
     "metadata": {},
     "output_type": "execute_result"
    }
   ],
   "source": [
    "isinstance(i, int) # i변수가 int타입의 객체인지?"
   ]
  },
  {
   "cell_type": "markdown",
   "id": "474d492b",
   "metadata": {},
   "source": [
    "## 1.3 다중 변수 선언"
   ]
  },
  {
   "cell_type": "code",
   "execution_count": null,
   "id": "77f3842a",
   "metadata": {},
   "outputs": [],
   "source": [
    "a = 10\n",
    "b = 10"
   ]
  },
  {
   "cell_type": "code",
   "execution_count": 27,
   "id": "467737ec",
   "metadata": {},
   "outputs": [
    {
     "name": "stdout",
     "output_type": "stream",
     "text": [
      "10 20\n"
     ]
    }
   ],
   "source": [
    "a , b = 10, 20\n",
    "print(a,b)"
   ]
  },
  {
   "cell_type": "code",
   "execution_count": 32,
   "id": "fe084aca",
   "metadata": {},
   "outputs": [
    {
     "name": "stdout",
     "output_type": "stream",
     "text": [
      "130 210\n"
     ]
    }
   ],
   "source": [
    "a , b = b, a + b # 다중 변수 할당\n",
    "print(a,b)"
   ]
  },
  {
   "cell_type": "code",
   "execution_count": 25,
   "id": "d7461aa1",
   "metadata": {},
   "outputs": [
    {
     "data": {
      "text/plain": [
       "True"
      ]
     },
     "execution_count": 25,
     "metadata": {},
     "output_type": "execute_result"
    }
   ],
   "source": [
    "isinstance(a, int)"
   ]
  },
  {
   "cell_type": "code",
   "execution_count": 35,
   "id": "bfe644fa",
   "metadata": {},
   "outputs": [
    {
     "data": {
      "text/plain": [
       "False"
      ]
     },
     "execution_count": 35,
     "metadata": {},
     "output_type": "execute_result"
    }
   ],
   "source": [
    "isinstance(a,str)"
   ]
  },
  {
   "cell_type": "markdown",
   "id": "e73364f1",
   "metadata": {},
   "source": [
    "## 1.4 도움말\n"
   ]
  },
  {
   "cell_type": "code",
   "execution_count": 33,
   "id": "64c7789d",
   "metadata": {},
   "outputs": [
    {
     "name": "stdout",
     "output_type": "stream",
     "text": [
      "Help on built-in function print in module builtins:\n",
      "\n",
      "print(...)\n",
      "    print(value, ..., sep=' ', end='\\n', file=sys.stdout, flush=False)\n",
      "    \n",
      "    Prints the values to a stream, or to sys.stdout by default.\n",
      "    Optional keyword arguments:\n",
      "    file:  a file-like object (stream); defaults to the current sys.stdout.\n",
      "    sep:   string inserted between values, default a space.\n",
      "    end:   string appended after the last value, default a newline.\n",
      "    flush: whether to forcibly flush the stream.\n",
      "\n"
     ]
    }
   ],
   "source": [
    "help(print)"
   ]
  },
  {
   "cell_type": "code",
   "execution_count": 34,
   "id": "80af5203",
   "metadata": {},
   "outputs": [
    {
     "name": "stdout",
     "output_type": "stream",
     "text": [
      "\n",
      "Welcome to Python 3.10's help utility!\n",
      "\n",
      "If this is your first time using Python, you should definitely check out\n",
      "the tutorial on the internet at https://docs.python.org/3.10/tutorial/.\n",
      "\n",
      "Enter the name of any module, keyword, or topic to get help on writing\n",
      "Python programs and using Python modules.  To quit this help utility and\n",
      "return to the interpreter, just type \"quit\".\n",
      "\n",
      "To get a list of available modules, keywords, symbols, or topics, type\n",
      "\"modules\", \"keywords\", \"symbols\", or \"topics\".  Each module also comes\n",
      "with a one-line summary of what it does; to list the modules whose name\n",
      "or summary contain a given string such as \"spam\", type \"modules spam\".\n",
      "\n",
      "help> print\n",
      "Help on built-in function print in module builtins:\n",
      "\n",
      "print(...)\n",
      "    print(value, ..., sep=' ', end='\\n', file=sys.stdout, flush=False)\n",
      "    \n",
      "    Prints the values to a stream, or to sys.stdout by default.\n",
      "    Optional keyword arguments:\n",
      "    file:  a file-like object (stream); defaults to the current sys.stdout.\n",
      "    sep:   string inserted between values, default a space.\n",
      "    end:   string appended after the last value, default a newline.\n",
      "    flush: whether to forcibly flush the stream.\n",
      "\n",
      "help> q\n",
      "\n",
      "You are now leaving help and returning to the Python interpreter.\n",
      "If you want to ask for help on a particular object directly from the\n",
      "interpreter, you can type \"help(object)\".  Executing \"help('string')\"\n",
      "has the same effect as typing a particular string at the help> prompt.\n"
     ]
    }
   ],
   "source": [
    "help() # help 빠져나오기 : q / 결과접기/펴기 : esc + o#"
   ]
  },
  {
   "cell_type": "code",
   "execution_count": 36,
   "id": "e9b678c8",
   "metadata": {},
   "outputs": [
    {
     "name": "stdout",
     "output_type": "stream",
     "text": [
      "\n"
     ]
    }
   ],
   "source": [
    "# 도움말 기능 : shift + tab 키\n",
    "print()"
   ]
  },
  {
   "cell_type": "code",
   "execution_count": 44,
   "id": "70016209",
   "metadata": {},
   "outputs": [],
   "source": [
    "def add(x, y=0):\n",
    "    '''\n",
    "    매개변수(x,y) 2개를 받아 두자리 숫자로 만드는 함수\n",
    "    x = 10의 자리수가 되고\n",
    "    y = 1의 자리수가 됨(default값 0)\n",
    "    '''\n",
    "    return x * 10 + y"
   ]
  },
  {
   "cell_type": "code",
   "execution_count": 45,
   "id": "d5e77fce",
   "metadata": {},
   "outputs": [
    {
     "data": {
      "text/plain": [
       "34"
      ]
     },
     "execution_count": 45,
     "metadata": {},
     "output_type": "execute_result"
    }
   ],
   "source": [
    "add(3, 4)"
   ]
  },
  {
   "cell_type": "code",
   "execution_count": 46,
   "id": "edd9ca0e",
   "metadata": {},
   "outputs": [
    {
     "data": {
      "text/plain": [
       "30"
      ]
     },
     "execution_count": 46,
     "metadata": {},
     "output_type": "execute_result"
    }
   ],
   "source": [
    "add(3)"
   ]
  },
  {
   "cell_type": "markdown",
   "id": "504853a9",
   "metadata": {},
   "source": [
    "# 2절. 화면i.o"
   ]
  },
  {
   "cell_type": "code",
   "execution_count": 47,
   "id": "ae86b3f4",
   "metadata": {},
   "outputs": [
    {
     "name": "stdout",
     "output_type": "stream",
     "text": [
      "22\n",
      "22\n"
     ]
    }
   ],
   "source": [
    "# input() : 사용자로부터 값을 입력받기 위한 함수. 입력값은 문자(str)로 받음\n",
    "first = input()\n",
    "print(first)"
   ]
  },
  {
   "cell_type": "code",
   "execution_count": 53,
   "id": "7c1f2ea1",
   "metadata": {},
   "outputs": [
    {
     "name": "stdout",
     "output_type": "stream",
     "text": [
      "첫번째 숫자는?  24\n",
      "두번째 숫자는?  44\n"
     ]
    }
   ],
   "source": [
    "first = int(input('첫번째 숫자는?  '))\n",
    "second = int(input('두번째 숫자는?  '))"
   ]
  },
  {
   "cell_type": "code",
   "execution_count": 54,
   "id": "4e490cb5",
   "metadata": {},
   "outputs": [
    {
     "name": "stdout",
     "output_type": "stream",
     "text": [
      "두수의 합은 68\n"
     ]
    }
   ],
   "source": [
    "print(\"두수의 합은\", first + second)"
   ]
  },
  {
   "cell_type": "code",
   "execution_count": 61,
   "id": "09b881b8",
   "metadata": {},
   "outputs": [
    {
     "name": "stdout",
     "output_type": "stream",
     "text": [
      "first - 24 - second - 44\tHello Python\n"
     ]
    }
   ],
   "source": [
    "print('first', first, 'second',second, sep = ' - ', end = \"\\t\")\n",
    "print(\"Hello\", 'Python', sep=' ')"
   ]
  },
  {
   "cell_type": "markdown",
   "id": "62920936",
   "metadata": {},
   "source": [
    "# 3절, 기본 자료형\n",
    "- 자료형 : 변수가 가져야 할 값의 형식> 자료형에 따라 값의 크기와 저장 방식 달라짐\n",
    "- 자료형에 따라 수행할 수 있는 명령어들이 달라짐\n",
    "    - 숫자 :int, float(소수점 4.0), complex(허수부 j)\n",
    "    - 문자 :str(\"\", '')\n",
    "    - 논리 :bool(True/False)\n",
    "\n"
   ]
  },
  {
   "cell_type": "markdown",
   "id": "09f38752",
   "metadata": {},
   "source": [
    "## 3.1 숫자형"
   ]
  },
  {
   "cell_type": "code",
   "execution_count": 69,
   "id": "8edfdf27",
   "metadata": {},
   "outputs": [
    {
     "name": "stdout",
     "output_type": "stream",
     "text": [
      "9223372036854775807\n"
     ]
    }
   ],
   "source": [
    "import sys\n",
    "print(sys.maxsize) #정수의 최대값 ; 2 ** 63 - 1"
   ]
  },
  {
   "cell_type": "code",
   "execution_count": 70,
   "id": "eb193406",
   "metadata": {},
   "outputs": [
    {
     "data": {
      "text/plain": [
       "9223372036854775807"
      ]
     },
     "execution_count": 70,
     "metadata": {},
     "output_type": "execute_result"
    }
   ],
   "source": [
    "2** 63 - 1"
   ]
  },
  {
   "cell_type": "code",
   "execution_count": 75,
   "id": "3f9eea31",
   "metadata": {},
   "outputs": [
    {
     "name": "stdout",
     "output_type": "stream",
     "text": [
      "9223372036954775807\n",
      "<class 'int'>\n"
     ]
    }
   ],
   "source": [
    "i = sys.maxsize + 100000000\n",
    "print(i)\n",
    "print(type(i))"
   ]
  },
  {
   "cell_type": "code",
   "execution_count": 82,
   "id": "8c5cb59c",
   "metadata": {},
   "outputs": [
    {
     "name": "stdout",
     "output_type": "stream",
     "text": [
      "1.2e-20\n",
      "1.2e+20\n"
     ]
    }
   ],
   "source": [
    "#f = 0.00000000012\n",
    "\n",
    "f= 1.2e-20 # 지수형 1.2*10의 -20승\n",
    "\n",
    "print(f)\n",
    "\n",
    "b = 1.2e20 # 지수형 1.2d의 10의 20승\n",
    "\n",
    "print(b)"
   ]
  },
  {
   "cell_type": "code",
   "execution_count": 87,
   "id": "6de28316",
   "metadata": {},
   "outputs": [
    {
     "name": "stdout",
     "output_type": "stream",
     "text": [
      "f= 2.0\n"
     ]
    }
   ],
   "source": [
    "# 파이썬에서는 /의 결과는 무조건 실수\n",
    "f = 4/2\n",
    "print('f=',f)"
   ]
  },
  {
   "cell_type": "code",
   "execution_count": 88,
   "id": "423ac157",
   "metadata": {},
   "outputs": [
    {
     "name": "stdout",
     "output_type": "stream",
     "text": [
      "f= 1\n",
      "f= 1\n"
     ]
    }
   ],
   "source": [
    "#자바나 c, c++처럼 정수/정수 결과를 정수로\n",
    "f = int(3/2) #int() : int로 형변환(내림)\n",
    "print(\"f=\",f)\n",
    "f = 3 // 2 # 목연산자\n",
    "print('f=',f)"
   ]
  },
  {
   "cell_type": "markdown",
   "id": "51a94955",
   "metadata": {},
   "source": [
    "## 3.2문자형\n",
    "겹따옴표(\"~\")나 홀따옴표('-') 이용"
   ]
  },
  {
   "cell_type": "code",
   "execution_count": 94,
   "id": "0ad887a5",
   "metadata": {},
   "outputs": [
    {
     "name": "stdout",
     "output_type": "stream",
     "text": [
      "홍길동'짱' 서울시 관악구 \"신림\" 동\n"
     ]
    }
   ],
   "source": [
    "#name = '홍길동\\'짱\\''  # 홍길동'짱'\n",
    "name = \"홍길동'짱'\"\n",
    "address ='서울시 관악구 \"신림\" 동' # 서울시 관악구 \"신림\" 동\n",
    "print(name, address)"
   ]
  },
  {
   "cell_type": "code",
   "execution_count": 95,
   "id": "882f321b",
   "metadata": {},
   "outputs": [
    {
     "name": "stdout",
     "output_type": "stream",
     "text": [
      "여러줄\t짜리 내용을 저장\n",
      "줄바꿈 문자를 쓰면 여러줄 \n",
      "줄바꿈\n"
     ]
    }
   ],
   "source": [
    "# escape 문자(탈출문자) : \\n \\t\n",
    "text = '여러줄\\t짜리 내용을 저장\\n줄바꿈 문자를 쓰면 여러줄 \\n줄바꿈'\n",
    "print(text)"
   ]
  },
  {
   "cell_type": "code",
   "execution_count": 98,
   "id": "21a223c4",
   "metadata": {},
   "outputs": [
    {
     "name": "stdout",
     "output_type": "stream",
     "text": [
      "여러줄\t짜리 내용을 저장\n",
      "줄바꿈 문자를 쓰면 됨\n",
      "줄바꿈\n"
     ]
    }
   ],
   "source": [
    "text = '''여러줄\\t짜리 내용을 저장\n",
    "줄바꿈 문자를 쓰면 됨\n",
    "줄바꿈'''\n",
    "\n",
    "print(text)"
   ]
  },
  {
   "cell_type": "markdown",
   "id": "6fe293c3",
   "metadata": {},
   "source": [
    "### ※ 문자열 연산(+, *)"
   ]
  },
  {
   "cell_type": "code",
   "execution_count": 102,
   "id": "7153472d",
   "metadata": {},
   "outputs": [
    {
     "name": "stdout",
     "output_type": "stream",
     "text": [
      "홍길동동해번쩍\n",
      "홍길동 동해번쩍\n"
     ]
    }
   ],
   "source": [
    "'''\n",
    "    여러 줄 주석 용도\n",
    "    2025.09.12 문자열 연산 by 김지훈\n",
    "'''\n",
    "name1 = \"홍길동\"\n",
    "name2 = \"동해번쩍\"\n",
    "print(name1 + name2)\n",
    "print(name1, name2)"
   ]
  },
  {
   "cell_type": "code",
   "execution_count": 103,
   "id": "0dc57cae",
   "metadata": {},
   "outputs": [
    {
     "name": "stdout",
     "output_type": "stream",
     "text": [
      "홍길동홍길동홍길동\n"
     ]
    }
   ],
   "source": [
    "print(name1 * 3)"
   ]
  },
  {
   "cell_type": "markdown",
   "id": "1aa3acce",
   "metadata": {},
   "source": [
    "### ※ raw 데이터\n",
    "- 용도 : 정규표현식 이용, 디렉토리 경로를 표현시 이용"
   ]
  },
  {
   "cell_type": "code",
   "execution_count": 113,
   "id": "01cfcc14",
   "metadata": {},
   "outputs": [
    {
     "ename": "SyntaxError",
     "evalue": "unexpected character after line continuation character (1416192288.py, line 1)",
     "output_type": "error",
     "traceback": [
      "\u001b[1;36m  Cell \u001b[1;32mIn[113], line 1\u001b[1;36m\u001b[0m\n\u001b[1;33m    raw데이터 : 데이터 처리시 이스케이프 문자(\\n, \\t, \\', \\\")\u001b[0m\n\u001b[1;37m                               ^\u001b[0m\n\u001b[1;31mSyntaxError\u001b[0m\u001b[1;31m:\u001b[0m unexpected character after line continuation character\n"
     ]
    }
   ],
   "source": [
    " raw데이터 : 데이터 처리시 이스케이프 문자(\\n, \\t, \\', \\\")\n",
    "print(r'Hello\\nWorld')"
   ]
  },
  {
   "cell_type": "markdown",
   "id": "662ed84e",
   "metadata": {},
   "source": [
    "정규표현식(regex)\n",
    "    1. 참조 :https://ko.wikipedia.org/wiki/ 위키백과\n",
    "    2. 간략문법\n",
    "          \\d (숫자와 매치. [0~9]와 동일)\n",
    "          \\D (숫자가 아닌 것)\n",
    "          \\w (영문자나 숫자 .[a-zA-Z0-9]와 동일)\n",
    "          \\W (영문자나 숫자가 아닌 문자)\n",
    "          . (문자)\n",
    "          \\. (.)\n",
    "          \\- (-) \n",
    "          {2,} (2번 이상 반복)\n",
    "          {2,4} (2 ~ 4회 반복)\n",
    "          ?     (0번이나 1번 의미)\n",
    "          +     (1번 이상 반복)\n",
    "          *     (0번 이상 반복)\n",
    "    3. 정규표현식 연습장 : https://regexr.com/\n",
    "        ex1. 전화번호 : 02 888 7777 / 028887777  / 010-9999-9999  / 010.9999.9999/\n",
    "                        02)999-9999\n",
    "                        => \\d{2,3}[ \\-\\.)]?\\d{3,4}[ \\-\\.]?\\d{4}            \n",
    "                     \n",
    "        ex2. 이메일 : abc12@naver.com / abc12@sns.co.kr\n",
    "        \n",
    "        => \\w+@\\w+(\\.\\w+){1,2}\n",
    "        \n",
    "        ex3. 주민번호 : 981212-1952525\n",
    "        \n",
    "        => (\\d{2}0[1-9][0-3]\\d\\-[0-4]\\d{6})|(\\d{2}1[0-2][0-3]\\d\\-[0-4]\\d{6})\n",
    "     \n",
    "     \n",
    "   \n",
    "    \n",
    "    4. 소스 구현\n",
    "  "
   ]
  },
  {
   "cell_type": "code",
   "execution_count": 114,
   "id": "3adb6cf3",
   "metadata": {},
   "outputs": [
    {
     "name": "stdout",
     "output_type": "stream",
     "text": [
      "이름:홍길동, 주소:서울, 전화:02-888-8888, 핸드폰:010-9999-9999, 특징:동해번쩍 서해번쩍혈액형:Bㅋㅋ ㅋㅋzz\n"
     ]
    }
   ],
   "source": [
    "import re\n",
    "data =\"이름:홍길동, 주소:서울, 전화:02-888-8888, \\\n",
    "핸드폰:010-9999-9999, 특징:동해번쩍 서해번쩍\\\n",
    "혈액형:Bㅋㅋ ㅋㅋzz\"\n",
    "print(data)"
   ]
  },
  {
   "cell_type": "code",
   "execution_count": 117,
   "id": "0f1c7934",
   "metadata": {},
   "outputs": [
    {
     "data": {
      "text/plain": [
       "['02-888-8888', '010-9999-9999']"
      ]
     },
     "execution_count": 117,
     "metadata": {},
     "output_type": "execute_result"
    }
   ],
   "source": [
    "# 정규표현식 처리에선든 raw데이터 처리를 하지 않아도 실행은 되나\n",
    "# 실수를 줄이고, 가독성을 높이는 용도를 raw 데이터 처리를 사용\n",
    "tel_pattern = r\"\\d{2,3}[ \\-\\.)]?\\d{3,4}[ \\-\\.]?\\d{4}\"\n",
    "tels = re.findall(tel_pattern, data) # 해당 패턴을 다 찾아줌. 없으면 빈 list\n",
    "tels"
   ]
  },
  {
   "cell_type": "code",
   "execution_count": 118,
   "id": "a0b601e7",
   "metadata": {},
   "outputs": [
    {
     "data": {
      "text/plain": [
       "[]"
      ]
     },
     "execution_count": 118,
     "metadata": {},
     "output_type": "execute_result"
    }
   ],
   "source": [
    "email_pattern =\"r\\w+@\\w+(\\.\\w+){1,2}\"\n",
    "emails = re.findall(email_pattern, data)\n",
    "emails"
   ]
  },
  {
   "cell_type": "code",
   "execution_count": 120,
   "id": "10ed025f",
   "metadata": {},
   "outputs": [
    {
     "data": {
      "text/plain": [
       "<re.Match object; span=(18, 29), match='02-888-8888'>"
      ]
     },
     "execution_count": 120,
     "metadata": {},
     "output_type": "execute_result"
    }
   ],
   "source": [
    "# 정규표현식 패턴과 처음 match되는 것을 찾아줘\n",
    "firstTel = re.search(tel_pattern, data)\n",
    "firstTel"
   ]
  },
  {
   "cell_type": "code",
   "execution_count": 122,
   "id": "111ea440",
   "metadata": {},
   "outputs": [
    {
     "name": "stdout",
     "output_type": "stream",
     "text": [
      "02-888-8888\n",
      "02-888-8888\n"
     ]
    }
   ],
   "source": [
    "print(data[18:29]) # 문자열 슬라이싱\n",
    "print(firstTel.group(0))"
   ]
  },
  {
   "cell_type": "code",
   "execution_count": 123,
   "id": "ae833f41",
   "metadata": {},
   "outputs": [
    {
     "data": {
      "text/plain": [
       "<re.Match object; span=(18, 29), match='02-888-8888'>"
      ]
     },
     "execution_count": 123,
     "metadata": {},
     "output_type": "execute_result"
    }
   ],
   "source": [
    "tel_pattern = r\"(\\d{2,3})-(\\d{3,4})-(\\d{4})\"\n",
    "\n",
    "firstPhone = re.search(tel_pattern,data)\n",
    "firstPhone"
   ]
  },
  {
   "cell_type": "code",
   "execution_count": 125,
   "id": "b501d097",
   "metadata": {},
   "outputs": [
    {
     "name": "stdout",
     "output_type": "stream",
     "text": [
      "전체 전화번호 : 02-888-8888\n",
      "국번 : 02\n",
      "중간번호 : 888\n",
      "끝번호 : 8888\n"
     ]
    }
   ],
   "source": [
    "print('전체 전화번호 :',firstPhone.group(0))\n",
    "print('국번 :', firstPhone.group(1))\n",
    "print('중간번호 :', firstPhone.group(2))\n",
    "print('끝번호 :' , firstPhone.group(3))"
   ]
  },
  {
   "cell_type": "code",
   "execution_count": 127,
   "id": "227c79ad",
   "metadata": {},
   "outputs": [
    {
     "data": {
      "text/plain": [
       "'이름홍길동 주소서울 전화028888888 핸드폰01099999999 특징동해번쩍 서해번쩍혈액형B '"
      ]
     },
     "execution_count": 127,
     "metadata": {},
     "output_type": "execute_result"
    }
   ],
   "source": [
    "#data에서 특정한 데이터 없애기\n",
    "\n",
    "re.sub(\"[^가-힣0-9A-Z\\s]\", '', data)"
   ]
  },
  {
   "cell_type": "code",
   "execution_count": null,
   "id": "e5ce6001",
   "metadata": {},
   "outputs": [],
   "source": []
  },
  {
   "cell_type": "code",
   "execution_count": null,
   "id": "0634e748",
   "metadata": {},
   "outputs": [],
   "source": []
  },
  {
   "cell_type": "code",
   "execution_count": null,
   "id": "c77d69d7",
   "metadata": {},
   "outputs": [],
   "source": []
  },
  {
   "cell_type": "code",
   "execution_count": null,
   "id": "4069aa25",
   "metadata": {},
   "outputs": [],
   "source": []
  },
  {
   "cell_type": "code",
   "execution_count": null,
   "id": "1ba35a58",
   "metadata": {},
   "outputs": [],
   "source": []
  },
  {
   "cell_type": "code",
   "execution_count": null,
   "id": "ace03e6a",
   "metadata": {},
   "outputs": [],
   "source": []
  },
  {
   "cell_type": "code",
   "execution_count": null,
   "id": "aee7430c",
   "metadata": {},
   "outputs": [],
   "source": []
  },
  {
   "cell_type": "code",
   "execution_count": null,
   "id": "3251ff51",
   "metadata": {},
   "outputs": [],
   "source": []
  }
 ],
 "metadata": {
  "kernelspec": {
   "display_name": "Python 3 (ipykernel)",
   "language": "python",
   "name": "python3"
  },
  "language_info": {
   "codemirror_mode": {
    "name": "ipython",
    "version": 3
   },
   "file_extension": ".py",
   "mimetype": "text/x-python",
   "name": "python",
   "nbconvert_exporter": "python",
   "pygments_lexer": "ipython3",
   "version": "3.10.9"
  },
  "toc": {
   "base_numbering": 1,
   "nav_menu": {},
   "number_sections": false,
   "sideBar": true,
   "skip_h1_title": false,
   "title_cell": "Table of Contents",
   "title_sidebar": "Contents",
   "toc_cell": false,
   "toc_position": {
    "height": "calc(100% - 180px)",
    "left": "10px",
    "top": "150px",
    "width": "165px"
   },
   "toc_section_display": true,
   "toc_window_display": true
  }
 },
 "nbformat": 4,
 "nbformat_minor": 5
}
