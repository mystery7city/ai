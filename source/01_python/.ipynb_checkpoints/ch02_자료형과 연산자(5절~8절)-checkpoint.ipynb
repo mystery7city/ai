{
 "cells": [
  {
   "cell_type": "code",
   "execution_count": 1,
   "id": "49bc8eb6",
   "metadata": {},
   "outputs": [
    {
     "data": {
      "text/html": [
       "\n",
       "<style>\n",
       "div.container{width:90% !important;}\n",
       "div.cell.code_cell.rendered{width:100%;}\n",
       "div.input_prompt{padding:0px;}\n",
       "div.CodeMirror {font-family:Consolas; font-size:12pt;}\n",
       "div.text_cell_render.rendered_html{font-size:12pt;}\n",
       "div.output {font-size:12pt; font-weight:bold;}\n",
       "div.input {font-family:Consolas; font-size:12pt;}\n",
       "div.prompt {min-width:70px;}\n",
       "div#toc-wrapper{padding-top:120px;}\n",
       "div.text_cell_render ul li{font-size:12pt;padding:5px;}\n",
       "table.dataframe{font-size:12px;}\n",
       "</style>\n"
      ],
      "text/plain": [
       "<IPython.core.display.HTML object>"
      ]
     },
     "metadata": {},
     "output_type": "display_data"
    }
   ],
   "source": [
    "from IPython.display import display, HTML\n",
    "display(HTML(\"\"\"\n",
    "<style>\n",
    "div.container{width:90% !important;}\n",
    "div.cell.code_cell.rendered{width:100%;}\n",
    "div.input_prompt{padding:0px;}\n",
    "div.CodeMirror {font-family:Consolas; font-size:12pt;}\n",
    "div.text_cell_render.rendered_html{font-size:12pt;}\n",
    "div.output {font-size:12pt; font-weight:bold;}\n",
    "div.input {font-family:Consolas; font-size:12pt;}\n",
    "div.prompt {min-width:70px;}\n",
    "div#toc-wrapper{padding-top:120px;}\n",
    "div.text_cell_render ul li{font-size:12pt;padding:5px;}\n",
    "table.dataframe{font-size:12px;}\n",
    "</style>\n",
    "\"\"\"))"
   ]
  },
  {
   "cell_type": "markdown",
   "id": "593248a8",
   "metadata": {},
   "source": [
    "<b><font size=\"6\" color =\"red\" > ch02. 자료형과 연산자 </font></b>\n",
    "# 5절. 연산자\n",
    "## 5.1 산술연산자 : +,-,*,/(결과 float), //(몫), %(나머지), **(제곱)"
   ]
  },
  {
   "cell_type": "code",
   "execution_count": 2,
   "id": "db0fa19f",
   "metadata": {},
   "outputs": [
    {
     "name": "stdout",
     "output_type": "stream",
     "text": [
      "10*5승 = 100000\n",
      "4/2(결과 실수) = 2.5\n",
      "5//2(몫) = 2\n",
      "5%2(나머지) = 1\n"
     ]
    }
   ],
   "source": [
    "print(\"10*5승 =\", 10 ** 5)\n",
    "print(\"4/2(결과 실수) =\", 5 / 2)\n",
    "print(\"5//2(몫) =\", 5 // 2)\n",
    "print(\"5%2(나머지) =\", 5 % 2)"
   ]
  },
  {
   "cell_type": "code",
   "execution_count": 3,
   "id": "4d927890",
   "metadata": {},
   "outputs": [
    {
     "name": "stdout",
     "output_type": "stream",
     "text": [
      "4**2 = 16\n"
     ]
    }
   ],
   "source": [
    "# 정수끼리 연산은 결과가 정수(단 / 제외)\n",
    "# 정수와 실수, 실수끼리 연산 결과는 실수\n",
    "print(\"4**2 =\", 4**2)"
   ]
  },
  {
   "cell_type": "code",
   "execution_count": 4,
   "id": "704ef182",
   "metadata": {},
   "outputs": [
    {
     "name": "stdout",
     "output_type": "stream",
     "text": [
      "정수를 입력하세요:\n"
     ]
    },
    {
     "ename": "ValueError",
     "evalue": "invalid literal for int() with base 10: ''",
     "output_type": "error",
     "traceback": [
      "\u001b[1;31m---------------------------------------------------------------------------\u001b[0m",
      "\u001b[1;31mValueError\u001b[0m                                Traceback (most recent call last)",
      "Cell \u001b[1;32mIn[4], line 2\u001b[0m\n\u001b[0;32m      1\u001b[0m \u001b[38;5;66;03m# quiz1 정수를 입력받아 짝수인지 홀수인지 여부를 출력\u001b[39;00m\n\u001b[1;32m----> 2\u001b[0m num \u001b[38;5;241m=\u001b[39m \u001b[38;5;28;43mint\u001b[39;49m\u001b[43m(\u001b[49m\u001b[38;5;28;43minput\u001b[39;49m\u001b[43m(\u001b[49m\u001b[38;5;124;43m\"\u001b[39;49m\u001b[38;5;124;43m정수를 입력하세요:\u001b[39;49m\u001b[38;5;124;43m\"\u001b[39;49m\u001b[43m)\u001b[49m\u001b[43m)\u001b[49m\n\u001b[0;32m      3\u001b[0m result \u001b[38;5;241m=\u001b[39m num \u001b[38;5;241m%\u001b[39m \u001b[38;5;241m2\u001b[39m \u001b[38;5;66;03m# -1, 0, 1\u001b[39;00m\n\u001b[0;32m      4\u001b[0m \u001b[38;5;28;01mif\u001b[39;00m result:\n",
      "\u001b[1;31mValueError\u001b[0m: invalid literal for int() with base 10: ''"
     ]
    }
   ],
   "source": [
    "# quiz1 정수를 입력받아 짝수인지 홀수인지 여부를 출력\n",
    "num = int(input(\"정수를 입력하세요:\"))\n",
    "result = num % 2 # -1, 0, 1\n",
    "if result:\n",
    "    temp = \"홀수\"\n",
    "else:\n",
    "    temp = \"짝수\"\n",
    "    \n",
    "print(f\"입력하신 수는 {num}, 2로 나눈 나머지는 {result}라서 {temp}를 입력하셨습니다\")"
   ]
  },
  {
   "cell_type": "code",
   "execution_count": null,
   "id": "b787f6e9",
   "metadata": {},
   "outputs": [],
   "source": [
    "# quiz2 정수를 입력받아 5의 배수인지 여부를 출력\n",
    "num = int(input(\"정수를 입력하세요 : \"))\n",
    "if num % 5:\n",
    "    temp = \"5의 배수가 아님\"\n",
    "else:\n",
    "    temp = \"5의 배수\"\n",
    "    \n",
    "print(f\"입력받은 수는 {num}, 5로 나눈 나머지는 {num % 5}라서 {temp}를 입력하셨습니다\")    "
   ]
  },
  {
   "cell_type": "code",
   "execution_count": null,
   "id": "89aafa1c",
   "metadata": {},
   "outputs": [],
   "source": [
    "### quiz3 국어, 영, 수 점수를 입력받아 다음셀에서 다음과 같이 출력하도록 구현하시오\n",
    "# 99 100 100 299 99.7\n",
    "lang = int(input(\"국어 점수를 입력하세요:\"))\n",
    "eng = int(input(\"영어 점수를 입력하세요:\"))\n",
    "math = int(input(\"수학 점수를 입력하세요:\"))\n",
    "sum =lang + eng + math\n",
    "avg = sum / 3\n",
    "\n"
   ]
  },
  {
   "cell_type": "code",
   "execution_count": null,
   "id": "a73817f7",
   "metadata": {},
   "outputs": [],
   "source": [
    "print(\"국어 :{:3d} \\t 영어 : {:3d} \\t 수학:{:3d}\".format(lang,eng,math))\n",
    "print(\"총점 :{:4d} \\t 평균 : {:5.1f}\".format(sum,avg))"
   ]
  },
  {
   "cell_type": "markdown",
   "id": "53f608e4",
   "metadata": {},
   "source": [
    "## 5.2 할당연산자 : =, +=, -=,/=,*=,//=,%="
   ]
  },
  {
   "cell_type": "code",
   "execution_count": null,
   "id": "11d10c6a",
   "metadata": {},
   "outputs": [],
   "source": [
    "a = 10\n",
    "a += 5 # a = a + 5\n",
    "print(f\" a = {a}\")"
   ]
  },
  {
   "cell_type": "code",
   "execution_count": null,
   "id": "208fd664",
   "metadata": {},
   "outputs": [],
   "source": [
    "a -= 5\n",
    "print(\"5빼기 : \",a)\n",
    "a *= 10\n",
    "print(\"10배 : \",a)\n",
    "a //= 5 # a = a // 5\n",
    "print(\"5 나눈 몫 : \",a)"
   ]
  },
  {
   "cell_type": "markdown",
   "id": "d7fb0c00",
   "metadata": {},
   "source": [
    "## 5.3 논리연산자 : &, and, |, or, not"
   ]
  },
  {
   "cell_type": "code",
   "execution_count": null,
   "id": "47472fa1",
   "metadata": {},
   "outputs": [],
   "source": [
    "# & : 논리연산자, 비트연산자\n",
    "print((10 > 3) & (10 > 5)) #논리연산 True & True\n",
    "print(12 & 1) # 비트 연산 1 1 0 0 (12)\n",
    "                    #    0 0 0 1 (1)\n",
    "                    #    0 0 0 0\n",
    "print(\"{:4b}\".format(12))"
   ]
  },
  {
   "cell_type": "code",
   "execution_count": null,
   "id": "819e7cf3",
   "metadata": {},
   "outputs": [],
   "source": [
    "# and : 논리연산자. False로 판별되는 첫번째 항의 결과 반환\n",
    "        # 모든 항이 True면, 마지막항의 결과 밤ㄴ환\n",
    "print((10 > 3) and (10 > 5))\n",
    "print(0 and 1)\n"
   ]
  },
  {
   "cell_type": "code",
   "execution_count": null,
   "id": "55158b10",
   "metadata": {},
   "outputs": [],
   "source": [
    "# | : 논리연산, 비트연산 \n",
    "result = True | False\n",
    "print(\"논리연산(연산자 앞뒤에 논리형일 때) :\", result)\n",
    "result = False | 3 # 0000 (0)\n",
    "                   # 0011 (3)         \n",
    "print('비트연산(연산자 앞이나 뒤에 숫자일 때) :', result)"
   ]
  },
  {
   "cell_type": "code",
   "execution_count": null,
   "id": "e5214a1b",
   "metadata": {},
   "outputs": [],
   "source": [
    "# or : 논리연산. 참으로 판별되는 첫번째 항의 결과 반환\n",
    "       # 모든 항이 거짓이면 마지막항의 결과 반환\n",
    "print(False or 0 or \"\" or None or [])\n",
    "print(False or 0 or \"Hong\" or None or [])"
   ]
  },
  {
   "cell_type": "code",
   "execution_count": null,
   "id": "2c14e966",
   "metadata": {},
   "outputs": [],
   "source": [
    "not 10> 5"
   ]
  },
  {
   "cell_type": "markdown",
   "id": "303e944d",
   "metadata": {},
   "source": [
    "## 5.4 비교연산자 : >, >=, <. <=, ==(같다), !=(다르다)"
   ]
  },
  {
   "cell_type": "code",
   "execution_count": null,
   "id": "4fce80cb",
   "metadata": {},
   "outputs": [],
   "source": [
    "# 비교연산자는 이항 , 삼항 , 사항 , ..... 다항연산자\n",
    "x = 95\n",
    "print( (90 <= x) & (x <= 100))\n",
    "print( 90 <= x <= 100)\n",
    "print( 90 <= x <= 100 > 10)"
   ]
  },
  {
   "cell_type": "code",
   "execution_count": 5,
   "id": "e53eec0f",
   "metadata": {},
   "outputs": [
    {
     "name": "stdout",
     "output_type": "stream",
     "text": [
      "True\n",
      "False\n",
      "False\n"
     ]
    }
   ],
   "source": [
    "# 비교연산자의 우선순의가 비트연산자(|,&)의 우선순위보다 낮다\n",
    "print((10 > 5) & (10 > 7))\n",
    "print(10 > 5 & 10 > 7) # 괄호가 없으면 우선순위가 높은 5&10부터 실행\n",
    "print( 10 > 0 > 7)\n",
    "# 0101(5) 1010(10)"
   ]
  },
  {
   "cell_type": "code",
   "execution_count": null,
   "id": "49ac2784",
   "metadata": {},
   "outputs": [],
   "source": []
  },
  {
   "cell_type": "code",
   "execution_count": 6,
   "id": "c4258657",
   "metadata": {},
   "outputs": [
    {
     "name": "stdout",
     "output_type": "stream",
     "text": [
      "True\n"
     ]
    }
   ],
   "source": [
    "address = \"목동\"\n",
    "age = 29\n",
    "print((address == \"목동\") & (age <= 30))"
   ]
  },
  {
   "cell_type": "code",
   "execution_count": 7,
   "id": "e4f913a5",
   "metadata": {},
   "outputs": [
    {
     "data": {
      "text/plain": [
       "True"
      ]
     },
     "execution_count": 7,
     "metadata": {},
     "output_type": "execute_result"
    }
   ],
   "source": [
    "# 문자는 ASCII 코드 순으로 비교:\n",
    "\"scott\" < \"tiger\""
   ]
  },
  {
   "cell_type": "code",
   "execution_count": 8,
   "id": "39435e9e",
   "metadata": {},
   "outputs": [
    {
     "data": {
      "text/plain": [
       "True"
      ]
     },
     "execution_count": 8,
     "metadata": {},
     "output_type": "execute_result"
    }
   ],
   "source": [
    "\"김길동\" < \"홍길동\""
   ]
  },
  {
   "cell_type": "markdown",
   "id": "661ef293",
   "metadata": {},
   "source": [
    "## 5.5 비트연산 : & , | , ^ (XOR), ~ (반대)"
   ]
  },
  {
   "cell_type": "code",
   "execution_count": null,
   "id": "331793b4",
   "metadata": {},
   "outputs": [],
   "source": [
    "'''\n",
    "x    y      x&y      x|y      x ^y      ~x\n",
    "------------------------------------------\n",
    "0    0      0        0        0         1        \n",
    "0    1      0        1        1         1\n",
    "1    0      0        1        1         0 \n",
    "1    1      1        1        0         0\n",
    "\n",
    "\n",
    "'''"
   ]
  },
  {
   "cell_type": "code",
   "execution_count": 15,
   "id": "8a7d9b50",
   "metadata": {},
   "outputs": [
    {
     "name": "stdout",
     "output_type": "stream",
     "text": [
      "a = 15 : 1111\n",
      "a =  2 : 0010\n",
      "a & b =  2 : 0010\n",
      "a | b = 15 : 1111\n",
      "a ^ b = 13 : 1101\n",
      "~a = -16 : -10000\n"
     ]
    }
   ],
   "source": [
    "a = 15 # 1111(8 + 4 + 2 + 1)\n",
    "b =  2 # 0010\n",
    "print(\"a = {0:2} : {0:04b}\".format(a))\n",
    "print(\"a = {0:2} : {0:04b}\".format(b))\n",
    "print(\"a & b = {0:2} : {0:04b}\".format(a&b))\n",
    "print(\"a | b = {0:2} : {0:04b}\".format(a|b))\n",
    "print(\"a ^ b = {0:2} : {0:04b}\".format(a^b))\n",
    "print(\"~a = {0:2} : {0:04b}\".format(~a))"
   ]
  },
  {
   "cell_type": "markdown",
   "id": "2ae2198d",
   "metadata": {},
   "source": [
    "# 6절 문자열 다루기\n",
    "- 문자열 변수[from:to:step] : 일부 문자 추출\n",
    "- len(문자열변수)\n",
    "- upper() : 대문자로\n",
    "- lower() : 소문자로\n",
    "- title() : 각 어절의 앞ㄹ글자만 대문자로\n",
    "- capitalize() : 첫문자만 대문자로\n",
    "- count(\"찾을문자\") : \"찾을문자\"가 몇개 들어있는지 갯수 반환\n",
    "- find(\"찾을문자\") : \"찾을문자\"가 왼쪽부터 몇번쨰에 있는지 index를 반환 (없으면 -1)\n",
    "- rfind(\"찾을문자\") : \"찾을문자\"가 오른쪽부터 몇번째에 있는지 index를 반환 (없으면 -1)\n",
    "- cf.index(\"찾을문자\") : 찾을문자가 왼쪽부터 몇번쨰에 있는 index를 반환 (없으면 에러)\n",
    "- startswith(\"특정문자\") : \"특정문자\"로 시작하는자 여부 반환\n",
    "- endswith(\"특정문자\") : \"특정문자\"로 끝나는지 여부 반황\n",
    "\n",
    "- strip() : 좌우 공백 제거(trim)\n",
    "- lstrip() : 왼쪽공백제거\n",
    "- rstrip() : 오른쪽 공백 제거\n",
    "- **split() : 문자열을 공백이나 다른 문자 기준으로 나누어 리스트로 반환**\n",
    "- isdigit() : 문자열이 숫자문자열인지 여부 반환\n",
    "- islower() : 문자열이 소문자인지 여부 반환\n",
    "- is upper() : 문자열이 대문자인지 여부 반환\n",
    "\n",
    "\n",
    "- replace(oldStr, newStr) oldStr을 newStr로 변경"
   ]
  },
  {
   "cell_type": "code",
   "execution_count": 19,
   "id": "ccd65a86",
   "metadata": {},
   "outputs": [
    {
     "data": {
      "text/plain": [
       "('python is easy. python is smart. python', 39)"
      ]
     },
     "execution_count": 19,
     "metadata": {},
     "output_type": "execute_result"
    }
   ],
   "source": [
    "temp =\"python is easy. python is smart. python\"\n",
    "temp, len(temp)"
   ]
  },
  {
   "cell_type": "code",
   "execution_count": 36,
   "id": "8c4b83b7",
   "metadata": {},
   "outputs": [
    {
     "name": "stdout",
     "output_type": "stream",
     "text": [
      "대문자로 : PYTHON IS EASY. PYTHON IS SMART. PYTHON\n",
      "소문자로 : python is easy. python is smart. python\n",
      "title() : Python Is Easy. Python Is Smart. Python\n",
      "capitalize() : Python is easy. python is smart. python\n",
      "C가 몇번 나오는지 : 0\n",
      "python이 몇번 나오는지 : 3\n",
      "대소문자 구분없이 python이 몇번 : 3\n",
      "대소문자 구분없이 python이 몇번 : 3\n",
      "대소문자 구분없이 python이 몇번 : 3\n",
      "python이 나오는 첫index 위치 : 0\n",
      "python이 나오는 첫index 위치 : 33\n",
      "C가 나오는 index위치 : -1\n",
      "python이 나오는 첫 index 위치 : 0\n",
      "대소문자 구분없이 python으로 시작하는 여부 : True\n",
      "python으로 끝나는지 여부 : True\n",
      "n으로 끝나는지 여부 : True\n",
      "python을 R로 변경 : R is easy. R is smart. R\n",
      "python is easy. python is smart. python\n"
     ]
    }
   ],
   "source": [
    "temp =\"python is easy. python is smart. python\"\n",
    "    #  012345678901234567890123456789012345678\n",
    "\n",
    "print(\"대문자로 :\", temp.upper())\n",
    "print(\"소문자로 :\", temp.lower())\n",
    "print(\"title() :\", temp.title())\n",
    "print(\"capitalize() :\", temp.capitalize())\n",
    "print(\"C가 몇번 나오는지 :\", temp.count(\"C\"))\n",
    "print(\"python이 몇번 나오는지 :\", temp.count(\"python\"))\n",
    "print(\"대소문자 구분없이 python이 몇번 :\", temp.lower().count(\"python\"))\n",
    "print(\"대소문자 구분없이 python이 몇번 :\", temp.upper().count(\"PYTHON\"))\n",
    "print(\"대소문자 구분없이 python이 몇번 :\", temp.title().count(\"Python\"))\n",
    "print(\"python이 나오는 첫index 위치 :\", temp.find(\"python\"))\n",
    "print(\"python이 나오는 첫index 위치 :\", temp.rfind(\"python\"))\n",
    "print(\"C가 나오는 index위치 :\", temp.find(\"C\")) #찾을 문자가 없을 경우 -1\n",
    "print(\"python이 나오는 첫 index 위치 :\", temp.index(\"python\"))\n",
    "# print(\"python이 나오는 첫 index 위치 :\", temp.index(\"java\")) 찾을 문자가 없을 경우 에러\n",
    "print(\"대소문자 구분없이 python으로 시작하는 여부 :\", temp.lower().startswith(\"python\"))\n",
    "print(\"python으로 끝나는지 여부 :\", temp.endswith(\"python\"))\n",
    "print(\"n으로 끝나는지 여부 :\", temp.endswith(\"n\"))\n",
    "print(\"python을 R로 변경 :\", temp.replace(\"python\",\"R\"))\n",
    "print(temp)"
   ]
  },
  {
   "cell_type": "code",
   "execution_count": 47,
   "id": "b9df3d32",
   "metadata": {},
   "outputs": [
    {
     "name": "stdout",
     "output_type": "stream",
     "text": [
      "좌우 공백 제거 : [python is easy]\n",
      "왼쪽 공백 제거 : [python is easy          ]\n",
      "오른쪽 공백 제거 : [      python is easy]\n",
      "isgigit(숫자문자)안지 여부 : False\n",
      "replace후 isdigit : True\n",
      "대문자인지 여부 : False\n",
      "소문자인지 여부 : True\n"
     ]
    }
   ],
   "source": [
    "temp = \"      python is easy          \"\n",
    "notdigit = \"1,000\"\n",
    "print(\"좌우 공백 제거 : [{}]\".format(temp.strip()))\n",
    "print(\"왼쪽 공백 제거 : [{}]\".format(temp.lstrip()))\n",
    "print(\"오른쪽 공백 제거 : [{}]\".format(temp.rstrip()))\n",
    "print(\"isgigit(숫자문자)안지 여부 :\", notdigit.isdigit())\n",
    "print(\"replace후 isdigit :\", notdigit.replace(\",\",\"\").isdigit())\n",
    "print(\"대문자인지 여부 :\", temp.isupper())\n",
    "print(\"소문자인지 여부 :\", temp.islower())"
   ]
  },
  {
   "cell_type": "code",
   "execution_count": 49,
   "id": "08d63c94",
   "metadata": {},
   "outputs": [
    {
     "name": "stdout",
     "output_type": "stream",
     "text": [
      "space단위로 names 분리(list로 반환) :  ['홍길동', '김길동', '박길동', '주길동', '고길동']\n",
      "홍길동 김길동\n"
     ]
    }
   ],
   "source": [
    "names = \"홍길동 김길동     박길동 주길동 고길동\"\n",
    "name_list = names.split()\n",
    "print(\"space단위로 names 분리(list로 반환) : \", names.split())\n",
    "print(name_list[0], name_list[1])"
   ]
  },
  {
   "cell_type": "code",
   "execution_count": 55,
   "id": "b2c88d40",
   "metadata": {},
   "outputs": [
    {
     "name": "stdout",
     "output_type": "stream",
     "text": [
      "['2025', '09', '17']\n",
      "년도 : 2025\n",
      "월 : 09\n",
      "일 : 17\n"
     ]
    }
   ],
   "source": [
    "date_str = \"2025-09-17\"\n",
    "date_list = date_str.split(\"-\")\n",
    "print(date_list)\n",
    "print(\"년도 :\", date_list[0])\n",
    "print(\"월 :\", date_list[1])\n",
    "print(\"일 :\", date_list[2])"
   ]
  },
  {
   "cell_type": "code",
   "execution_count": 56,
   "id": "50153aee",
   "metadata": {},
   "outputs": [
    {
     "data": {
      "text/plain": [
       "('A', 'B', 'C')"
      ]
     },
     "execution_count": 56,
     "metadata": {},
     "output_type": "execute_result"
    }
   ],
   "source": [
    "#str_ = \"ABC\"\n",
    "str _ [\"A\",\"B\",\"C\"]\n",
    "str_[0], str_[1], str_[2]"
   ]
  },
  {
   "cell_type": "code",
   "execution_count": 61,
   "id": "cf6fde45",
   "metadata": {},
   "outputs": [
    {
     "name": "stdout",
     "output_type": "stream",
     "text": [
      "분리된 temp : ['Python', '웹(HTML/CSS/JS)', 'Oracle/MySQL(DBMS) -DL/ML(M ) -LLM(RAG) ']\n",
      "join temp : Python/웹(HTML/CSS/JS)/Oracle/MySQL(DBMS) -DL/ML(M ) -LLM(RAG) \n"
     ]
    }
   ],
   "source": [
    "# '   -   '을 \"/\"로 바꾸기\n",
    "temp = \"Python - 웹(HTML/CSS/JS) - Oracle/MySQL(DBMS) -DL/ML(M ) -LLM(RAG) \"\n",
    "#temp.replace (\" - \",\"/\")\n",
    "#SPLIT() 과 JOIN 이용하여 REPLACD GKA\n",
    "splited_temp = temp.split(\" - \")\n",
    "print('분리된 temp :', splited_temp)\n",
    "joined_temp = \"/\".join(splited_temp) # \"/\"로 매개변수 list를 연결\n",
    "print(\"join temp :\", joined_temp)"
   ]
  },
  {
   "cell_type": "code",
   "execution_count": 63,
   "id": "80e5936a",
   "metadata": {},
   "outputs": [],
   "source": [
    "# 문자열을 다룰 수 있는 함수들 목록\n",
    "#dir(str)\n",
    "\n",
    "\n"
   ]
  },
  {
   "cell_type": "markdown",
   "id": "d63cb990",
   "metadata": {},
   "source": [
    "# 7절. 시간, 날짜 다루기"
   ]
  },
  {
   "cell_type": "code",
   "execution_count": 64,
   "id": "6048f1b1",
   "metadata": {},
   "outputs": [
    {
     "data": {
      "text/plain": [
       "'C:\\\\Users\\\\Admin\\\\anaconda3\\\\lib\\\\datetime.py'"
      ]
     },
     "execution_count": 64,
     "metadata": {},
     "output_type": "execute_result"
    }
   ],
   "source": [
    "import datetime\n",
    "datetime.__file__"
   ]
  },
  {
   "cell_type": "code",
   "execution_count": 66,
   "id": "0ff8f104",
   "metadata": {},
   "outputs": [],
   "source": [
    "# datetime모듈(datetiem.py)안의 datetiem, date, time만 Load\n",
    "from datetime import datetime, date, time"
   ]
  },
  {
   "cell_type": "markdown",
   "id": "61e96d02",
   "metadata": {},
   "source": [
    "## 7.1 시간과 날짜"
   ]
  },
  {
   "cell_type": "code",
   "execution_count": 68,
   "id": "d5da8655",
   "metadata": {},
   "outputs": [
    {
     "data": {
      "text/plain": [
       "datetime.datetime(2025, 9, 11, 9, 30)"
      ]
     },
     "execution_count": 68,
     "metadata": {},
     "output_type": "execute_result"
    }
   ],
   "source": [
    "#특정 시점을 갖는 datetime 객체 생성\n",
    "thatday = datetime(2025,9,11,9,30)\n",
    "thatday"
   ]
  },
  {
   "cell_type": "code",
   "execution_count": 71,
   "id": "7c9a734f",
   "metadata": {},
   "outputs": [
    {
     "name": "stdout",
     "output_type": "stream",
     "text": [
      "25년11월11일(Thursday) 09:30:00\n",
      "25년09월11일(Thursday) 09:30:00\n",
      "Thu Sep 11 09:30:00 2025\n"
     ]
    }
   ],
   "source": [
    "# 날짜를 문자열로 전환\n",
    "print(\"{:%y년%d월%d일(%A) %H:%M:%S}\".format(thatday))\n",
    "print(thatday.strftime(\"%y년%m월%d일(%A) %H:%M:%S\"))\n",
    "print(thatday.ctime()) #ctime() : 사람이 읽기 쉬운 형태로 convert"
   ]
  },
  {
   "cell_type": "code",
   "execution_count": 73,
   "id": "ab96712b",
   "metadata": {},
   "outputs": [
    {
     "name": "stdout",
     "output_type": "stream",
     "text": [
      "2025-09-17 14:24:22.489080\n",
      "Wed Sep 17 14:24:22 2025\n",
      "17Y년09월17일 PM 02:24:22\n"
     ]
    }
   ],
   "source": [
    "# 지금을 저장하는 datetime 객체 생성\n",
    "now = datetime.now()\n",
    "print(now)\n",
    "print(now.ctime())\n",
    "print(now.strftime(\"%dY년%m월%d일 %p %I:%M:%S\"))"
   ]
  },
  {
   "cell_type": "code",
   "execution_count": 75,
   "id": "f131cbf1",
   "metadata": {},
   "outputs": [
    {
     "name": "stdout",
     "output_type": "stream",
     "text": [
      "6 days, 4:54:22.489080\n",
      "6\n"
     ]
    }
   ],
   "source": [
    "diff = now-thatday\n",
    "print(diff)\n",
    "print(diff.days)"
   ]
  },
  {
   "cell_type": "markdown",
   "id": "ad019d95",
   "metadata": {},
   "source": [
    "## 7.2 날짜 "
   ]
  },
  {
   "cell_type": "code",
   "execution_count": 78,
   "id": "b39742d1",
   "metadata": {},
   "outputs": [
    {
     "data": {
      "text/plain": [
       "datetime.date(2025, 9, 11)"
      ]
     },
     "execution_count": 78,
     "metadata": {},
     "output_type": "execute_result"
    }
   ],
   "source": [
    "# 특정한 날짜를 갖는 date 객체 생성\n",
    "someday = date(2025,9,11)\n",
    "someday"
   ]
  },
  {
   "cell_type": "code",
   "execution_count": 85,
   "id": "8152709c",
   "metadata": {},
   "outputs": [
    {
     "name": "stdout",
     "output_type": "stream",
     "text": [
      "2025-09-11\n",
      "2025년 09월 11일 12:00:00\n"
     ]
    }
   ],
   "source": [
    "print(someday)\n",
    "print(someday.strftime(\"%Y년 %m월 %d일 %I:%H:%S\"))"
   ]
  },
  {
   "cell_type": "code",
   "execution_count": 86,
   "id": "56b5ce1c",
   "metadata": {},
   "outputs": [
    {
     "name": "stdout",
     "output_type": "stream",
     "text": [
      "True\n"
     ]
    }
   ],
   "source": [
    "# 오늘을 갖는 date 객체 생성\n",
    "today1 = date.today()\n",
    "today2 = datetime.now().date()\n",
    "print(today1 == today2)"
   ]
  },
  {
   "cell_type": "code",
   "execution_count": 87,
   "id": "815217bb",
   "metadata": {},
   "outputs": [
    {
     "name": "stdout",
     "output_type": "stream",
     "text": [
      "2025년09월17일 00:00\n",
      "2025년09월17일 00:00\n"
     ]
    }
   ],
   "source": [
    "print(today1.strftime(\"%Y년%m월%d일 %H:%M\"))\n",
    "print(today2.strftime(\"%Y년%m월%d일 %H:%M\"))"
   ]
  },
  {
   "cell_type": "code",
   "execution_count": 89,
   "id": "8ab19ac8",
   "metadata": {},
   "outputs": [
    {
     "name": "stdout",
     "output_type": "stream",
     "text": [
      "-6 days, 0:00:00\n",
      "-6\n"
     ]
    }
   ],
   "source": [
    "diff = someday - today1\n",
    "print(diff)\n",
    "print(diff.days)"
   ]
  },
  {
   "cell_type": "markdown",
   "id": "7669caf4",
   "metadata": {},
   "source": [
    "## 7.3시간"
   ]
  },
  {
   "cell_type": "code",
   "execution_count": 93,
   "id": "750c7fe7",
   "metadata": {},
   "outputs": [
    {
     "data": {
      "text/plain": [
       "datetime.time(14, 39)"
      ]
     },
     "execution_count": 93,
     "metadata": {},
     "output_type": "execute_result"
    }
   ],
   "source": [
    "# 특정한 시간을 저장하는 time 객체 생성\n",
    "t = time(14,39,0)\n",
    "t"
   ]
  },
  {
   "cell_type": "code",
   "execution_count": 98,
   "id": "0ab7f655",
   "metadata": {},
   "outputs": [
    {
     "name": "stdout",
     "output_type": "stream",
     "text": [
      "PM 02:39\n"
     ]
    }
   ],
   "source": [
    "# print(t.strftime(\"%Y년 %m월 %d일 %I:%H:%S\"))\n",
    "print(t.strftime(\"%p %I:%M\"))"
   ]
  },
  {
   "cell_type": "code",
   "execution_count": 99,
   "id": "8111960e",
   "metadata": {},
   "outputs": [
    {
     "name": "stdout",
     "output_type": "stream",
     "text": [
      "14:43:35.632861\n"
     ]
    }
   ],
   "source": [
    "# 현재 시간\n",
    "nowtime = datetime.now().time()\n",
    "print(nowtime)"
   ]
  },
  {
   "cell_type": "code",
   "execution_count": 100,
   "id": "388e569b",
   "metadata": {},
   "outputs": [
    {
     "data": {
      "text/plain": [
       "datetime.datetime(1752, 1, 12, 13, 3)"
      ]
     },
     "execution_count": 100,
     "metadata": {},
     "output_type": "execute_result"
    }
   ],
   "source": [
    "datetime(1752,1,12,13,3)"
   ]
  },
  {
   "cell_type": "markdown",
   "id": "7e3af977",
   "metadata": {},
   "source": [
    "# 8절, 연습문제\n",
    "\n"
   ]
  },
  {
   "cell_type": "code",
   "execution_count": 200,
   "id": "e2d4c398",
   "metadata": {},
   "outputs": [
    {
     "name": "stdout",
     "output_type": "stream",
     "text": [
      "홍길동의 나이는 23살입니다\n"
     ]
    }
   ],
   "source": [
    "# 1. [출력형식 : 홍길동님의 나이는 23살입니다]\n",
    "name ='홍길동'\n",
    "age = 23\n",
    "print(\"{}의 나이는 {}살입니다\".format(name,age))"
   ]
  },
  {
   "cell_type": "code",
   "execution_count": 187,
   "id": "f973ea3d",
   "metadata": {},
   "outputs": [
    {
     "name": "stdout",
     "output_type": "stream",
     "text": [
      "a :55\n",
      "b :33\n",
      "88\n",
      "22\n",
      "1815\n",
      "1.6666666666666667\n",
      "1\n",
      "22\n"
     ]
    }
   ],
   "source": [
    "# 2. 정수입력받아 산술연산결과 출력\n",
    "\n",
    "a = int(input(\"a :\"))\n",
    "b = int(input(\"b :\"))\n",
    "\n",
    "print(a + b)\n",
    "print(a - b)\n",
    "print(a * b)\n",
    "print(a / b)\n",
    "print(a // b)\n",
    "print(a % b)"
   ]
  },
  {
   "cell_type": "code",
   "execution_count": 169,
   "id": "eede802d",
   "metadata": {},
   "outputs": [
    {
     "name": "stdout",
     "output_type": "stream",
     "text": [
      "World Hello\n"
     ]
    }
   ],
   "source": [
    "# 3.\n",
    "message = \"Hello World\"\n",
    "message_list = message.split()\n",
    "print(message_list[1], message_list[0])"
   ]
  },
  {
   "cell_type": "code",
   "execution_count": 202,
   "id": "1084168e",
   "metadata": {},
   "outputs": [],
   "source": [
    "#4 x = 'abcdef'를 이용하여 'bcdefa'로 출력하세요\n",
    "\n",
    "x = 'abcdef'\n",
    "#print(x[1:]+x[0])\n",
    "\n",
    "#print(x[1:],x[0],sep='')\n",
    "\n",
    "#print(x[1:6],x[0])"
   ]
  },
  {
   "cell_type": "code",
   "execution_count": 183,
   "id": "b485250d",
   "metadata": {},
   "outputs": [
    {
     "name": "stdout",
     "output_type": "stream",
     "text": [
      "fedcba\n"
     ]
    }
   ],
   "source": [
    "#5 x = 'abcdef'를 이용하여 'fedcba'로 출력하세요\n",
    "print(x[::-1])"
   ]
  },
  {
   "cell_type": "code",
   "execution_count": 207,
   "id": "a6e5967c",
   "metadata": {},
   "outputs": [
    {
     "name": "stdout",
     "output_type": "stream",
     "text": [
      "오늘의 온도:33\n",
      "입력하신 섭씨 33도는 91입니다\n"
     ]
    }
   ],
   "source": [
    "#6 오늘의 온도를 섭씨온도로 입력받아 화씨 온도로 변환하는 프로그램\n",
    "\n",
    "# C = (F-32) / 1.8\n",
    "# F =(C * 1.8) +32\n",
    "\n",
    "temp =int(input(\"오늘의 온도:\"))\n",
    "\n",
    "F = (temp * 1.8) + 32\n",
    "#print(\"입력하신 섭씨 {}도는 {:.2f}입니다\".format(temp,F))\n",
    "\n",
    "if temp % 1 == 0:\n",
    "    print(\"입력하신 섭씨 {}도는 {:.0f}입니다\".format(temp,F))\n",
    "else:\n",
    "    print(\"입력하신 섭씨 {}도는 {:.2f}입니다\".format(temp,F))"
   ]
  },
  {
   "cell_type": "code",
   "execution_count": 117,
   "id": "c60a3e05",
   "metadata": {},
   "outputs": [],
   "source": [
    "#7 변수 선언으로 잘못된것은\n",
    "\n",
    "#for\n",
    "\n",
    "#10th\n",
    "\n",
    "#student.name\n",
    "\n"
   ]
  },
  {
   "cell_type": "code",
   "execution_count": 118,
   "id": "6bcd5644",
   "metadata": {},
   "outputs": [
    {
     "name": "stdout",
     "output_type": "stream",
     "text": [
      "SeounSeoul\n",
      "Seou n Seoul\n"
     ]
    }
   ],
   "source": [
    "# 8 다음 코드의 실행결과는\n",
    "\n",
    "#text = \"Seoul A001 - programming with python\"\n",
    "#print(text[:4] + text[-1] + text.split()[0])\n",
    "#print(text[:4], text[-1], text.split()[0])\n",
    "\n",
    "\n",
    "#SeounSeoul\n",
    "#Seou n Seoul"
   ]
  },
  {
   "cell_type": "code",
   "execution_count": null,
   "id": "3e8dfffd",
   "metadata": {},
   "outputs": [],
   "source": [
    "#9 다음 중 파이썬 3.x버전에서 연산식과 그 결과의 출력이 잘못된 것은?\n",
    "\n",
    "2"
   ]
  },
  {
   "cell_type": "code",
   "execution_count": 154,
   "id": "dd530729",
   "metadata": {},
   "outputs": [],
   "source": [
    "#10 아래 프로그램의 결과는?\n",
    "\n",
    "#타입에러 발생"
   ]
  },
  {
   "cell_type": "code",
   "execution_count": 168,
   "id": "889ce90f",
   "metadata": {},
   "outputs": [
    {
     "name": "stdout",
     "output_type": "stream",
     "text": [
      "나라\n"
     ]
    }
   ],
   "source": [
    "str= \"우리 나라 대한 민국\"\n",
    "str_list = str.split()\n",
    "\n",
    "print(str_list[1])"
   ]
  },
  {
   "cell_type": "code",
   "execution_count": null,
   "id": "6946b2c0",
   "metadata": {},
   "outputs": [],
   "source": []
  }
 ],
 "metadata": {
  "kernelspec": {
   "display_name": "Python 3 (ipykernel)",
   "language": "python",
   "name": "python3"
  },
  "language_info": {
   "codemirror_mode": {
    "name": "ipython",
    "version": 3
   },
   "file_extension": ".py",
   "mimetype": "text/x-python",
   "name": "python",
   "nbconvert_exporter": "python",
   "pygments_lexer": "ipython3",
   "version": "3.10.9"
  },
  "toc": {
   "base_numbering": 1,
   "nav_menu": {},
   "number_sections": false,
   "sideBar": true,
   "skip_h1_title": false,
   "title_cell": "Table of Contents",
   "title_sidebar": "Contents",
   "toc_cell": false,
   "toc_position": {
    "height": "calc(100% - 180px)",
    "left": "10px",
    "top": "150px",
    "width": "165px"
   },
   "toc_section_display": true,
   "toc_window_display": true
  }
 },
 "nbformat": 4,
 "nbformat_minor": 5
}
