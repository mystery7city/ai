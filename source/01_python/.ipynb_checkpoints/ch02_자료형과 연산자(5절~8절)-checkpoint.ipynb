{
 "cells": [
  {
   "cell_type": "code",
   "execution_count": 1,
   "id": "49bc8eb6",
   "metadata": {},
   "outputs": [
    {
     "data": {
      "text/html": [
       "\n",
       "<style>\n",
       "div.container{width:90% !important;}\n",
       "div.cell.code_cell.rendered{width:100%;}\n",
       "div.input_prompt{padding:0px;}\n",
       "div.CodeMirror {font-family:Consolas; font-size:12pt;}\n",
       "div.text_cell_render.rendered_html{font-size:12pt;}\n",
       "div.output {font-size:12pt; font-weight:bold;}\n",
       "div.input {font-family:Consolas; font-size:12pt;}\n",
       "div.prompt {min-width:70px;}\n",
       "div#toc-wrapper{padding-top:120px;}\n",
       "div.text_cell_render ul li{font-size:12pt;padding:5px;}\n",
       "table.dataframe{font-size:12px;}\n",
       "</style>\n"
      ],
      "text/plain": [
       "<IPython.core.display.HTML object>"
      ]
     },
     "metadata": {},
     "output_type": "display_data"
    }
   ],
   "source": [
    "from IPython.display import display, HTML\n",
    "display(HTML(\"\"\"\n",
    "<style>\n",
    "div.container{width:90% !important;}\n",
    "div.cell.code_cell.rendered{width:100%;}\n",
    "div.input_prompt{padding:0px;}\n",
    "div.CodeMirror {font-family:Consolas; font-size:12pt;}\n",
    "div.text_cell_render.rendered_html{font-size:12pt;}\n",
    "div.output {font-size:12pt; font-weight:bold;}\n",
    "div.input {font-family:Consolas; font-size:12pt;}\n",
    "div.prompt {min-width:70px;}\n",
    "div#toc-wrapper{padding-top:120px;}\n",
    "div.text_cell_render ul li{font-size:12pt;padding:5px;}\n",
    "table.dataframe{font-size:12px;}\n",
    "</style>\n",
    "\"\"\"))"
   ]
  },
  {
   "cell_type": "markdown",
   "id": "593248a8",
   "metadata": {},
   "source": [
    "<b><font size=\"6\" color =\"red\" > ch02. 자료형과 연산자 </font></b>\n",
    "# 5절. 연산자\n",
    "## 5.1 산술연산자 : +,-,*,/(결과 float), //(몫), %(나머지), **(제곱)"
   ]
  },
  {
   "cell_type": "code",
   "execution_count": 2,
   "id": "db0fa19f",
   "metadata": {},
   "outputs": [
    {
     "name": "stdout",
     "output_type": "stream",
     "text": [
      "10*5승 = 100000\n",
      "4/2(결과 실수) = 2.5\n",
      "5//2(몫) = 2\n",
      "5%2(나머지) = 1\n"
     ]
    }
   ],
   "source": [
    "print(\"10*5승 =\", 10 ** 5)\n",
    "print(\"4/2(결과 실수) =\", 5 / 2)\n",
    "print(\"5//2(몫) =\", 5 // 2)\n",
    "print(\"5%2(나머지) =\", 5 % 2)"
   ]
  },
  {
   "cell_type": "code",
   "execution_count": 3,
   "id": "4d927890",
   "metadata": {},
   "outputs": [
    {
     "name": "stdout",
     "output_type": "stream",
     "text": [
      "4**2 = 16\n"
     ]
    }
   ],
   "source": [
    "# 정수끼리 연산은 결과가 정수(단 / 제외)\n",
    "# 정수와 실수, 실수끼리 연산 결과는 실수\n",
    "print(\"4**2 =\", 4**2)"
   ]
  },
  {
   "cell_type": "code",
   "execution_count": 4,
   "id": "704ef182",
   "metadata": {},
   "outputs": [
    {
     "name": "stdout",
     "output_type": "stream",
     "text": [
      "정수를 입력하세요:8\n",
      "입력하신 수는 8, 2로 나눈 나머지는 0라서 짝수를 입력하셨습니다\n"
     ]
    }
   ],
   "source": [
    "# quiz1 정수를 입력받아 짝수인지 홀수인지 여부를 출력\n",
    "num = int(input(\"정수를 입력하세요:\"))\n",
    "result = num % 2 # -1, 0, 1\n",
    "if result:\n",
    "    temp = \"홀수\"\n",
    "else:\n",
    "    temp = \"짝수\"\n",
    "    \n",
    "print(f\"입력하신 수는 {num}, 2로 나눈 나머지는 {result}라서 {temp}를 입력하셨습니다\")"
   ]
  },
  {
   "cell_type": "code",
   "execution_count": 3,
   "id": "b787f6e9",
   "metadata": {},
   "outputs": [
    {
     "name": "stdout",
     "output_type": "stream",
     "text": [
      "정수를 입력하세요 : 55\n",
      "입력받은 수는 55, 5로 나눈 나머지는 0라서 5의 배수를 입력하셨습니다\n"
     ]
    }
   ],
   "source": [
    "# quiz2 정수를 입력받아 5의 배수인지 여부를 출력\n",
    "num = int(input(\"정수를 입력하세요 : \"))\n",
    "if num % 5:\n",
    "    temp = \"5의 배수가 아님\"\n",
    "else:\n",
    "    temp = \"5의 배수\"\n",
    "    \n",
    "print(f\"입력받은 수는 {num}, 5로 나눈 나머지는 {num % 5}라서 {temp}를 입력하셨습니다\")    "
   ]
  },
  {
   "cell_type": "code",
   "execution_count": 6,
   "id": "89aafa1c",
   "metadata": {},
   "outputs": [
    {
     "name": "stdout",
     "output_type": "stream",
     "text": [
      "국어 점수를 입력하세요:44\n",
      "영어 점수를 입력하세요:55\n",
      "수학 점수를 입력하세요:6\n"
     ]
    }
   ],
   "source": [
    "### quiz3 국어, 영, 수 점수를 입력받아 다음셀에서 다음과 같이 출력하도록 구현하시오\n",
    "# 99 100 100 299 99.7\n",
    "lang = int(input(\"국어 점수를 입력하세요:\"))\n",
    "eng = int(input(\"영어 점수를 입력하세요:\"))\n",
    "math = int(input(\"수학 점수를 입력하세요:\"))\n",
    "sum =lang + eng + math\n",
    "avg = sum / 3\n",
    "\n"
   ]
  },
  {
   "cell_type": "code",
   "execution_count": 53,
   "id": "a73817f7",
   "metadata": {},
   "outputs": [
    {
     "name": "stdout",
     "output_type": "stream",
     "text": [
      "국어 : 44 \t 영어 :  55 \t 수학:  6\n",
      "총점 : 105 \t 평균 :  35.0\n"
     ]
    }
   ],
   "source": [
    "print(\"국어 :{:3d} \\t 영어 : {:3d} \\t 수학:{:3d}\".format(lang,eng,math))\n",
    "print(\"총점 :{:4d} \\t 평균 : {:5.1f}\".format(sum,avg))"
   ]
  },
  {
   "cell_type": "markdown",
   "id": "53f608e4",
   "metadata": {},
   "source": [
    "## 5.2 할당연산자 : =, +=, -=,/=,*=,//=,%="
   ]
  },
  {
   "cell_type": "code",
   "execution_count": 77,
   "id": "11d10c6a",
   "metadata": {},
   "outputs": [
    {
     "name": "stdout",
     "output_type": "stream",
     "text": [
      " a = 15\n"
     ]
    }
   ],
   "source": [
    "a = 10\n",
    "a += 5 # a = a + 5\n",
    "print(f\" a = {a}\")"
   ]
  },
  {
   "cell_type": "code",
   "execution_count": 78,
   "id": "208fd664",
   "metadata": {},
   "outputs": [
    {
     "name": "stdout",
     "output_type": "stream",
     "text": [
      "5빼기 :  10\n",
      "10배 :  100\n",
      "5 나눈 몫 :  20\n"
     ]
    }
   ],
   "source": [
    "a -= 5\n",
    "print(\"5빼기 : \",a)\n",
    "a *= 10\n",
    "print(\"10배 : \",a)\n",
    "a //= 5 # a = a // 5\n",
    "print(\"5 나눈 몫 : \",a)"
   ]
  },
  {
   "cell_type": "markdown",
   "id": "d7fb0c00",
   "metadata": {},
   "source": [
    "## 5.3 논리연산자 : &, and, |, or, not"
   ]
  },
  {
   "cell_type": "code",
   "execution_count": 82,
   "id": "47472fa1",
   "metadata": {},
   "outputs": [
    {
     "name": "stdout",
     "output_type": "stream",
     "text": [
      "True\n",
      "0\n",
      "1100\n"
     ]
    }
   ],
   "source": [
    "# & : 논리연산자, 비트연산자\n",
    "print((10 > 3) & (10 > 5)) #논리연산 True & True\n",
    "print(12 & 1) # 비트 연산 1 1 0 0 (12)\n",
    "                    #    0 0 0 1 (1)\n",
    "                    #    0 0 0 0\n",
    "print(\"{:4b}\".format(12))"
   ]
  },
  {
   "cell_type": "code",
   "execution_count": 85,
   "id": "819e7cf3",
   "metadata": {},
   "outputs": [
    {
     "name": "stdout",
     "output_type": "stream",
     "text": [
      "True\n",
      "0\n"
     ]
    }
   ],
   "source": [
    "# and : 논리연산자. False로 판별되는 첫번째 항의 결과 반환\n",
    "        # 모든 항이 True면, 마지막항의 결과 밤ㄴ환\n",
    "print((10 > 3) and (10 > 5))\n",
    "print(0 and 1)\n"
   ]
  },
  {
   "cell_type": "code",
   "execution_count": 101,
   "id": "55158b10",
   "metadata": {},
   "outputs": [
    {
     "name": "stdout",
     "output_type": "stream",
     "text": [
      "논리연산(연산자 앞뒤에 논리형일 때) : True\n",
      "비트연산(연산자 앞이나 뒤에 숫자일 때) : 3\n"
     ]
    }
   ],
   "source": [
    "# | : 논리연산, 비트연산 \n",
    "result = True | False\n",
    "print(\"논리연산(연산자 앞뒤에 논리형일 때) :\", result)\n",
    "result = False | 3 # 0000 (0)\n",
    "                   # 0011 (3)         \n",
    "print('비트연산(연산자 앞이나 뒤에 숫자일 때) :', result)"
   ]
  },
  {
   "cell_type": "code",
   "execution_count": 104,
   "id": "e5214a1b",
   "metadata": {},
   "outputs": [
    {
     "name": "stdout",
     "output_type": "stream",
     "text": [
      "[]\n",
      "Hong\n"
     ]
    }
   ],
   "source": [
    "# or : 논리연산. 참으로 판별되는 첫번째 항의 결과 반환\n",
    "       # 모든 항이 거짓이면 마지막항의 결과 반환\n",
    "print(False or 0 or \"\" or None or [])\n",
    "print(False or 0 or \"Hong\" or None or [])"
   ]
  },
  {
   "cell_type": "code",
   "execution_count": 105,
   "id": "2c14e966",
   "metadata": {},
   "outputs": [
    {
     "data": {
      "text/plain": [
       "False"
      ]
     },
     "execution_count": 105,
     "metadata": {},
     "output_type": "execute_result"
    }
   ],
   "source": [
    "not 10> 5"
   ]
  },
  {
   "cell_type": "markdown",
   "id": "303e944d",
   "metadata": {},
   "source": [
    "## 5.4 비교연산자 : >, >=, <. <=, ==(같다), !=(다르다)"
   ]
  },
  {
   "cell_type": "code",
   "execution_count": 110,
   "id": "4fce80cb",
   "metadata": {},
   "outputs": [
    {
     "name": "stdout",
     "output_type": "stream",
     "text": [
      "True\n",
      "True\n",
      "True\n"
     ]
    }
   ],
   "source": [
    "# 비교연산자는 이항 , 삼항 , 사항 , ..... 다항연산자\n",
    "x = 95\n",
    "print( (90 <= x) & (x <= 100))\n",
    "print( 90 <= x <= 100)\n",
    "print( 90 <= x <= 100 > 10)"
   ]
  },
  {
   "cell_type": "code",
   "execution_count": 113,
   "id": "e53eec0f",
   "metadata": {},
   "outputs": [
    {
     "name": "stdout",
     "output_type": "stream",
     "text": [
      "True\n",
      "False\n",
      "False\n"
     ]
    }
   ],
   "source": [
    "# 비교연산자의 우선순의가 비트연산자(|,&)의 우선순위보다 낮다\n",
    "print((10 > 5) & (10 > 7))\n",
    "print(10 > 5 & 10 > 7) # 괄호가 없으면 우선순위가 높은 5&10부터 실행\n",
    "print( 10 > 0 > 7)\n",
    "# 0101(5) 1010(10)"
   ]
  },
  {
   "cell_type": "code",
   "execution_count": null,
   "id": "49ac2784",
   "metadata": {},
   "outputs": [],
   "source": []
  },
  {
   "cell_type": "code",
   "execution_count": 116,
   "id": "c4258657",
   "metadata": {},
   "outputs": [
    {
     "name": "stdout",
     "output_type": "stream",
     "text": [
      "True\n"
     ]
    }
   ],
   "source": [
    "address = \"목동\"\n",
    "age = 29\n",
    "print((address == \"목동\") & (age <= 30))"
   ]
  },
  {
   "cell_type": "code",
   "execution_count": 117,
   "id": "e4f913a5",
   "metadata": {},
   "outputs": [
    {
     "data": {
      "text/plain": [
       "True"
      ]
     },
     "execution_count": 117,
     "metadata": {},
     "output_type": "execute_result"
    }
   ],
   "source": [
    "# 문자는 ASCII 코드 순으로 비교:\n",
    "\"scott\" < \"tiger\""
   ]
  },
  {
   "cell_type": "code",
   "execution_count": null,
   "id": "39435e9e",
   "metadata": {},
   "outputs": [],
   "source": [
    "\"김길동\" < \"홍길동\""
   ]
  },
  {
   "cell_type": "markdown",
   "id": "661ef293",
   "metadata": {},
   "source": [
    "## 5.5 비트연산 : & , | , ^ (XOR), ~ (반대)"
   ]
  },
  {
   "cell_type": "code",
   "execution_count": null,
   "id": "331793b4",
   "metadata": {},
   "outputs": [],
   "source": []
  },
  {
   "cell_type": "code",
   "execution_count": null,
   "id": "8a7d9b50",
   "metadata": {},
   "outputs": [],
   "source": []
  },
  {
   "cell_type": "code",
   "execution_count": null,
   "id": "17449f97",
   "metadata": {},
   "outputs": [],
   "source": []
  },
  {
   "cell_type": "code",
   "execution_count": null,
   "id": "ccd65a86",
   "metadata": {},
   "outputs": [],
   "source": []
  },
  {
   "cell_type": "code",
   "execution_count": null,
   "id": "8c4b83b7",
   "metadata": {},
   "outputs": [],
   "source": []
  },
  {
   "cell_type": "code",
   "execution_count": null,
   "id": "b9df3d32",
   "metadata": {},
   "outputs": [],
   "source": []
  },
  {
   "cell_type": "code",
   "execution_count": null,
   "id": "b2c88d40",
   "metadata": {},
   "outputs": [],
   "source": []
  }
 ],
 "metadata": {
  "kernelspec": {
   "display_name": "Python 3 (ipykernel)",
   "language": "python",
   "name": "python3"
  },
  "language_info": {
   "codemirror_mode": {
    "name": "ipython",
    "version": 3
   },
   "file_extension": ".py",
   "mimetype": "text/x-python",
   "name": "python",
   "nbconvert_exporter": "python",
   "pygments_lexer": "ipython3",
   "version": "3.10.9"
  },
  "toc": {
   "base_numbering": 1,
   "nav_menu": {},
   "number_sections": false,
   "sideBar": true,
   "skip_h1_title": false,
   "title_cell": "Table of Contents",
   "title_sidebar": "Contents",
   "toc_cell": false,
   "toc_position": {
    "height": "calc(100% - 180px)",
    "left": "10px",
    "top": "150px",
    "width": "165px"
   },
   "toc_section_display": true,
   "toc_window_display": true
  }
 },
 "nbformat": 4,
 "nbformat_minor": 5
}
