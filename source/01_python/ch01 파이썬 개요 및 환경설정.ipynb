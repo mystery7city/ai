{
 "cells": [
  {
   "cell_type": "code",
   "execution_count": 8,
   "id": "1bd5877b",
   "metadata": {},
   "outputs": [
    {
     "data": {
      "text/html": [
       "\n",
       "<style>\n",
       "div.container{width:90% !important;}\n",
       "div.cell.code_cell.rendered{width:100%;}\n",
       "div.input_prompt{padding:0px;}\n",
       "div.CodeMirror {font-family:Consolas; font-size:12pt;}\n",
       "div.text_cell_render.rendered_html{font-size:12pt;}\n",
       "div.output {font-size:12pt; font-weight:bold;}\n",
       "div.input {font-family:Consolas; font-size:12pt;}\n",
       "div.prompt {min-width:70px;}\n",
       "div#toc-wrapper{padding-top:120px;}\n",
       "div.text_cell_render ul li{font-size:12pt;padding:5px;}\n",
       "table.dataframe{font-size:12px;}\n",
       "</style>\n"
      ],
      "text/plain": [
       "<IPython.core.display.HTML object>"
      ]
     },
     "metadata": {},
     "output_type": "display_data"
    }
   ],
   "source": [
    "from IPython.display import display, HTML\n",
    "display(HTML(\"\"\"\n",
    "<style>\n",
    "div.container{width:90% !important;}\n",
    "div.cell.code_cell.rendered{width:100%;}\n",
    "div.input_prompt{padding:0px;}\n",
    "div.CodeMirror {font-family:Consolas; font-size:12pt;}\n",
    "div.text_cell_render.rendered_html{font-size:12pt;}\n",
    "div.output {font-size:12pt; font-weight:bold;}\n",
    "div.input {font-family:Consolas; font-size:12pt;}\n",
    "div.prompt {min-width:70px;}\n",
    "div#toc-wrapper{padding-top:120px;}\n",
    "div.text_cell_render ul li{font-size:12pt;padding:5px;}\n",
    "table.dataframe{font-size:12px;}\n",
    "</style>\n",
    "\"\"\"))\n"
   ]
  },
  {
   "cell_type": "markdown",
   "id": "04b11bac",
   "metadata": {},
   "source": [
    "<b><font size=\"6\" color =\"red\" > ch01. 파이썬 개요 및 환경 설정</font></b>\n",
    "\n",
    "# 1. 마크다운이란?\n",
    "- 코드와 함게 문서화를 할 수 있음\n",
    "- 다양한 문서와 문법 ex. README.md\n",
    "\n",
    "# 2. 주피터 노트북 사용법(큰제목)\n",
    "- shift+Enter : 포커스된 셀이 실행되고, 커서가 다음셀로 이동\n",
    "- alt + Enter: 포커스된 셀이 실행되고, 다음셀이 생성된 후, 다음셀로 이동\n",
    "- ctrl + Enter : 포커스된 셀이 실행되고, 포커스 이동이 없음\n",
    "- Enter : 다시 편집 상태로 돌아감"
   ]
  },
  {
   "cell_type": "code",
   "execution_count": 9,
   "id": "c45013c5",
   "metadata": {},
   "outputs": [],
   "source": [
    "# 셀 하나하나에 파이썬 소스 입력 -> 실행"
   ]
  },
  {
   "cell_type": "code",
   "execution_count": 5,
   "id": "e41fb9f3",
   "metadata": {},
   "outputs": [
    {
     "name": "stdout",
     "output_type": "stream",
     "text": [
      "Hello, Python\n",
      "홍길동\n"
     ]
    }
   ],
   "source": [
    "# print() 함수를 이용해서 출력 (블럭잡고 ctrl + / : 블럭주석 토글)\n",
    "# print(\"Hello Python\")\n",
    "# print(\"홍길동\")\n",
    "print(\"Hello, Python\\n홍길동\")"
   ]
  },
  {
   "cell_type": "code",
   "execution_count": 7,
   "id": "df14b83e",
   "metadata": {},
   "outputs": [
    {
     "name": "stdout",
     "output_type": "stream",
     "text": [
      "27\n",
      "252\n"
     ]
    }
   ],
   "source": [
    "age = 25 # 숫자\n",
    "duration = \"2\" #문자\n",
    "print(age + int(duration))\n",
    "print(str(age) + duration)"
   ]
  },
  {
   "cell_type": "code",
   "execution_count": 12,
   "id": "14a48002",
   "metadata": {},
   "outputs": [
    {
     "name": "stdout",
     "output_type": "stream",
     "text": [
      "0\n",
      "1\n",
      "2\n",
      "3\n",
      "4\n",
      "5\n",
      "6\n",
      "7\n",
      "8\n",
      "9\n"
     ]
    }
   ],
   "source": [
    "for i in range(10):\n",
    "    print(i)\n",
    "# stop기능\n",
    "# kernel 메뉴의 Restart"
   ]
  },
  {
   "cell_type": "code",
   "execution_count": 13,
   "id": "4be3fe0a",
   "metadata": {},
   "outputs": [
    {
     "data": {
      "text/plain": [
       "5"
      ]
     },
     "execution_count": 13,
     "metadata": {},
     "output_type": "execute_result"
    }
   ],
   "source": [
    "print = 5\n",
    "print"
   ]
  },
  {
   "cell_type": "markdown",
   "id": "4c101177",
   "metadata": {},
   "source": [
    "#실수로 할당된 print 변수를 삭제\n",
    "del print\n",
    "실수로 할당된 print 변수를 삭제2 : kernel 재시작"
   ]
  },
  {
   "cell_type": "code",
   "execution_count": 15,
   "id": "8adf8423",
   "metadata": {},
   "outputs": [
    {
     "name": "stdout",
     "output_type": "stream",
     "text": [
      "Hello\n"
     ]
    }
   ],
   "source": [
    "print(\"Hello\")"
   ]
  },
  {
   "cell_type": "markdown",
   "id": "80b68bf3",
   "metadata": {},
   "source": [
    "# 3. ESC키 누르고\n",
    "- dd : 셀삭제\n",
    "- -a : 윗셀 추가\n",
    "- b : 아렛셀 추가\n",
    "- m :마크다운 셀로 변경\n",
    "- y : 코드셀로 변경\n",
    "- h : 핫키(단축키) 안내\n",
    "- o : 해당셀의 실행결과 접기/펴기"
   ]
  },
  {
   "cell_type": "code",
   "execution_count": 16,
   "id": "78f15120",
   "metadata": {},
   "outputs": [
    {
     "name": "stdout",
     "output_type": "stream",
     "text": [
      " C 드라이브의 볼륨에는 이름이 없습니다.\n",
      " 볼륨 일련 번호: A014-DCD6\n",
      "\n",
      " C:\\ai\\source\\01_python 디렉터리\n",
      "\n",
      "2025-09-12  오전 10:49    <DIR>          .\n",
      "2025-09-12  오전 10:49    <DIR>          ..\n",
      "2025-09-12  오전 10:06    <DIR>          .ipynb_checkpoints\n",
      "2025-09-12  오전 10:49             6,018 ch01 파이썬 개요 및 환경설정.ipynb\n",
      "2025-09-12  오전 09:43                72 Untitled.ipynb\n",
      "2025-09-12  오전 09:44                72 Untitled1.ipynb\n",
      "               3개 파일               6,162 바이트\n",
      "               3개 디렉터리  164,892,725,248 바이트 남음\n"
     ]
    }
   ],
   "source": [
    "# !주피터노트북에서 cmd명령어 수행\n",
    "! dir"
   ]
  },
  {
   "cell_type": "code",
   "execution_count": 17,
   "id": "cb8f7d7a",
   "metadata": {},
   "outputs": [
    {
     "name": "stdout",
     "output_type": "stream",
     "text": [
      " C 드라이브의 볼륨에는 이름이 없습니다.\n",
      " 볼륨 일련 번호: A014-DCD6\n",
      "\n",
      " C:\\ai\\source\\01_python 디렉터리\n",
      "\n",
      "2025-09-12  오전 10:53    <DIR>          .\n",
      "2025-09-12  오전 10:53    <DIR>          ..\n",
      "2025-09-12  오전 10:06    <DIR>          .ipynb_checkpoints\n",
      "2025-09-12  오전 10:53             7,306 ch01 파이썬 개요 및 환경설정.ipynb\n",
      "2025-09-12  오전 09:43                72 Untitled.ipynb\n",
      "2025-09-12  오전 09:44                72 Untitled1.ipynb\n",
      "               3개 파일               7,450 바이트\n",
      "               3개 디렉터리  164,893,040,640 바이트 남음\n"
     ]
    }
   ],
   "source": [
    "# 매직 명령어(주피터 노트북 자체 명령어)\n",
    "%ls"
   ]
  },
  {
   "cell_type": "code",
   "execution_count": null,
   "id": "4776401e",
   "metadata": {},
   "outputs": [],
   "source": []
  }
 ],
 "metadata": {
  "kernelspec": {
   "display_name": "Python 3 (ipykernel)",
   "language": "python",
   "name": "python3"
  },
  "language_info": {
   "codemirror_mode": {
    "name": "ipython",
    "version": 3
   },
   "file_extension": ".py",
   "mimetype": "text/x-python",
   "name": "python",
   "nbconvert_exporter": "python",
   "pygments_lexer": "ipython3",
   "version": "3.10.9"
  },
  "toc": {
   "base_numbering": 1,
   "nav_menu": {},
   "number_sections": true,
   "sideBar": true,
   "skip_h1_title": false,
   "title_cell": "Table of Contents",
   "title_sidebar": "Contents",
   "toc_cell": false,
   "toc_position": {
    "height": "calc(100% - 180px)",
    "left": "10px",
    "top": "150px",
    "width": "165px"
   },
   "toc_section_display": true,
   "toc_window_display": true
  }
 },
 "nbformat": 4,
 "nbformat_minor": 5
}
