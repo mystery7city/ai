{
 "cells": [
  {
   "cell_type": "code",
   "execution_count": 1,
   "id": "8153dc4c",
   "metadata": {},
   "outputs": [
    {
     "data": {
      "text/html": [
       "\n",
       "<style>\n",
       "div.container{width:90% !important;}\n",
       "div.cell.code_cell.rendered{width:100%;}\n",
       "div.input_prompt{padding:0px;}\n",
       "div.CodeMirror {font-family:Consolas; font-size:16pt;}\n",
       "div.text_cell_render.rendered_html{font-size:12pt;}\n",
       "div.output {font-size:12pt; font-weight:bold;}\n",
       "div.input {font-family:Consolas; font-size:12pt;}\n",
       "div.prompt {min-width:70px;}\n",
       "div#toc-wrapper{padding-top:120px;}\n",
       "div.text_cell_render ul li{font-size:12pt;padding:5px;}\n",
       "table.dataframe{font-size:12px;}\n",
       "</style>\n"
      ],
      "text/plain": [
       "<IPython.core.display.HTML object>"
      ]
     },
     "metadata": {},
     "output_type": "display_data"
    }
   ],
   "source": [
    "from IPython.display import display, HTML\n",
    "display(HTML(\"\"\"\n",
    "<style>\n",
    "div.container{width:90% !important;}\n",
    "div.cell.code_cell.rendered{width:100%;}\n",
    "div.input_prompt{padding:0px;}\n",
    "div.CodeMirror {font-family:Consolas; font-size:16pt;}\n",
    "div.text_cell_render.rendered_html{font-size:12pt;}\n",
    "div.output {font-size:12pt; font-weight:bold;}\n",
    "div.input {font-family:Consolas; font-size:12pt;}\n",
    "div.prompt {min-width:70px;}\n",
    "div#toc-wrapper{padding-top:120px;}\n",
    "div.text_cell_render ul li{font-size:12pt;padding:5px;}\n",
    "table.dataframe{font-size:12px;}\n",
    "</style>\n",
    "\"\"\"))"
   ]
  },
  {
   "cell_type": "markdown",
   "id": "4bd35d19",
   "metadata": {},
   "source": [
    "<b><font size=\"6\" color =\"red\" > ch03. 데이터구조 </font></b>\n",
    "- 리스트[1,2, 'a'], 튜플(1,2), 딕셔너리{\"name\":\"홍\",\"score\":99}, 셋{10,20}\n",
    "\n",
    "# 1절 리스트\n",
    "## 1.1 리스트 만들기\n",
    "- []를 이요해서 만들며, 여러개 값(여러 타입)을 하나의 변수에 저장/관리할 수 있음\n",
    "- list()함수 이용도 가능\n",
    "- 인덱스 : 각 요서의 위치. 인덱스는 0부터 시작. 맨마지막 인덱스는 -1\n",
    "- 슬라이싱([from:to:step]) : 부분 데이터셋 추출\n",
    "- 인덱스와 슬라이싱을 이용해서 쓰기와 읽기 지원"
   ]
  },
  {
   "cell_type": "code",
   "execution_count": 12,
   "id": "93238ddc",
   "metadata": {},
   "outputs": [
    {
     "data": {
      "text/plain": [
       "list"
      ]
     },
     "execution_count": 12,
     "metadata": {},
     "output_type": "execute_result"
    }
   ],
   "source": [
    "fruit = 'banana'\n",
    "fruits = ['banana','apple', 'orange','grape']\n",
    "type(fruits)"
   ]
  },
  {
   "cell_type": "code",
   "execution_count": 13,
   "id": "1c4e0f81",
   "metadata": {},
   "outputs": [
    {
     "name": "stdout",
     "output_type": "stream",
     "text": [
      "['banana', 'apple', 'orange', 'grape']\n",
      "banana\n"
     ]
    }
   ],
   "source": [
    "print(fruits)\n",
    "print(fruits[0]) #인덱싱을 이용한 읽기\n",
    "# print(fruits[4]) 없는 인덱싱시 에러"
   ]
  },
  {
   "cell_type": "code",
   "execution_count": 14,
   "id": "ba90425d",
   "metadata": {},
   "outputs": [
    {
     "name": "stdout",
     "output_type": "stream",
     "text": [
      "['mango', 'apple', 'orange', 'grape']\n"
     ]
    }
   ],
   "source": [
    "fruits[0] = 'mango' #인덱싱을 이용한 쓰기\n",
    "print(fruits)"
   ]
  },
  {
   "cell_type": "code",
   "execution_count": 15,
   "id": "0cbe6c4f",
   "metadata": {},
   "outputs": [
    {
     "name": "stdout",
     "output_type": "stream",
     "text": [
      "x=mango\n",
      "z=orange\n"
     ]
    }
   ],
   "source": [
    "fruits = ['mango', 'apple', 'orange']\n",
    "x,y,z = ['mango', 'apple', 'orange']\n",
    "print(\"x={}\".format(x))\n",
    "print(f\"z={z}\")"
   ]
  },
  {
   "cell_type": "code",
   "execution_count": 1,
   "id": "435a0e84",
   "metadata": {},
   "outputs": [],
   "source": [
    "fruits = ['mango', 'apple', ' orage']"
   ]
  },
  {
   "cell_type": "code",
   "execution_count": 19,
   "id": "9d8627e2",
   "metadata": {},
   "outputs": [
    {
     "data": {
      "text/plain": [
       "range(0, 10)"
      ]
     },
     "execution_count": 19,
     "metadata": {},
     "output_type": "execute_result"
    }
   ],
   "source": [
    "\n",
    "# range(from,to) : from부터 to앞까지 by씩 증가하는 나열 가능한 자료\n",
    "        # 숫자를 순차적으로 사용할 수 있게\n",
    "        # from 생략시 0, by 생략시 1\n",
    "range(10) # [0,1,2,3,4,5,6,7,8,9]\n"
   ]
  },
  {
   "cell_type": "code",
   "execution_count": 20,
   "id": "047e5c80",
   "metadata": {},
   "outputs": [
    {
     "data": {
      "text/plain": [
       "[0, 1, 2, 3, 4, 5, 6, 7, 8, 9]"
      ]
     },
     "execution_count": 20,
     "metadata": {},
     "output_type": "execute_result"
    }
   ],
   "source": [
    "list(range(10))"
   ]
  },
  {
   "cell_type": "code",
   "execution_count": 22,
   "id": "26530c3d",
   "metadata": {},
   "outputs": [
    {
     "data": {
      "text/plain": [
       "[10, 8, 6, 4, 2, 0]"
      ]
     },
     "execution_count": 22,
     "metadata": {},
     "output_type": "execute_result"
    }
   ],
   "source": [
    "\n",
    "list(range(10,-1,-2))"
   ]
  },
  {
   "cell_type": "code",
   "execution_count": 28,
   "id": "9bad0fb0",
   "metadata": {},
   "outputs": [
    {
     "name": "stdout",
     "output_type": "stream",
     "text": [
      "0\n",
      "1\n",
      "2\n",
      "3\n",
      "4\n",
      "5\n",
      "6\n",
      "7\n",
      "8\n",
      "9\n"
     ]
    }
   ],
   "source": [
    "for i in range(10):\n",
    "    print(i)"
   ]
  },
  {
   "cell_type": "code",
   "execution_count": 35,
   "id": "73191132",
   "metadata": {},
   "outputs": [
    {
     "name": "stdout",
     "output_type": "stream",
     "text": [
      "0번째 과일은 mango\n",
      "1번째 과일은 apple\n",
      "2번째 과일은 orange\n"
     ]
    }
   ],
   "source": [
    "fruits = ['mango', 'apple', 'orange']\n",
    "#print(\"{}번째 과일은 {}\".format(0,fruits[0]))\n",
    "#print(\"{}번째 과일은 {}\".format(1,fruits[1]))                                    \n",
    "#print(\"{}번째 과일은 {}\".format(2,fruits[2]))       \n",
    "for idx in range(len(fruits )):\n",
    "    print(\"{}번째 과일은 {}\".format(idx,fruits[idx]))"
   ]
  },
  {
   "cell_type": "code",
   "execution_count": 36,
   "id": "734a6016",
   "metadata": {},
   "outputs": [
    {
     "data": {
      "text/plain": [
       "[(0, 'mango'), (1, 'apple'), (2, 'orange')]"
      ]
     },
     "execution_count": 36,
     "metadata": {},
     "output_type": "execute_result"
    }
   ],
   "source": [
    "list(enumerate(fruits))"
   ]
  },
  {
   "cell_type": "code",
   "execution_count": 42,
   "id": "c03467cb",
   "metadata": {},
   "outputs": [
    {
     "name": "stdout",
     "output_type": "stream",
     "text": [
      "0번째 과일은mango\n",
      "1번째 과일은apple\n",
      "2번째 과일은orange\n"
     ]
    }
   ],
   "source": [
    "for i, fruit in enumerate(fruits): #[(0, 'mango'), (1, 'apple'), (2, 'orange')]\n",
    "    print(f\"{i}번째 과일은{fruit}\")"
   ]
  },
  {
   "cell_type": "code",
   "execution_count": 44,
   "id": "83f3cf2a",
   "metadata": {},
   "outputs": [
    {
     "name": "stdout",
     "output_type": "stream",
     "text": [
      "mango입니다\n",
      "apple입니다\n",
      "orange입니다\n"
     ]
    }
   ],
   "source": [
    "for fruit in fruits: # ['mango','apple','orange']\n",
    "    print(f\"{fruit}입니다\")"
   ]
  },
  {
   "cell_type": "code",
   "execution_count": 51,
   "id": "4ae26268",
   "metadata": {},
   "outputs": [
    {
     "data": {
      "text/plain": [
       "('2', 5)"
      ]
     },
     "execution_count": 51,
     "metadata": {},
     "output_type": "execute_result"
    }
   ],
   "source": [
    "# 리스트는 여러 타입의 데이터를 담을 수 있음\n",
    "numbers = [0, True, \"2\",[2,3],[4,5,6]]\n",
    "numbers[2], numbers[4][1]"
   ]
  },
  {
   "cell_type": "code",
   "execution_count": 52,
   "id": "7c4f53fd",
   "metadata": {},
   "outputs": [
    {
     "name": "stdout",
     "output_type": "stream",
     "text": [
      "[[1, 2, 3, 4, 5], [10, 20, 30, 40, 50], [1, 3, 5, 7, 9], [2, 4, 6, 8, 10]]\n"
     ]
    }
   ],
   "source": [
    "# 2차원 리스트\n",
    "numbers = [1,2,3,4,5]\n",
    "         # 0행 1열 2열 3열 4열\n",
    "numbers_2d = [[1,2,3,4,5], #행\n",
    "              [10,20,30,40,50], # 1행\n",
    "              [1,3,5,7,9], # 2행\n",
    "              [2,4,6,8,10]] #3행\n",
    "print(numbers_2d)"
   ]
  },
  {
   "cell_type": "code",
   "execution_count": 54,
   "id": "ec40640a",
   "metadata": {},
   "outputs": [
    {
     "data": {
      "text/plain": [
       "50"
      ]
     },
     "execution_count": 54,
     "metadata": {},
     "output_type": "execute_result"
    }
   ],
   "source": [
    "# 특정행, 특정열 데이터 인덱싱\n",
    "numbers_2d[1][4]"
   ]
  },
  {
   "cell_type": "code",
   "execution_count": 55,
   "id": "e61ac8c0",
   "metadata": {},
   "outputs": [
    {
     "name": "stdout",
     "output_type": "stream",
     "text": [
      "4 5\n"
     ]
    }
   ],
   "source": [
    "print(len(numbers_2d), len(numbers_2d[0]))"
   ]
  },
  {
   "cell_type": "code",
   "execution_count": 58,
   "id": "2d524bd0",
   "metadata": {},
   "outputs": [
    {
     "name": "stdout",
     "output_type": "stream",
     "text": [
      "1\t2\t3\t4\t5\t\n",
      "10\t20\t30\t40\t50\t\n",
      "1\t3\t5\t7\t9\t\n",
      "2\t4\t6\t8\t10\t\n"
     ]
    }
   ],
   "source": [
    "for row in numbers_2d:\n",
    "    for item in row:\n",
    "        print(item, end ='\\t')\n",
    "    print()"
   ]
  },
  {
   "cell_type": "code",
   "execution_count": 67,
   "id": "3e026d30",
   "metadata": {},
   "outputs": [
    {
     "name": "stdout",
     "output_type": "stream",
     "text": [
      "0행0열 : 1\t0행1열 : 2\t0행2열 : 3\t0행3열 : 4\t0행4열 : 5\t\n",
      "1행0열 : 10\t1행1열 : 20\t1행2열 : 30\t1행3열 : 40\t1행4열 : 50\t\n",
      "2행0열 : 1\t2행1열 : 3\t2행2열 : 5\t2행3열 : 7\t2행4열 : 9\t\n",
      "3행0열 : 2\t3행1열 : 4\t3행2열 : 6\t3행3열 : 8\t3행4열 : 10\t\n"
     ]
    }
   ],
   "source": [
    "for i in range(len(numbers_2d)): # i : 행\n",
    "    for j in range(len(numbers_2d[i])): # j : 열\n",
    "        print(f\"{i}행{j}열 : {numbers_2d[i][j]}\",end=\"\\t\")\n",
    "    print() # 개행"
   ]
  },
  {
   "cell_type": "code",
   "execution_count": 65,
   "id": "3c60a052",
   "metadata": {},
   "outputs": [
    {
     "data": {
      "text/plain": [
       "(4, 5, 5, 5)"
      ]
     },
     "execution_count": 65,
     "metadata": {},
     "output_type": "execute_result"
    }
   ],
   "source": [
    "len(numbers_2d), len(numbers_2d[0]), len(numbers_2d[1]), len(numbers_2d[2])"
   ]
  },
  {
   "cell_type": "code",
   "execution_count": 69,
   "id": "995f8241",
   "metadata": {},
   "outputs": [
    {
     "data": {
      "text/plain": [
       "([(0, [1, 2, 3, 4, 5]),\n",
       "  (1, [10, 20, 30, 40, 50]),\n",
       "  (2, [1, 3, 5, 7, 9]),\n",
       "  (3, [2, 4, 6, 8, 10])],\n",
       " [(0, 1), (1, 2), (2, 3), (3, 4), (4, 5)])"
      ]
     },
     "execution_count": 69,
     "metadata": {},
     "output_type": "execute_result"
    }
   ],
   "source": [
    "list(enumerate(numbers_2d)) , list(enumerate(numbers_2d[0]))"
   ]
  },
  {
   "cell_type": "code",
   "execution_count": 74,
   "id": "87b185cb",
   "metadata": {},
   "outputs": [
    {
     "name": "stdout",
     "output_type": "stream",
     "text": [
      "0행0열 : 1\t0행1열 : 2\t0행2열 : 3\t0행3열 : 4\t0행4열 : 5\t\n",
      "1행0열 : 10\t1행1열 : 20\t1행2열 : 30\t1행3열 : 40\t1행4열 : 50\t\n",
      "2행0열 : 1\t2행1열 : 3\t2행2열 : 5\t2행3열 : 7\t2행4열 : 9\t\n",
      "3행0열 : 2\t3행1열 : 4\t3행2열 : 6\t3행3열 : 8\t3행4열 : 10\t\n"
     ]
    }
   ],
   "source": [
    "for i, row in enumerate(numbers_2d):\n",
    "    for j,item in enumerate(numbers_2d[i]):\n",
    "        print(\"{}행{}열 : {}\".format(i,j,numbers_2d[i][j]), end=\"\\t\")\n",
    "    print()"
   ]
  },
  {
   "cell_type": "markdown",
   "id": "4bd6ad58",
   "metadata": {},
   "source": [
    "# 1.2 기본 정보 조회"
   ]
  },
  {
   "cell_type": "code",
   "execution_count": 77,
   "id": "e3d521a9",
   "metadata": {},
   "outputs": [],
   "source": [
    "numbers = [1,2,3,4,5]\n",
    "numbers_2d = [[100,0,20],\n",
    "              [9,100,100],\n",
    "              [59,100,130]]"
   ]
  },
  {
   "cell_type": "code",
   "execution_count": 78,
   "id": "1030d3b8",
   "metadata": {},
   "outputs": [
    {
     "data": {
      "text/plain": [
       "(5, 3)"
      ]
     },
     "execution_count": 78,
     "metadata": {},
     "output_type": "execute_result"
    }
   ],
   "source": [
    "# item 수\n",
    "len(numbers), len(numbers_2d)"
   ]
  },
  {
   "cell_type": "code",
   "execution_count": 82,
   "id": "6d6b4955",
   "metadata": {},
   "outputs": [
    {
     "data": {
      "text/plain": [
       "(1, [9, 100, 100], 5, [100, 0, 20])"
      ]
     },
     "execution_count": 82,
     "metadata": {},
     "output_type": "execute_result"
    }
   ],
   "source": [
    "#최소값, 최댓값\n",
    "# 2차원 list의 최소/ 최대값: 부분리시트들 중 첫요소가 가장 작은값/큰값\n",
    "min(numbers), min(numbers_2d),max(numbers),max(numbers_2d)"
   ]
  },
  {
   "cell_type": "code",
   "execution_count": 83,
   "id": "16bca3f3",
   "metadata": {},
   "outputs": [
    {
     "data": {
      "text/plain": [
       "('apple', 'orange')"
      ]
     },
     "execution_count": 83,
     "metadata": {},
     "output_type": "execute_result"
    }
   ],
   "source": [
    "# list의 데이터가 문자일 경우 ascii 코드값으로 min과 max적용4\n",
    "fruits = ['mango', 'apple', 'orange']\n",
    "min(fruits), max(fruits)\n"
   ]
  },
  {
   "cell_type": "code",
   "execution_count": 90,
   "id": "1a18bbc1",
   "metadata": {},
   "outputs": [
    {
     "name": "stdout",
     "output_type": "stream",
     "text": [
      "오름차순 정렬 : [1, 2, 3, 4, 5]\n",
      "내림차순 정렬 : [5, 4, 3, 2, 1]\n",
      "합 : 15\n",
      "평균 : 3.0\n",
      "sorted 함수 사용시 리스트의 내용이 바뀌지 않은 : [1, 2, 3, 4, 5]\n"
     ]
    }
   ],
   "source": [
    "# 정렬하기\n",
    "numbers = [1,2,3,4,5]\n",
    "print(\"오름차순 정렬 :\", sorted(numbers))\n",
    "print(\"내림차순 정렬 :\", sorted(numbers, reverse=True))\n",
    "print(\"합 :\", sum(numbers))\n",
    "print(\"평균 :\", sum(numbers)/len(numbers))\n",
    "print(\"sorted 함수 사용시 리스트의 내용이 바뀌지 않은 :\", numbers)"
   ]
  },
  {
   "cell_type": "markdown",
   "id": "1ea47cdd",
   "metadata": {},
   "source": [
    "## 1.3 요소추가\n",
    "\n",
    "- '+' : 두 리스트 연결\n",
    "- '*' : 리스트를 곱한 수만큼 반복\n",
    "- append() : 요소 맨 뒤에 추가\n",
    "- extend(리스트) : 리스트를 요소별로 맨 뒤에 추가\n",
    "- insert(idx, 값) : idx번째 인덱스 위치에 값 추가\n"
   ]
  },
  {
   "cell_type": "code",
   "execution_count": 91,
   "id": "990b80c3",
   "metadata": {},
   "outputs": [
    {
     "data": {
      "text/plain": [
       "[1, 2, 3, 1, 2, 3]"
      ]
     },
     "execution_count": 91,
     "metadata": {},
     "output_type": "execute_result"
    }
   ],
   "source": [
    "numbers = [1,2,3]\n",
    "numbers = numbers + numbers # 리스트 연결\n",
    "numbers"
   ]
  },
  {
   "cell_type": "code",
   "execution_count": 92,
   "id": "bf816235",
   "metadata": {},
   "outputs": [
    {
     "name": "stdout",
     "output_type": "stream",
     "text": [
      "[1, 2, 3, 1, 2, 3, 1, 2, 3]\n",
      "[1, 2, 3, 1, 2, 3, 1, 2, 3]\n"
     ]
    }
   ],
   "source": [
    "numbers = [1,2,3]\n",
    "print(numbers*3) # 곱한 수 만큼 반복\n",
    "print(3*numbers)"
   ]
  },
  {
   "cell_type": "code",
   "execution_count": 99,
   "id": "c8f7302d",
   "metadata": {},
   "outputs": [
    {
     "data": {
      "text/plain": [
       "[1, 2, 3, 4, 4, 4, 4, 4, 4, 4]"
      ]
     },
     "execution_count": 99,
     "metadata": {},
     "output_type": "execute_result"
    }
   ],
   "source": [
    "numbers.append(4) # 맨 뒤에 4 추가\n",
    "numbers\n"
   ]
  },
  {
   "cell_type": "code",
   "execution_count": 103,
   "id": "e351b70c",
   "metadata": {},
   "outputs": [
    {
     "data": {
      "text/plain": [
       "[1, 2, 3, 4, 4, 4, 4, 4, 4, 4, [5, 6, 7], [5, 6, 7], [5, 6, 7], [5, 6, 7]]"
      ]
     },
     "execution_count": 103,
     "metadata": {},
     "output_type": "execute_result"
    }
   ],
   "source": [
    "numbers.append([5,6,7]) # 맨 뒤 요소에 [5,6,7] 추가\n",
    "numbers"
   ]
  },
  {
   "cell_type": "code",
   "execution_count": 105,
   "id": "a3d4cc83",
   "metadata": {},
   "outputs": [
    {
     "data": {
      "text/plain": [
       "[1, 2, 3, 4, 5, 6]"
      ]
     },
     "execution_count": 105,
     "metadata": {},
     "output_type": "execute_result"
    }
   ],
   "source": [
    "numbers = [1,2,3]\n",
    "numbers.extend([4,5,6]) # 맨 뒤에 요소별로 4,5,6 각각 추가\n",
    "numbers"
   ]
  },
  {
   "cell_type": "code",
   "execution_count": 106,
   "id": "deccc076",
   "metadata": {},
   "outputs": [
    {
     "data": {
      "text/plain": [
       "['a', 'b', 'c', 'd']"
      ]
     },
     "execution_count": 106,
     "metadata": {},
     "output_type": "execute_result"
    }
   ],
   "source": [
    "lst = ['a','b','c']\n",
    "lst.append('d')\n",
    "lst"
   ]
  },
  {
   "cell_type": "code",
   "execution_count": 107,
   "id": "a6bd39d8",
   "metadata": {},
   "outputs": [],
   "source": [
    "lst.append(\"hello\")"
   ]
  },
  {
   "cell_type": "code",
   "execution_count": 110,
   "id": "2c1eaebd",
   "metadata": {},
   "outputs": [],
   "source": [
    "lst.extend(\"hello\")"
   ]
  },
  {
   "cell_type": "code",
   "execution_count": 115,
   "id": "93b36ba8",
   "metadata": {},
   "outputs": [
    {
     "data": {
      "text/plain": [
       "[1, 'xx', 2, 3, 4, 5]"
      ]
     },
     "execution_count": 115,
     "metadata": {},
     "output_type": "execute_result"
    }
   ],
   "source": [
    "numbers = [1,2,3,4,5]\n",
    "numbers.insert(1,'xx') # 1번째 인덱스에 'xx' 추가\n",
    "numbers"
   ]
  },
  {
   "cell_type": "code",
   "execution_count": 114,
   "id": "15797eea",
   "metadata": {},
   "outputs": [
    {
     "data": {
      "text/plain": [
       "[1, 'xx', 2, 3, 4, 5]"
      ]
     },
     "execution_count": 114,
     "metadata": {},
     "output_type": "execute_result"
    }
   ],
   "source": [
    "numbers\n"
   ]
  },
  {
   "cell_type": "markdown",
   "id": "d84fcf1f",
   "metadata": {},
   "source": [
    "## 1.4인덱싱과 요소 갯수\n",
    "- list변수[index] : 인덱스를 이용한 접근\n",
    "- index(찾을데이터) : 해당 찾을 데이터가 있는 요소의 index를 반환\n",
    "- 찾을데이터 in 변수 : 찾을데이터가 리스트변수의 요소인지 여부\n",
    "- count(찾을데이터) : 리스트에서 해당 찾을데이터의 갯수 반환"
   ]
  },
  {
   "cell_type": "code",
   "execution_count": 117,
   "id": "07aeab0f",
   "metadata": {},
   "outputs": [
    {
     "data": {
      "text/plain": [
       "(2, 1)"
      ]
     },
     "execution_count": 117,
     "metadata": {},
     "output_type": "execute_result"
    }
   ],
   "source": [
    "numbers =[1,2,3,[1,2,3],1,2,3]\n",
    "numbers.count(2), numbers.count([1,2,3])"
   ]
  },
  {
   "cell_type": "code",
   "execution_count": 118,
   "id": "781894d8",
   "metadata": {},
   "outputs": [
    {
     "data": {
      "text/plain": [
       "0"
      ]
     },
     "execution_count": 118,
     "metadata": {},
     "output_type": "execute_result"
    }
   ],
   "source": [
    "numbers.count(5)"
   ]
  },
  {
   "cell_type": "code",
   "execution_count": 120,
   "id": "273db81e",
   "metadata": {},
   "outputs": [
    {
     "name": "stdout",
     "output_type": "stream",
     "text": [
      "True\n",
      "False\n"
     ]
    }
   ],
   "source": [
    "print(2 in numbers) #2가  numbers의 요소인지 여부\n",
    "print(5 in numbers)"
   ]
  },
  {
   "cell_type": "code",
   "execution_count": 124,
   "id": "831ce9fd",
   "metadata": {},
   "outputs": [
    {
     "name": "stdout",
     "output_type": "stream",
     "text": [
      "5가 요소에 포함되지 않습니다\n"
     ]
    }
   ],
   "source": [
    "if numbers.count(5):\n",
    "    print(numbers.index(5))\n",
    "else:\n",
    "    print('5가 요소에 포함되지 않습니다')"
   ]
  },
  {
   "cell_type": "code",
   "execution_count": 126,
   "id": "4eddb086",
   "metadata": {},
   "outputs": [
    {
     "name": "stdout",
     "output_type": "stream",
     "text": [
      "5가 요소에 포함되지 않습니다\n"
     ]
    }
   ],
   "source": [
    "if 5 in numbers:\n",
    "    print(numbers.index(5))\n",
    "else:\n",
    "    print('5가 요소에 포함되지 않습니다')"
   ]
  },
  {
   "cell_type": "code",
   "execution_count": 134,
   "id": "5a677740",
   "metadata": {},
   "outputs": [],
   "source": [
    "def safe_index(lst, item):\n",
    "    \"\"\"\"첫번쨰 매개변수 lst에서 item 요소가 있는 index를 반환\n",
    "    item 요소가 없으면 -1 반환\"\"\"\n",
    "    if item in lst:\n",
    "        return lst.index(item)\n",
    "    return -1"
   ]
  },
  {
   "cell_type": "code",
   "execution_count": 4,
   "id": "e371a6c2",
   "metadata": {},
   "outputs": [
    {
     "data": {
      "text/plain": [
       "(1, -1)"
      ]
     },
     "execution_count": 4,
     "metadata": {},
     "output_type": "execute_result"
    }
   ],
   "source": [
    "from lst import safe_index # lst.py(모듈)안의 safe_index를 메모리에 Load\n",
    "\n",
    "numbers = [1,2,3]\n",
    "\n",
    "safe_index(numbers,2), safe_index(numbers,5)"
   ]
  },
  {
   "cell_type": "code",
   "execution_count": 5,
   "id": "5c696923",
   "metadata": {},
   "outputs": [
    {
     "ename": "IndexError",
     "evalue": "list index out of range",
     "output_type": "error",
     "traceback": [
      "\u001b[1;31m---------------------------------------------------------------------------\u001b[0m",
      "\u001b[1;31mIndexError\u001b[0m                                Traceback (most recent call last)",
      "Cell \u001b[1;32mIn[5], line 1\u001b[0m\n\u001b[1;32m----> 1\u001b[0m \u001b[43mnumbers\u001b[49m\u001b[43m[\u001b[49m\u001b[38;5;241;43m5\u001b[39;49m\u001b[43m]\u001b[49m\n",
      "\u001b[1;31mIndexError\u001b[0m: list index out of range"
     ]
    }
   ],
   "source": [
    "numbers[5] # 벗어난 인덱스로 인덱싱 시 에러"
   ]
  },
  {
   "cell_type": "code",
   "execution_count": 7,
   "id": "309e0902",
   "metadata": {},
   "outputs": [
    {
     "data": {
      "text/plain": [
       "[3]"
      ]
     },
     "execution_count": 7,
     "metadata": {},
     "output_type": "execute_result"
    }
   ],
   "source": [
    "numbers[2:5] # 벗어난 인덱스로 슬라이싱 시 에러가 안 남"
   ]
  },
  {
   "cell_type": "code",
   "execution_count": 9,
   "id": "8e754765",
   "metadata": {},
   "outputs": [
    {
     "data": {
      "text/plain": [
       "[]"
      ]
     },
     "execution_count": 9,
     "metadata": {},
     "output_type": "execute_result"
    }
   ],
   "source": [
    "numbers[4:5]"
   ]
  },
  {
   "cell_type": "markdown",
   "id": "9a13e63c",
   "metadata": {},
   "source": [
    "## 1.5 원하는 요소 추출\n",
    "1. 리스트 슬라이싱\n",
    "    -[from:to:step] from번째부터 to앞까지 step씩 증가하는 index값을 추출\n",
    "        *from 생략시 처음, to생략시 끝, step생략시 1\n",
    "    -인덱스의 범위를 벗어난 값도 에러나지 않음\n",
    "    -인덱스는 음수가능\n",
    "    \n",
    "2. **리스트컴프리헨션** : 원하는 조건의 데이터 추출"
   ]
  },
  {
   "cell_type": "code",
   "execution_count": 14,
   "id": "a5083537",
   "metadata": {},
   "outputs": [
    {
     "name": "stdout",
     "output_type": "stream",
     "text": [
      "[20, 19, 18, 13, 12, 10, 9, 5, 3, 1]\n",
      "[1, 5, 10, 13, 19]\n"
     ]
    }
   ],
   "source": [
    "numbers = [1,3,5,9,10,12,13,18,19,20]\n",
    "print(numbers[::-1]) # 꺼꾸로 출력\n",
    "print(numbers[0::2]) # 짝수 index 값 출력\n",
    "print(numbers[2:100]) # 인덱스를 벗어난 슬라이싱 가능"
   ]
  },
  {
   "cell_type": "code",
   "execution_count": 15,
   "id": "6ec02390",
   "metadata": {},
   "outputs": [
    {
     "data": {
      "text/plain": [
       "[1, 3, 5, 9, 10, 12, 13, 18, 19, 20]"
      ]
     },
     "execution_count": 15,
     "metadata": {},
     "output_type": "execute_result"
    }
   ],
   "source": [
    "# 모든 데이터 출력\n",
    "numbers = [1,3,5,9,10,12,13,18,19,20]\n",
    "#for data in numbers:\n",
    "#    print(data, end='\\t')\n",
    "[data for data in numbers]"
   ]
  },
  {
   "cell_type": "code",
   "execution_count": 18,
   "id": "a9888b39",
   "metadata": {},
   "outputs": [
    {
     "data": {
      "text/plain": [
       "[10, 12, 18, 20]"
      ]
     },
     "execution_count": 18,
     "metadata": {},
     "output_type": "execute_result"
    }
   ],
   "source": [
    "# 짝수 데이터 추출\n",
    "#for data in numbers:\n",
    "#       if data%2==0:\n",
    "#          print(data,end=\" \")\n",
    "[data for data in numbers if data%2==0]"
   ]
  },
  {
   "cell_type": "code",
   "execution_count": null,
   "id": "77720155",
   "metadata": {},
   "outputs": [],
   "source": []
  },
  {
   "cell_type": "code",
   "execution_count": null,
   "id": "10befc9f",
   "metadata": {},
   "outputs": [],
   "source": []
  },
  {
   "cell_type": "code",
   "execution_count": 22,
   "id": "812f3551",
   "metadata": {},
   "outputs": [
    {
     "data": {
      "text/plain": [
       "[10, 12, 13, 18, 19, 20]"
      ]
     },
     "execution_count": 22,
     "metadata": {},
     "output_type": "execute_result"
    }
   ],
   "source": [
    "#e1. numbers에서 10이상인 요소만 추출\n",
    "[data for data in numbers if data>=10]"
   ]
  },
  {
   "cell_type": "code",
   "execution_count": 25,
   "id": "685f771a",
   "metadata": {},
   "outputs": [
    {
     "data": {
      "text/plain": [
       "['orange', 'apple', 'mango']"
      ]
     },
     "execution_count": 25,
     "metadata": {},
     "output_type": "execute_result"
    }
   ],
   "source": [
    "#e2. fruits에서 과일의 글자가 5글자 이상인 과일만 추출\n",
    "fruits = ['orange','apple','mango','kiwi']\n",
    "[fruit for fruit in fruits if len(fruit) >= 5]"
   ]
  },
  {
   "cell_type": "code",
   "execution_count": 26,
   "id": "d2b7ebda",
   "metadata": {},
   "outputs": [
    {
     "data": {
      "text/plain": [
       "[6, 5, 5, 4]"
      ]
     },
     "execution_count": 26,
     "metadata": {},
     "output_type": "execute_result"
    }
   ],
   "source": [
    "# ex-1 fruits 리스트의 과일 글자수\n",
    "[len(fruit) for fruit in fruits]"
   ]
  },
  {
   "cell_type": "code",
   "execution_count": 27,
   "id": "13134c7c",
   "metadata": {},
   "outputs": [
    {
     "data": {
      "text/plain": [
       "[9, 16, 25]"
      ]
     },
     "execution_count": 27,
     "metadata": {},
     "output_type": "execute_result"
    }
   ],
   "source": [
    "# ex3. 3이상인 요수들의 제곱을 추출\n",
    "L = [1,2,3,4,5]\n",
    "[temp**2 for temp in L if temp >= 3]"
   ]
  },
  {
   "cell_type": "code",
   "execution_count": 29,
   "id": "1d12ae38",
   "metadata": {},
   "outputs": [
    {
     "data": {
      "text/plain": [
       "[2, 4, 6, 8, 10]"
      ]
     },
     "execution_count": 29,
     "metadata": {},
     "output_type": "execute_result"
    }
   ],
   "source": [
    "# ex4. 리스트 요소의 값의 두배를 추출\n",
    "[temp*2 for temp in L]"
   ]
  },
  {
   "cell_type": "markdown",
   "id": "53286e20",
   "metadata": {},
   "source": [
    "## 1.6 요소 수정하기\n",
    "-인덱스, 슬라이싱을 이용해서 수정"
   ]
  },
  {
   "cell_type": "code",
   "execution_count": 30,
   "id": "6059212f",
   "metadata": {},
   "outputs": [
    {
     "data": {
      "text/plain": [
       "[0, 1, 222, 3, 4, 5, 6, 7, 8, 9]"
      ]
     },
     "execution_count": 30,
     "metadata": {},
     "output_type": "execute_result"
    }
   ],
   "source": [
    "numbers = [0,1,2,3,4,5,6,7,8,9]\n",
    "numbers[2] = 222\n",
    "numbers"
   ]
  },
  {
   "cell_type": "code",
   "execution_count": 34,
   "id": "37e9f07e",
   "metadata": {},
   "outputs": [
    {
     "data": {
      "text/plain": [
       "['xx', 'xx', 'xx', 222, 3, 4, 5, 6, 7, 8, 9]"
      ]
     },
     "execution_count": 34,
     "metadata": {},
     "output_type": "execute_result"
    }
   ],
   "source": [
    "#슬라이싱(step부분 미포함)을 이용하여 부분 리스트를 통째로 수정\n",
    "numbers[0:2]=['xx','xx','xx']\n",
    "numbers"
   ]
  },
  {
   "cell_type": "code",
   "execution_count": 38,
   "id": "f321ba9f",
   "metadata": {},
   "outputs": [
    {
     "name": "stdout",
     "output_type": "stream",
     "text": [
      "수정전 : [0, 0, 0, 0, 0, 0, 0, 0, 0, 0]\n",
      "수정후 : [9, 0, 9, 0, 9, 0, 9, 0, 9, 0]\n"
     ]
    }
   ],
   "source": [
    "#슬라이싱(step 부분 포함)을 이용하여 부분 수정시 요소 갯수 맞아야 함\n",
    "numbers = [0]*10\n",
    "print('수정전 :', numbers)\n",
    "numbers[0::2] = [9,9,9,9,9]\n",
    "print('수정후 :', numbers)\n",
    "\n"
   ]
  },
  {
   "cell_type": "code",
   "execution_count": 39,
   "id": "706c9aed",
   "metadata": {},
   "outputs": [
    {
     "ename": "ValueError",
     "evalue": "attempt to assign sequence of size 2 to extended slice of size 5",
     "output_type": "error",
     "traceback": [
      "\u001b[1;31m---------------------------------------------------------------------------\u001b[0m",
      "\u001b[1;31mValueError\u001b[0m                                Traceback (most recent call last)",
      "Cell \u001b[1;32mIn[39], line 1\u001b[0m\n\u001b[1;32m----> 1\u001b[0m numbers[::\u001b[38;5;241m2\u001b[39m] \u001b[38;5;241m=\u001b[39m [\u001b[38;5;241m1\u001b[39m,\u001b[38;5;241m1\u001b[39m]\n",
      "\u001b[1;31mValueError\u001b[0m: attempt to assign sequence of size 2 to extended slice of size 5"
     ]
    }
   ],
   "source": [
    "numbers[::2] = [1,1]"
   ]
  },
  {
   "cell_type": "markdown",
   "id": "b14f05f6",
   "metadata": {},
   "source": [
    "## 1.7 요소삭제\n",
    "- pop() : 가장 마지막 인덱스의 요소가 반환되고 삭제\n",
    "- pop(idx) : idx번쨰 요소가 반환되고 삭제\n",
    "- remove(data) : list안의 data가 삭제\n",
    "- del 리스트변수[idx] : idx번째 요소가 삭제"
   ]
  },
  {
   "cell_type": "code",
   "execution_count": 46,
   "id": "1d965ffd",
   "metadata": {},
   "outputs": [
    {
     "name": "stdout",
     "output_type": "stream",
     "text": [
      "삭제한 데이터 : 5\n",
      "삭제 후 numbers : [1, 2, 3, 4]\n",
      "1번째 삭제한 데이터 : 2\n",
      "1번째 삭제 후 numbers : [1, 3, 4]\n",
      "데이터 1 삭제\n",
      "데이터 1 삭제 후 number : [3, 4]\n",
      "del numbers[1]\n",
      "[3]\n"
     ]
    }
   ],
   "source": [
    "numbers = [1,2,3,4,5]\n",
    "print(\"삭제한 데이터 :\", numbers.pop())\n",
    "print(\"삭제 후 numbers :\",numbers)\n",
    "print(\"1번째 삭제한 데이터 :\", numbers.pop(1))\n",
    "print(\"1번째 삭제 후 numbers :\", numbers)\n",
    "print(\"데이터 1 삭제\")\n",
    "numbers.remove(1)\n",
    "print(\"데이터 1 삭제 후 number :\", numbers)\n",
    "print(\"del numbers[1]\")\n",
    "del numbers[1]\n",
    "print(numbers)"
   ]
  },
  {
   "cell_type": "code",
   "execution_count": 47,
   "id": "84a6bbac",
   "metadata": {},
   "outputs": [
    {
     "name": "stdout",
     "output_type": "stream",
     "text": [
      "해당 데이터는 없는 item입니다\n"
     ]
    }
   ],
   "source": [
    "#numbers.remove(9)\n",
    "if 9 in numbers:\n",
    "    numbers.remove(9)\n",
    "else:\n",
    "    print(\"해당 데이터는 없는 item입니다\")"
   ]
  },
  {
   "cell_type": "code",
   "execution_count": 48,
   "id": "198324a9",
   "metadata": {},
   "outputs": [
    {
     "data": {
      "text/plain": [
       "[]"
      ]
     },
     "execution_count": 48,
     "metadata": {},
     "output_type": "execute_result"
    }
   ],
   "source": [
    "numbers.clear() # 모든 요소를 삭제\n",
    "numbers"
   ]
  },
  {
   "cell_type": "markdown",
   "id": "60e6da31",
   "metadata": {},
   "source": [
    "## 1.8 정렬하기"
   ]
  },
  {
   "cell_type": "code",
   "execution_count": 50,
   "id": "0be03101",
   "metadata": {},
   "outputs": [
    {
     "name": "stdout",
     "output_type": "stream",
     "text": [
      "numbers는 변경하지 않고, 정렬결과 : [0, 5, 6, 8, 9]\n",
      "numbers : [9, 5, 0, 8, 6]\n"
     ]
    }
   ],
   "source": [
    "numbers = [9,5,0,8,6]\n",
    "print(\"numbers는 변경하지 않고, 정렬결과 :\",sorted(numbers))\n",
    "print(\"numbers :\",numbers)"
   ]
  },
  {
   "cell_type": "code",
   "execution_count": 51,
   "id": "a066df80",
   "metadata": {},
   "outputs": [
    {
     "data": {
      "text/plain": [
       "[0, 5, 6, 8, 9]"
      ]
     },
     "execution_count": 51,
     "metadata": {},
     "output_type": "execute_result"
    }
   ],
   "source": [
    "numbers.sort()# 오름차순 결과로 numbers 자체가\n",
    "numbers"
   ]
  },
  {
   "cell_type": "code",
   "execution_count": null,
   "id": "1c1ace30",
   "metadata": {},
   "outputs": [],
   "source": [
    "numbers.sort(reverse = True)# 내림차순 결과로 numbers 자체가\n",
    "numbers"
   ]
  },
  {
   "cell_type": "code",
   "execution_count": 52,
   "id": "139f568c",
   "metadata": {},
   "outputs": [
    {
     "data": {
      "text/plain": [
       "[0, 5, 6, 8, 9]"
      ]
     },
     "execution_count": 52,
     "metadata": {},
     "output_type": "execute_result"
    }
   ],
   "source": [
    "numbers.reverse() # 리스트를 역순으로 변경\n",
    "numbers = numbers[::-1]\n",
    "numbers"
   ]
  },
  {
   "cell_type": "markdown",
   "id": "023f0ac5",
   "metadata": {},
   "source": [
    "## 1.9 리스트 복제\n"
   ]
  },
  {
   "cell_type": "code",
   "execution_count": 67,
   "id": "466dac05",
   "metadata": {},
   "outputs": [
    {
     "name": "stdout",
     "output_type": "stream",
     "text": [
      "원본i = 10, 복사본cp_i=10 / 원본주소= 1527790109200, 복사본주소=1527790109200\n",
      "원본i = 10, 복사본cp_i=99 / 원본주소= 1527790109200, 복사본주소=1527790112048\n"
     ]
    }
   ],
   "source": [
    "# 스칼라 데이터의 복제\n",
    "i = 10 \n",
    "cp_i = i\n",
    "print(f\"원본i = {i}, 복사본cp_i={cp_i} / 원본주소= {id(i)}, 복사본주소={id(cp_i)}\")\n",
    "cp_i = 99\n",
    "print(f\"원본i = {i}, 복사본cp_i={cp_i} / 원본주소= {id(i)}, 복사본주소={id(cp_i)}\")"
   ]
  },
  {
   "cell_type": "code",
   "execution_count": 63,
   "id": "0149e25d",
   "metadata": {},
   "outputs": [
    {
     "name": "stdout",
     "output_type": "stream",
     "text": [
      "원본 주소 : 1527909102144\n",
      "복제본 주소 : 1527909102144\n",
      "원본 내용 : [99, 6, 1, 9]\n",
      "복제본 내용 : [99, 6, 1, 9]\n",
      "원본 내용 : 1527909102144\n",
      "복제본 내용 : 1527909102144\n"
     ]
    }
   ],
   "source": [
    "1 # 데이터 구조의 복제\n",
    "numbers = [5,6,1,9]\n",
    "new_numbers = numbers\n",
    "print('원본 주소 :', id(numbers))\n",
    "print('복제본 주소 :', id(numbers))\n",
    "new_numbers[0] =99\n",
    "print(\"원본 내용 :\", numbers)\n",
    "print(\"복제본 내용 :\", new_numbers)\n",
    "print(\"원본 내용 :\", id(numbers))\n",
    "print(\"복제본 내용 :\", id(new_numbers))"
   ]
  },
  {
   "cell_type": "code",
   "execution_count": 66,
   "id": "1034efde",
   "metadata": {},
   "outputs": [
    {
     "name": "stdout",
     "output_type": "stream",
     "text": [
      "원본 : [1, 5, 6, 9]\n",
      "복제본 : [1, 5, 6, 9]\n",
      "원본 주소: 1527909087552\n",
      "복제본 주소: 1527909087552\n"
     ]
    }
   ],
   "source": [
    "# 할당 \n",
    "numbers = [5,6,1,9]\n",
    "new_numbers = numbers\n",
    "new_numbers.sort()\n",
    "print(\"원본 :\", numbers)\n",
    "print(\"복제본 :\", new_numbers)\n",
    "print(\"원본 주소:\", id(numbers))\n",
    "print(\"복제본 주소:\", id(new_numbers))"
   ]
  },
  {
   "cell_type": "code",
   "execution_count": null,
   "id": "c710aa4e",
   "metadata": {},
   "outputs": [],
   "source": []
  },
  {
   "cell_type": "code",
   "execution_count": 71,
   "id": "081c6952",
   "metadata": {},
   "outputs": [
    {
     "name": "stdout",
     "output_type": "stream",
     "text": [
      "원본 : [5, 6, 1, 9]\n",
      "정렬본 : [1, 5, 6, 9]\n"
     ]
    }
   ],
   "source": [
    "numbers = [5,6,1,9]\n",
    "new_numbers = sorted(numbers)\n",
    "print(\"원본 :\",numbers)\n",
    "print(\"정렬본 :\", new_numbers)\n"
   ]
  },
  {
   "cell_type": "code",
   "execution_count": 72,
   "id": "5bd577cb",
   "metadata": {},
   "outputs": [
    {
     "name": "stdout",
     "output_type": "stream",
     "text": [
      "원본 : [5, 6, 1, 9]\n",
      "복제본 : [9, 6, 5, 1]\n",
      "원본 주소 : 1527907701632\n",
      "복제본 주소 : 1527911475584\n"
     ]
    }
   ],
   "source": [
    "# 리스트 복제(깊은 복사)\n",
    "numbers = [5,6,1,9]\n",
    "new_numbers = numbers.copy() # numbers를 복제(깊은 복사)\n",
    "new_numbers.sort(reverse=True) #내림차순 정렬\n",
    "print(\"원본 :\",numbers)\n",
    "print(\"복제본 :\", new_numbers)\n",
    "print(\"원본 주소 :\", id(numbers))\n",
    "print(\"복제본 주소 :\", id(new_numbers))"
   ]
  },
  {
   "cell_type": "code",
   "execution_count": 73,
   "id": "c1abd847",
   "metadata": {},
   "outputs": [
    {
     "name": "stdout",
     "output_type": "stream",
     "text": [
      "정렬전 : ['서울', '대전', '대구', '부산', '하남', '수원', '제주']\n",
      "정렬후 : ['대구', '대전', '부산', '서울', '수원', '제주', '하남']\n"
     ]
    }
   ],
   "source": [
    "city = [ '서울','대전','대구','부산','하남','수원','제주']\n",
    "temp = city.copy()\n",
    "temp.sort()\n",
    "print(\"정렬전 :\", city)\n",
    "print(\"정렬후 :\", temp)"
   ]
  },
  {
   "cell_type": "code",
   "execution_count": 75,
   "id": "f95aef50",
   "metadata": {},
   "outputs": [
    {
     "name": "stdout",
     "output_type": "stream",
     "text": [
      "정렬전 : ['서울', '대전', '대구', '부산', '하남', '수원', '제주']\n",
      "정렬후 : []\n"
     ]
    }
   ],
   "source": [
    "temp.clear()\n",
    "print(\"정렬전 :\", city)\n",
    "print(\"정렬후 :\", temp)"
   ]
  },
  {
   "cell_type": "markdown",
   "id": "974fa504",
   "metadata": {},
   "source": [
    "# 2절 튜플\n",
    "- 리스트([])와 유사하지만 읽기전용. 수정이 필요없는 데이터에서 사용\n",
    "- 수정이 불가하므로, 튜플에서 데이터 수정, 추가, 삭제 불가\n",
    "- 제공되는 함수도 많지 않음\n",
    "- ()이용해서 생성"
   ]
  },
  {
   "cell_type": "code",
   "execution_count": 79,
   "id": "57ab1742",
   "metadata": {},
   "outputs": [
    {
     "name": "stdout",
     "output_type": "stream",
     "text": [
      "<class 'tuple'>\n",
      "('서울', '대전', '대구', '부산', '하남')\n"
     ]
    }
   ],
   "source": [
    "#city = ('서울','대전','대구','부산','하남')\n",
    "# 파이썬은 여러개의 값이 전달될 때 튜플 타입으로 전달\n",
    "city = '서울','대전','대구','부산','하남'\n",
    "print(type(city))\n",
    "print(city)"
   ]
  },
  {
   "cell_type": "code",
   "execution_count": 77,
   "id": "1074d6c3",
   "metadata": {},
   "outputs": [],
   "source": [
    "a , b = 10 , 20"
   ]
  },
  {
   "cell_type": "code",
   "execution_count": 81,
   "id": "9cf5ca96",
   "metadata": {},
   "outputs": [
    {
     "data": {
      "text/plain": [
       "'서울, 대전, 대구, 부산, 하남'"
      ]
     },
     "execution_count": 81,
     "metadata": {},
     "output_type": "execute_result"
    }
   ],
   "source": [
    "# 매개변수로 List가 오는 함수는 tuple 매개변수로 함수 사용\n",
    "\", \". join(city)"
   ]
  },
  {
   "cell_type": "code",
   "execution_count": 82,
   "id": "b0b34be5",
   "metadata": {},
   "outputs": [],
   "source": [
    "from lst import safe_index\n",
    "safe_index(city, '대전')"
   ]
  },
  {
   "cell_type": "code",
   "execution_count": 84,
   "id": "1d75406a",
   "metadata": {},
   "outputs": [
    {
     "name": "stdout",
     "output_type": "stream",
     "text": [
      "<class 'int'>\n",
      "['서울']\n",
      "1\n"
     ]
    }
   ],
   "source": [
    "l = ['서울'] # 요소가 하나 있는 리스트\n",
    "print(type(1))\n",
    "print(l)\n",
    "print(len(l))"
   ]
  },
  {
   "cell_type": "code",
   "execution_count": 87,
   "id": "9cebe5e2",
   "metadata": {},
   "outputs": [
    {
     "name": "stdout",
     "output_type": "stream",
     "text": [
      "<class 'tuple'>\n",
      "('서울', '하남')\n",
      "2\n"
     ]
    }
   ],
   "source": [
    "city = ('서울', '하남') #요소가 하나 있는 튜플\n",
    "print(type(city))\n",
    "print(city)\n",
    "print(len(city))"
   ]
  },
  {
   "cell_type": "code",
   "execution_count": 88,
   "id": "d66386f2",
   "metadata": {},
   "outputs": [
    {
     "name": "stdout",
     "output_type": "stream",
     "text": [
      "<class 'str'>\n",
      "서울\n",
      "2\n"
     ]
    }
   ],
   "source": [
    "city = ('서울') #요소가 하나 있는 튜플\n",
    "print(type(city))\n",
    "print(city)\n",
    "print(len(city))"
   ]
  },
  {
   "cell_type": "code",
   "execution_count": 2,
   "id": "81e9a0db",
   "metadata": {},
   "outputs": [],
   "source": [
    "numbers = (1,2,3)\n",
    "#numbers.append(4) 수정하기 위한 함수는 제공되지 않음 "
   ]
  },
  {
   "cell_type": "code",
   "execution_count": 3,
   "id": "bcbbdc74",
   "metadata": {},
   "outputs": [
    {
     "data": {
      "text/plain": [
       "(1, 3, 6)"
      ]
     },
     "execution_count": 3,
     "metadata": {},
     "output_type": "execute_result"
    }
   ],
   "source": [
    "min(numbers), max(numbers), sum(numbers)"
   ]
  },
  {
   "cell_type": "code",
   "execution_count": 4,
   "id": "6b6532d4",
   "metadata": {},
   "outputs": [
    {
     "data": {
      "text/plain": [
       "1"
      ]
     },
     "execution_count": 4,
     "metadata": {},
     "output_type": "execute_result"
    }
   ],
   "source": [
    "numbers.count(2)"
   ]
  },
  {
   "cell_type": "code",
   "execution_count": 5,
   "id": "0cbb149b",
   "metadata": {},
   "outputs": [
    {
     "data": {
      "text/plain": [
       "2"
      ]
     },
     "execution_count": 5,
     "metadata": {},
     "output_type": "execute_result"
    }
   ],
   "source": [
    "numbers.index(3)"
   ]
  },
  {
   "cell_type": "code",
   "execution_count": 6,
   "id": "5be0dc95",
   "metadata": {},
   "outputs": [
    {
     "data": {
      "text/plain": [
       "2"
      ]
     },
     "execution_count": 6,
     "metadata": {},
     "output_type": "execute_result"
    }
   ],
   "source": [
    "numbers.index(3)"
   ]
  },
  {
   "cell_type": "code",
   "execution_count": 7,
   "id": "1f1b7d93",
   "metadata": {},
   "outputs": [
    {
     "name": "stdout",
     "output_type": "stream",
     "text": [
      "해당 데이터 없음\n"
     ]
    }
   ],
   "source": [
    "if 4 in numbers:\n",
    "    numbers.index(4)\n",
    "else:\n",
    "    print('해당 데이터 없음')"
   ]
  },
  {
   "cell_type": "code",
   "execution_count": 8,
   "id": "8b871f14",
   "metadata": {},
   "outputs": [
    {
     "ename": "NameError",
     "evalue": "name 'safe_index' is not defined",
     "output_type": "error",
     "traceback": [
      "\u001b[1;31m---------------------------------------------------------------------------\u001b[0m",
      "\u001b[1;31mNameError\u001b[0m                                 Traceback (most recent call last)",
      "Cell \u001b[1;32mIn[8], line 1\u001b[0m\n\u001b[1;32m----> 1\u001b[0m \u001b[43msafe_index\u001b[49m(numbers,\u001b[38;5;241m4\u001b[39m)\n",
      "\u001b[1;31mNameError\u001b[0m: name 'safe_index' is not defined"
     ]
    }
   ],
   "source": [
    "safe_index(numbers,4)"
   ]
  },
  {
   "cell_type": "code",
   "execution_count": 13,
   "id": "4af0c2d8",
   "metadata": {},
   "outputs": [],
   "source": [
    "numbers = (1,4,3,2)\n",
    "if 4 in number[2:]:\n",
    "    numbers.index(2,2) #index(찾을 데이터, 찾기 시작할 index = 0)\n",
    "else:\n",
    "    print(\"데이터가 없습니다\")"
   ]
  },
  {
   "cell_type": "code",
   "execution_count": 26,
   "id": "43b235a4",
   "metadata": {},
   "outputs": [],
   "source": [
    "def safe_index(lst,item,start = 0):\n",
    "    '''\n",
    "    첫번째 매개변수 lst : 리스트, 튜플\n",
    "    두번째 매개변수 item : 리스트나 튜플에서 찬을 데이터\n",
    "    세번쨰 매개변수 start : 몇번쨰 index부터 찾을지 index 수(기본값 : 0)\n",
    "    '''\n",
    "    return lst.index(item,start) if item in lst[start:] else - 1\n",
    "    \n",
    "    #if item in lst[start:]:\n",
    "    #    return lst.index(item) # start번째부터 item이 있는 index를 반환\n",
    "    #else\n",
    "    #    return -1"
   ]
  },
  {
   "cell_type": "code",
   "execution_count": 19,
   "id": "7d227a2d",
   "metadata": {},
   "outputs": [
    {
     "data": {
      "text/plain": [
       "3"
      ]
     },
     "execution_count": 19,
     "metadata": {},
     "output_type": "execute_result"
    }
   ],
   "source": [
    "safe_index(numbers,2,2)"
   ]
  },
  {
   "cell_type": "code",
   "execution_count": 25,
   "id": "f3b0aca8",
   "metadata": {},
   "outputs": [
    {
     "data": {
      "text/plain": [
       "10"
      ]
     },
     "execution_count": 25,
     "metadata": {},
     "output_type": "execute_result"
    }
   ],
   "source": [
    "# 위의 if문을 조선식을 이용하여 한줄 코드\n",
    "x, y = 10,20\n",
    "def diff(x,y):\n",
    "    result = x - y if x > y else y - x\n",
    "    return result\n",
    "    #if x > y:\n",
    "    #    return x-y\n",
    "    #else:\n",
    "    #    return y-x\n",
    "    \n",
    "diff(10, 20)"
   ]
  },
  {
   "cell_type": "code",
   "execution_count": 27,
   "id": "b6822d96",
   "metadata": {},
   "outputs": [
    {
     "name": "stdout",
     "output_type": "stream",
     "text": [
      "(1, 2, 3, 1, 2, 3)\n",
      "(1, 2, 3, 1, 2, 3, 1, 2, 3)\n",
      "(1, 2, 3, 1, 2, 3, 1, 2, 3)\n"
     ]
    }
   ],
   "source": [
    "numbers = (1,2,3)\n",
    "print(numbers + numbers) # 연결\n",
    "print(3* numbers) #반복\n",
    "print(numbers * 3) #반복"
   ]
  },
  {
   "cell_type": "code",
   "execution_count": 30,
   "id": "cdc97753",
   "metadata": {},
   "outputs": [
    {
     "data": {
      "text/plain": [
       "[4, 16, 36]"
      ]
     },
     "execution_count": 30,
     "metadata": {},
     "output_type": "execute_result"
    }
   ],
   "source": [
    "#ex. 짝수 요소들을 추출하여 제곱한 데이터를 튜플로 출력하시오\n",
    "numbers = (1,2,3,4,5,6)\n",
    "[num**2 for num in numbers if num%2==0]"
   ]
  },
  {
   "cell_type": "markdown",
   "id": "06194036",
   "metadata": {},
   "source": [
    "# 3절 딕셔너리\n",
    "- {}를 이용해서 키(key) - 값(value)의 쌍으로 구성된 자료구조\n",
    "- 키는 유일한 값(중복 허용 안함). 키에 list는 사용 불가. 키에 tuple은 사용 가능\n",
    "- 값은 중복 가능. 모든 데이터 타입 가능\n",
    "- 인덱스를 이용한 참조는 지원 안 함"
   ]
  },
  {
   "cell_type": "code",
   "execution_count": 32,
   "id": "fa0fa8ce",
   "metadata": {},
   "outputs": [
    {
     "name": "stdout",
     "output_type": "stream",
     "text": [
      "<class 'dict'>\n",
      "{'name': '홍길동', 1: 22, (1, 2): [1, 2]}\n"
     ]
    }
   ],
   "source": [
    "dic = {'name' : '홍길동', 1:22, (1,2) : [1,2]}\n",
    "print(type(dic))\n",
    "print(dic)"
   ]
  },
  {
   "cell_type": "code",
   "execution_count": 33,
   "id": "17d67cf2",
   "metadata": {},
   "outputs": [
    {
     "data": {
      "text/plain": [
       "3"
      ]
     },
     "execution_count": 33,
     "metadata": {},
     "output_type": "execute_result"
    }
   ],
   "source": [
    "len(dic) # 데이터 요소의 갯수"
   ]
  },
  {
   "cell_type": "code",
   "execution_count": 35,
   "id": "7f56b56a",
   "metadata": {},
   "outputs": [
    {
     "data": {
      "text/plain": [
       "{'fruit': 'apple', 'number': 12, 'sport': 'yoga'}"
      ]
     },
     "execution_count": 35,
     "metadata": {},
     "output_type": "execute_result"
    }
   ],
   "source": [
    "my_favorite = {'fruit':'apple', 'number':12, 'sport':\"yoga\"}\n",
    "my_favorite"
   ]
  },
  {
   "cell_type": "code",
   "execution_count": 37,
   "id": "a24b65c0",
   "metadata": {},
   "outputs": [
    {
     "name": "stdout",
     "output_type": "stream",
     "text": [
      "12\n",
      "12\n"
     ]
    }
   ],
   "source": [
    "# 변수[키] / 변수.get(키)\n",
    "print(my_favorite['number'])\n",
    "print(my_favorite.get('number'))"
   ]
  },
  {
   "cell_type": "code",
   "execution_count": 43,
   "id": "e92b24ba",
   "metadata": {},
   "outputs": [
    {
     "name": "stdout",
     "output_type": "stream",
     "text": [
      "None\n",
      "-\n"
     ]
    }
   ],
   "source": [
    "#print(my_favorite['people']) # 키목록에 없는 데이터를 참조시 에러\n",
    "print(my_favorite.get('people')) # 없는 키를 get함수로 참조시 None\n",
    "print(my_favorite.get('people','-')) # 없는 키를 get함수로 참조시 '-'"
   ]
  },
  {
   "cell_type": "code",
   "execution_count": 45,
   "id": "b682b869",
   "metadata": {},
   "outputs": [
    {
     "name": "stdout",
     "output_type": "stream",
     "text": [
      "데이터가 없음\n"
     ]
    }
   ],
   "source": [
    "if my_favorite.get('people'):\n",
    "    pass\n",
    "else:\n",
    "    print('데이터가 없음')"
   ]
  },
  {
   "cell_type": "markdown",
   "id": "6a86f050",
   "metadata": {},
   "source": [
    "# 딕셔너리 item 수정, 추가, 삭제"
   ]
  },
  {
   "cell_type": "code",
   "execution_count": 58,
   "id": "184847c0",
   "metadata": {},
   "outputs": [
    {
     "name": "stdout",
     "output_type": "stream",
     "text": [
      "poeple 추가후 : {'fruit': 'apple', 'number': 12, 'sport': 'yoga', 'people': '홍길동'}\n",
      "하나씩 수정 후 : {'fruit': 'mango', 'number': -9, 'sport': 'yoga', 'people': '홍길동'}\n",
      "한꺼번에 수정 후:  {'fruit': 'kiwi', 'number': -99, 'sport': 'yoga', 'people': '홍길동'}\n",
      "subject 키가 존재하지 않습니다\n",
      "del 제거(1) 후  {'number': -99, 'sport': 'yoga', 'people': '홍길동'}\n"
     ]
    },
    {
     "ename": "KeyError",
     "evalue": "'major'",
     "output_type": "error",
     "traceback": [
      "\u001b[1;31m---------------------------------------------------------------------------\u001b[0m",
      "\u001b[1;31mKeyError\u001b[0m                                  Traceback (most recent call last)",
      "Cell \u001b[1;32mIn[58], line 26\u001b[0m\n\u001b[0;32m     24\u001b[0m \u001b[38;5;28mprint\u001b[39m(\u001b[38;5;124m\"\u001b[39m\u001b[38;5;124mdel 제거(1) 후 \u001b[39m\u001b[38;5;124m\"\u001b[39m, my_favorite)\n\u001b[0;32m     25\u001b[0m \u001b[38;5;66;03m# item 제거(2)\u001b[39;00m\n\u001b[1;32m---> 26\u001b[0m \u001b[38;5;28mprint\u001b[39m(\u001b[38;5;124m'\u001b[39m\u001b[38;5;124m제거한 데이터 :\u001b[39m\u001b[38;5;124m'\u001b[39m, \u001b[43mmy_favorite\u001b[49m\u001b[38;5;241;43m.\u001b[39;49m\u001b[43mpop\u001b[49m\u001b[43m(\u001b[49m\u001b[38;5;124;43m'\u001b[39;49m\u001b[38;5;124;43mmajor\u001b[39;49m\u001b[38;5;124;43m'\u001b[39;49m\u001b[43m)\u001b[49m) \u001b[38;5;66;03m# major 키 값을 반환하고 제거\u001b[39;00m\n\u001b[0;32m     28\u001b[0m \u001b[38;5;28;01mif\u001b[39;00m \u001b[38;5;124m'\u001b[39m\u001b[38;5;124mmajor\u001b[39m\u001b[38;5;124m'\u001b[39m \u001b[38;5;129;01min\u001b[39;00m my_favorite:\n\u001b[0;32m     29\u001b[0m     \u001b[38;5;28mprint\u001b[39m(\u001b[38;5;124m'\u001b[39m\u001b[38;5;124m제거한 데이터\u001b[39m\u001b[38;5;124m'\u001b[39m, my_favorite\u001b[38;5;241m.\u001b[39mpop(\u001b[38;5;124m'\u001b[39m\u001b[38;5;124mmajor\u001b[39m\u001b[38;5;124m'\u001b[39m))\n",
      "\u001b[1;31mKeyError\u001b[0m: 'major'"
     ]
    }
   ],
   "source": [
    "my_favorite = {'fruit':'apple', 'number':12, 'sport': 'yoga'}\n",
    "# 추가\n",
    "my_favorite['people'] = '홍길동'\n",
    "print(\"poeple 추가후 :\", my_favorite)\n",
    "# 한 item씩 수정\n",
    "my_favorite['fruit'] = 'mango'\n",
    "my_favorite['number'] = -9\n",
    "\n",
    "print('하나씩 수정 후 :', my_favorite)\n",
    "# 여러 item을 한꺼 수정\n",
    "my_favorite.update({'fruit' : 'kiwi', 'number': -99})\n",
    "\n",
    "my_favorite.update(fruit = \"kiwi\", number =- 99)\n",
    "print('한꺼번에 수정 후: ' ,my_favorite)\n",
    "# item 제거\n",
    "del my_favorite['fruit']\n",
    "\n",
    "if 'subject' in my_favorite:\n",
    "    del my_favorite['subject']\n",
    "else:\n",
    "    print('subject 키가 존재하지 않습니다')\n",
    "\n",
    "\n",
    "print(\"del 제거(1) 후 \", my_favorite)\n",
    "# item 제거(2)\n",
    "print('제거한 데이터 :', my_favorite.pop('major')) # major 키 값을 반환하고 제거\n",
    "\n",
    "if 'major' in my_favorite:\n",
    "    print('제거한 데이터', my_favorite.pop('major'))\n",
    "else:\n",
    "    print('major 키가 존재하지 않습니다')\n",
    "print(my_favorite)"
   ]
  },
  {
   "cell_type": "markdown",
   "id": "00a4e8b4",
   "metadata": {},
   "source": [
    "## 출력하기"
   ]
  },
  {
   "cell_type": "code",
   "execution_count": 79,
   "id": "40e91e48",
   "metadata": {},
   "outputs": [],
   "source": [
    "#for문을 이용한 튜플 출력\n",
    "my_tuple = ('홍길동', 30, '010-9999-9999')"
   ]
  },
  {
   "cell_type": "code",
   "execution_count": 80,
   "id": "ee56af66",
   "metadata": {},
   "outputs": [
    {
     "name": "stdout",
     "output_type": "stream",
     "text": [
      "홍길동\t30\t010-9999-9999\t\n",
      "0번쨰 : 홍길동\t1번쨰 : 30\t2번쨰 : 010-9999-9999\t\n",
      "0번쨰 : 홍길동\t1번쨰 : 30\t2번쨰 : 010-9999-9999\t"
     ]
    }
   ],
   "source": [
    "for data in my_tuple:\n",
    "    print(data, end='\\t')\n",
    "print() #개행\n",
    "for idx in range(len(my_tuple)):\n",
    "    print(f\"{idx}번쨰 : {my_tuple[idx]}\", end = \"\\t\")\n",
    "print() #개행\n",
    "for idx, data in enumerate(my_tuple):\n",
    "    print(f\"{idx}번쨰 : {data}\", end =\"\\t\")"
   ]
  },
  {
   "cell_type": "code",
   "execution_count": 81,
   "id": "375d74bb",
   "metadata": {},
   "outputs": [],
   "source": [
    "my_dic = {'name':'홍길동','age':30,'tel':'010-9999-999'}"
   ]
  },
  {
   "cell_type": "code",
   "execution_count": 83,
   "id": "4bdbcced",
   "metadata": {},
   "outputs": [
    {
     "name": "stdout",
     "output_type": "stream",
     "text": [
      "name : 홍길동\tage : 30\ttel : 010-9999-999\t"
     ]
    }
   ],
   "source": [
    "for key in my_dic:\n",
    "    print(\"{} : {}\".format(key, my_dic[key]), end=\"\\t\")"
   ]
  },
  {
   "cell_type": "code",
   "execution_count": 84,
   "id": "021ddb02",
   "metadata": {},
   "outputs": [
    {
     "data": {
      "text/plain": [
       "dict_keys(['name', 'age', 'tel'])"
      ]
     },
     "execution_count": 84,
     "metadata": {},
     "output_type": "execute_result"
    }
   ],
   "source": [
    "my_dic.keys() # 키 목록"
   ]
  },
  {
   "cell_type": "code",
   "execution_count": 86,
   "id": "89eca83e",
   "metadata": {},
   "outputs": [
    {
     "data": {
      "text/plain": [
       "dict_values(['홍길동', 30, '010-9999-999'])"
      ]
     },
     "execution_count": 86,
     "metadata": {},
     "output_type": "execute_result"
    }
   ],
   "source": [
    "my_dic.values() # 값들 목록"
   ]
  },
  {
   "cell_type": "code",
   "execution_count": 87,
   "id": "c891cab3",
   "metadata": {},
   "outputs": [
    {
     "data": {
      "text/plain": [
       "dict_items([('name', '홍길동'), ('age', 30), ('tel', '010-9999-999')])"
      ]
     },
     "execution_count": 87,
     "metadata": {},
     "output_type": "execute_result"
    }
   ],
   "source": [
    "my_dic.items() # 키-값 쌍 목록"
   ]
  },
  {
   "cell_type": "code",
   "execution_count": 91,
   "id": "052f3d22",
   "metadata": {},
   "outputs": [
    {
     "name": "stdout",
     "output_type": "stream",
     "text": [
      "name : 홍길동\tage : 30\ttel : 010-9999-999\t"
     ]
    }
   ],
   "source": [
    "for key,value in my_dic.items():\n",
    "    print(\"{} : {}\".format(key,value), end=\"\\t\")"
   ]
  },
  {
   "cell_type": "code",
   "execution_count": 92,
   "id": "b6dcda08",
   "metadata": {},
   "outputs": [
    {
     "name": "stdout",
     "output_type": "stream",
     "text": [
      "홍길동\t30\t010-9999-999\t"
     ]
    }
   ],
   "source": [
    "for value in my_dic.values():\n",
    "    print(value, end=\"\\t\")"
   ]
  },
  {
   "cell_type": "code",
   "execution_count": 219,
   "id": "f2b72d04",
   "metadata": {},
   "outputs": [
    {
     "data": {
      "text/plain": [
       "[(0, ('name', '홍길동')), (1, ('age', 30)), (2, ('tel', '010-9999-999'))]"
      ]
     },
     "execution_count": 219,
     "metadata": {},
     "output_type": "execute_result"
    }
   ],
   "source": [
    "list(enumerate(my_dic.items()))"
   ]
  },
  {
   "cell_type": "code",
   "execution_count": 97,
   "id": "f84beb0a",
   "metadata": {},
   "outputs": [
    {
     "name": "stdout",
     "output_type": "stream",
     "text": [
      "1. name : 홍길동\n",
      "2. age : 30\n",
      "3. tel : 010-9999-999\n"
     ]
    }
   ],
   "source": [
    "for no, (key,value) in enumerate(my_dic.items()):\n",
    "    print(\"{}. {} : {}\".format(no + 1, key, value))"
   ]
  },
  {
   "cell_type": "markdown",
   "id": "a32dc26e",
   "metadata": {},
   "source": [
    "# in 연산자"
   ]
  },
  {
   "cell_type": "code",
   "execution_count": 98,
   "id": "0a524d9b",
   "metadata": {},
   "outputs": [
    {
     "data": {
      "text/plain": [
       "True"
      ]
     },
     "execution_count": 98,
     "metadata": {},
     "output_type": "execute_result"
    }
   ],
   "source": [
    "# tuple, list, set\n",
    "t = (10,20,30)\n",
    "30 in t # list, tuple, set에서의 in연산자 : 요소 (데이터, item)가 있는 여부 반환"
   ]
  },
  {
   "cell_type": "code",
   "execution_count": 99,
   "id": "cf2816c5",
   "metadata": {},
   "outputs": [
    {
     "data": {
      "text/plain": [
       "False"
      ]
     },
     "execution_count": 99,
     "metadata": {},
     "output_type": "execute_result"
    }
   ],
   "source": [
    "# dictionary\n",
    "dic = {'name':'홍길동', 'age':30}\n",
    "'홍길동' in dic # dictionary 에서의 in연산자 : key가 있는지 여부 반환\n"
   ]
  },
  {
   "cell_type": "code",
   "execution_count": 100,
   "id": "1f4d025d",
   "metadata": {},
   "outputs": [
    {
     "data": {
      "text/plain": [
       "True"
      ]
     },
     "execution_count": 100,
     "metadata": {},
     "output_type": "execute_result"
    }
   ],
   "source": [
    "'홍길동' in dic.values()"
   ]
  },
  {
   "cell_type": "markdown",
   "id": "774c5831",
   "metadata": {},
   "source": [
    "## 복제하기"
   ]
  },
  {
   "cell_type": "code",
   "execution_count": 102,
   "id": "7d77f115",
   "metadata": {},
   "outputs": [
    {
     "name": "stdout",
     "output_type": "stream",
     "text": [
      "my_favorite 주소: 1786426339584\n",
      "new_favorite 주소: 1786426339584\n"
     ]
    }
   ],
   "source": [
    "#할당\n",
    "my_favorite = {'fruits' : 'apple', 'number':12}\n",
    "new_favorite = my_favorite\n",
    "print('my_favorite 주소:', id(my_favorite))\n",
    "print('new_favorite 주소:', id(my_favorite))\n"
   ]
  },
  {
   "cell_type": "code",
   "execution_count": 103,
   "id": "ec657ada",
   "metadata": {},
   "outputs": [
    {
     "name": "stdout",
     "output_type": "stream",
     "text": [
      "원본 : {'fruits': 'apple', 'number': 12, 'fruit': '과일은 다 좋아', 'people': '홍길동'}\n",
      "수정본 : {'fruits': 'apple', 'number': 12, 'fruit': '과일은 다 좋아', 'people': '홍길동'}\n"
     ]
    }
   ],
   "source": [
    "new_favorite['fruit'] = '과일은 다 좋아'\n",
    "new_favorite['people'] = \"홍길동\"\n",
    "print('원본 :', my_favorite)\n",
    "print('수정본 :', new_favorite)"
   ]
  },
  {
   "cell_type": "code",
   "execution_count": 104,
   "id": "427f0526",
   "metadata": {},
   "outputs": [
    {
     "name": "stdout",
     "output_type": "stream",
     "text": [
      "my_favorite 주소: 1786423017280\n",
      "new_favorite 주소: 1786423017280\n",
      "원본 : {'fruits': 'apple', 'number': 12, 'fruit': '과일은 다 좋아', 'people': '홍길동'}\n",
      "수정본 : {'fruits': 'apple', 'number': 12, 'fruit': '과일은 다 좋아', 'people': '홍길동'}\n"
     ]
    }
   ],
   "source": [
    "# 복제\n",
    "my_favorite = {'fruits' : 'apple', 'number':12}\n",
    "new_favorite = my_favorite\n",
    "print('my_favorite 주소:', id(my_favorite))\n",
    "print('new_favorite 주소:', id(my_favorite))\n",
    "\n",
    "new_favorite['fruit'] = '과일은 다 좋아'\n",
    "new_favorite['people'] = \"홍길동\"\n",
    "print('원본 :', my_favorite)\n",
    "print('수정본 :', new_favorite)"
   ]
  },
  {
   "cell_type": "markdown",
   "id": "8a5f5d52",
   "metadata": {},
   "source": [
    "# 4절 셋\n",
    "- 중복을 허용하지 않는 집합(순서x)\n",
    "- {}나 set()함수를 이용해서 셋 생성 ex. set([1,2,1]) , set({'name':'홍길동'})\n",
    "- 추가 : add(), update()\n",
    "- 삭제 : remove()\n",
    "- 집합연산자 : &-교집합 |-합집합, -차집합"
   ]
  },
  {
   "cell_type": "code",
   "execution_count": null,
   "id": "5ee55999",
   "metadata": {},
   "outputs": [],
   "source": [
    "st = {'name':'홍길동', 'age':30}\n",
    "se = {'홍길동',30}"
   ]
  },
  {
   "cell_type": "code",
   "execution_count": 105,
   "id": "5dbc145f",
   "metadata": {},
   "outputs": [
    {
     "data": {
      "text/plain": [
       "{' apple', 'banana', 'orange'}"
      ]
     },
     "execution_count": 105,
     "metadata": {},
     "output_type": "execute_result"
    }
   ],
   "source": [
    "fruits = {'banana', 'orange', ' apple', }\n",
    "fruits"
   ]
  },
  {
   "cell_type": "code",
   "execution_count": 106,
   "id": "17d20c92",
   "metadata": {},
   "outputs": [
    {
     "data": {
      "text/plain": [
       "{1, 2, 3, 4, 5}"
      ]
     },
     "execution_count": 106,
     "metadata": {},
     "output_type": "execute_result"
    }
   ],
   "source": [
    "s1 = set([1,2,3,4,5,5,5,5])\n",
    "s1"
   ]
  },
  {
   "cell_type": "code",
   "execution_count": 107,
   "id": "285a7594",
   "metadata": {},
   "outputs": [
    {
     "data": {
      "text/plain": [
       "{'address', 'age', 'name'}"
      ]
     },
     "execution_count": 107,
     "metadata": {},
     "output_type": "execute_result"
    }
   ],
   "source": [
    "# set함수를 이용해서 딕셔너리를 셋으로 전환할 때는 key만 적용\n",
    "\n",
    "s2 = set({'name':'홍길동','age':30,'address': '서울'})\n",
    "s2"
   ]
  },
  {
   "cell_type": "markdown",
   "id": "84634ae4",
   "metadata": {},
   "source": [
    "## 추가하기\n",
    "- add() : 기본자료형, 튜플 데이터 하나 추가. list, dic, set 유형은 add()함수 사용 불가\n",
    "- update() : 리스트, 튜플, 딕셔너리, 셋 요소"
   ]
  },
  {
   "cell_type": "code",
   "execution_count": 116,
   "id": "4fa9fe80",
   "metadata": {},
   "outputs": [
    {
     "name": "stdout",
     "output_type": "stream",
     "text": [
      "add() 후 : {1, 2, 3, 4, '오', (6, 7)}\n"
     ]
    }
   ],
   "source": [
    "s = {1,2,3}\n",
    "s.add((6,7))\n",
    "s.add(4)\n",
    "s.add('오')\n",
    "print(\"add() 후 :\", s)"
   ]
  },
  {
   "cell_type": "code",
   "execution_count": 124,
   "id": "31026358",
   "metadata": {},
   "outputs": [
    {
     "name": "stdout",
     "output_type": "stream",
     "text": [
      "True add후 : {1, 2, 3}\n"
     ]
    }
   ],
   "source": [
    "# 1이 set에 있는 상태에서 True 추가\n",
    "s = {1,2,3,1,1}\n",
    "s.add(True)\n",
    "print(\"True add후 :\", s)"
   ]
  },
  {
   "cell_type": "code",
   "execution_count": 125,
   "id": "b22899be",
   "metadata": {},
   "outputs": [
    {
     "name": "stdout",
     "output_type": "stream",
     "text": [
      "1 add 후 : {False, 1, 2}\n"
     ]
    }
   ],
   "source": [
    "# 0이 set에 있는 상태에서 False 추가\n",
    "s = {False,1,2}\n",
    "s.add(1)\n",
    "print(\"1 add 후 :\", s)\n"
   ]
  },
  {
   "cell_type": "code",
   "execution_count": 121,
   "id": "db70b90d",
   "metadata": {},
   "outputs": [
    {
     "name": "stdout",
     "output_type": "stream",
     "text": [
      "update() 후 : {1, 2, 3, 4, 5, 6, 'age', 'name'}\n"
     ]
    }
   ],
   "source": [
    "s = {1,2,3}\n",
    "#s.update([4,5,6])\n",
    "#s.update((4,5,6))\n",
    "s.update({4,5,6})\n",
    "s.update({\"name\": '홍', \"age\": 20})\n",
    "print(\"update() 후 :\",s)"
   ]
  },
  {
   "cell_type": "markdown",
   "id": "91273a11",
   "metadata": {},
   "source": [
    "## 삭제하기\n",
    "-remove()"
   ]
  },
  {
   "cell_type": "code",
   "execution_count": 126,
   "id": "32951c2d",
   "metadata": {},
   "outputs": [
    {
     "data": {
      "text/plain": [
       "{1, 3, 4, 5, 6, 7}"
      ]
     },
     "execution_count": 126,
     "metadata": {},
     "output_type": "execute_result"
    }
   ],
   "source": [
    "# 1이 set에 있는 상태에서 true 추가\n",
    "s = {1,2,3,4,5,6,7}\n",
    "s.remove(2)\n",
    "s"
   ]
  },
  {
   "cell_type": "code",
   "execution_count": 128,
   "id": "0a2035ee",
   "metadata": {},
   "outputs": [
    {
     "ename": "KeyError",
     "evalue": "666",
     "output_type": "error",
     "traceback": [
      "\u001b[1;31m---------------------------------------------------------------------------\u001b[0m",
      "\u001b[1;31mKeyError\u001b[0m                                  Traceback (most recent call last)",
      "Cell \u001b[1;32mIn[128], line 1\u001b[0m\n\u001b[1;32m----> 1\u001b[0m \u001b[43ms\u001b[49m\u001b[38;5;241;43m.\u001b[39;49m\u001b[43mremove\u001b[49m\u001b[43m(\u001b[49m\u001b[38;5;241;43m666\u001b[39;49m\u001b[43m)\u001b[49m\n",
      "\u001b[1;31mKeyError\u001b[0m: 666"
     ]
    }
   ],
   "source": [
    "s.remove(666)"
   ]
  },
  {
   "cell_type": "code",
   "execution_count": 130,
   "id": "0e770267",
   "metadata": {},
   "outputs": [
    {
     "name": "stdout",
     "output_type": "stream",
     "text": [
      "해당 데이터는 없습니다\n"
     ]
    }
   ],
   "source": [
    "# 없는 요소를 삭제할 겨우 에러\n",
    "if 5 in s:\n",
    "    s.remove(5)\n",
    "else:\n",
    "    print(\"해당 데이터는 없습니다\")"
   ]
  },
  {
   "cell_type": "markdown",
   "id": "0da04500",
   "metadata": {},
   "source": [
    "## 집합연산자\n",
    "    &(교집합), |(합집합), -(차집합)"
   ]
  },
  {
   "cell_type": "code",
   "execution_count": 137,
   "id": "d4474093",
   "metadata": {},
   "outputs": [
    {
     "name": "stdout",
     "output_type": "stream",
     "text": [
      "s1 =  {1, 2, 3, 4, 5}\n",
      "s2 =  {3, 4, 5, 6, 7}\n",
      "s1&s2 = {3, 4, 5}\n",
      "s1|s2 = {1, 2, 3, 4, 5, 6, 7}\n",
      "s2-s1 = {6, 7}\n"
     ]
    }
   ],
   "source": [
    "s1 = {1,2,3,4,5}\n",
    "s2 = {3,4,5,6,7}\n",
    "print(\"s1 = \",s1)\n",
    "print(\"s2 = \",s2)\n",
    "print(\"s1&s2 =\", s1 & s2)\n",
    "print(\"s1|s2 =\", s1 | s2)\n",
    "print(\"s2-s1 =\", s2 - s1)"
   ]
  },
  {
   "cell_type": "code",
   "execution_count": 146,
   "id": "e735cb63",
   "metadata": {},
   "outputs": [
    {
     "name": "stdout",
     "output_type": "stream",
     "text": [
      "1\n",
      "2\n",
      "3\n",
      "4\n",
      "5\n"
     ]
    }
   ],
   "source": [
    "for s in s1:\n",
    "    print(s)"
   ]
  },
  {
   "cell_type": "code",
   "execution_count": 148,
   "id": "9b030b08",
   "metadata": {},
   "outputs": [
    {
     "name": "stdout",
     "output_type": "stream",
     "text": [
      "길숙\n",
      "길동\n",
      "길자\n"
     ]
    }
   ],
   "source": [
    "names = {'길동',\"길숙\",\"길자\"}\n",
    "for name in names:\n",
    "    print(name)"
   ]
  },
  {
   "cell_type": "markdown",
   "id": "fce979a8",
   "metadata": {},
   "source": [
    "# 5절 enumerate\n",
    "- 반복자. 반복문을 처리할 때 사용할 순서객체를 생성하는 함수\n",
    "- 리스트, 튜플, 딕셔너리, 셋을 for문에 사용시"
   ]
  },
  {
   "cell_type": "code",
   "execution_count": 149,
   "id": "2cfd39de",
   "metadata": {},
   "outputs": [
    {
     "data": {
      "text/plain": [
       "[(0, '길숙'), (1, '길동'), (2, '길자')]"
      ]
     },
     "execution_count": 149,
     "metadata": {},
     "output_type": "execute_result"
    }
   ],
   "source": [
    "list(enumerate(names))"
   ]
  },
  {
   "cell_type": "code",
   "execution_count": 151,
   "id": "e88c2991",
   "metadata": {},
   "outputs": [
    {
     "name": "stdout",
     "output_type": "stream",
     "text": [
      "1. 길숙\n",
      "2. 길동\n",
      "3. 길자\n"
     ]
    }
   ],
   "source": [
    "for no, name in enumerate(names):\n",
    "    print(\"{}. {}\".format(no+1,name))"
   ]
  },
  {
   "cell_type": "code",
   "execution_count": 153,
   "id": "46645c4a",
   "metadata": {},
   "outputs": [],
   "source": [
    "names = [ '길동', '길자','길숙']\n",
    "tels = ['02 - 999 - 9999','02 - 888 - 8888', '02 - 777 - 7777']\n",
    "adds = ['서울', '판교', '하남']"
   ]
  },
  {
   "cell_type": "code",
   "execution_count": 155,
   "id": "ccae7299",
   "metadata": {},
   "outputs": [
    {
     "name": "stdout",
     "output_type": "stream",
     "text": [
      "1. 길동님의 연락처는 02 - 999 - 9999이고, 서울 살아요\n",
      "2. 길자님의 연락처는 02 - 888 - 8888이고, 판교 살아요\n",
      "3. 길숙님의 연락처는 02 - 777 - 7777이고, 하남 살아요\n"
     ]
    }
   ],
   "source": [
    "for idx in range(len(names)):\n",
    "    print(\"{}. {}님의 연락처는 {}이고, {} 살아요\".format(idx + 1,\n",
    "                                             names[idx],\n",
    "                                             tels[idx],\n",
    "                                             adds[idx]))"
   ]
  },
  {
   "cell_type": "code",
   "execution_count": 156,
   "id": "25c8811a",
   "metadata": {},
   "outputs": [
    {
     "data": {
      "text/plain": [
       "[('길동', '02 - 999 - 9999', '서울'),\n",
       " ('길자', '02 - 888 - 8888', '판교'),\n",
       " ('길숙', '02 - 777 - 7777', '하남')]"
      ]
     },
     "execution_count": 156,
     "metadata": {},
     "output_type": "execute_result"
    }
   ],
   "source": [
    "list(zip(names,tels,adds))"
   ]
  },
  {
   "cell_type": "code",
   "execution_count": 162,
   "id": "29f42a78",
   "metadata": {},
   "outputs": [
    {
     "name": "stdout",
     "output_type": "stream",
     "text": [
      "길동님의 연락처는 02 - 999 - 9999이고, 서울 살아요\n",
      "길자님의 연락처는 02 - 888 - 8888이고, 판교 살아요\n",
      "길숙님의 연락처는 02 - 777 - 7777이고, 하남 살아요\n"
     ]
    }
   ],
   "source": [
    "for name, tel, add in zip(names, tels, adds):\n",
    "    print(f\"{name}님의 연락처는 {tel}이고, {add} 살아요\")"
   ]
  },
  {
   "cell_type": "code",
   "execution_count": 165,
   "id": "92cf4d5c",
   "metadata": {},
   "outputs": [
    {
     "data": {
      "text/plain": [
       "[(0, ('길동', '02 - 999 - 9999', '서울')),\n",
       " (1, ('길자', '02 - 888 - 8888', '판교')),\n",
       " (2, ('길숙', '02 - 777 - 7777', '하남'))]"
      ]
     },
     "execution_count": 165,
     "metadata": {},
     "output_type": "execute_result"
    }
   ],
   "source": [
    "list(enumerate(zip(names,tels,adds)))"
   ]
  },
  {
   "cell_type": "code",
   "execution_count": 168,
   "id": "b8c07712",
   "metadata": {},
   "outputs": [
    {
     "name": "stdout",
     "output_type": "stream",
     "text": [
      "0. 길동님의 연락처는 02 - 999 - 9999이고, 서울 살아요\n",
      "1. 길자님의 연락처는 02 - 888 - 8888이고, 판교 살아요\n",
      "2. 길숙님의 연락처는 02 - 777 - 7777이고, 하남 살아요\n"
     ]
    }
   ],
   "source": [
    "for idx,(name,tel,add) in enumerate(zip(names,tels,adds)):\n",
    "    #print(f\"{idx}. {name}님의 연락처는 {tel}이고, {add} 살아요\")\n",
    "    print(\"{}. {}님의 연락처는 {}이고, {} 살아요\".format(idx,name,tel,add))"
   ]
  },
  {
   "cell_type": "code",
   "execution_count": 184,
   "id": "cd9ee22f",
   "metadata": {},
   "outputs": [
    {
     "data": {
      "text/plain": [
       "[{'rank': 1, 'name': '길동', 'tel': '02 - 999 - 9999', 'add': '서울'},\n",
       " {'rank': 2, 'name': '길자', 'tel': '02 - 888 - 8888', 'add': '판교'},\n",
       " {'rank': 3, 'name': '길숙', 'tel': '02 - 777 - 7777', 'add': '하남'}]"
      ]
     },
     "execution_count": 184,
     "metadata": {},
     "output_type": "execute_result"
    }
   ],
   "source": [
    "\n",
    "names = [ '길동', '길자','길숙']\n",
    "tels = ['02 - 999 - 9999','02 - 888 - 8888', '02 - 777 - 7777']\n",
    "adds = ['서울', '판교', '하남']\n",
    "members = []\n",
    "\n",
    "for idx, (name, tel, add) in enumerate(zip(names, tels, adds)):\n",
    "    member = {'rank':idx+1,'name': name, 'tel':tel, 'add':add}\n",
    "    members.append(member)\n",
    "members"
   ]
  },
  {
   "cell_type": "code",
   "execution_count": 183,
   "id": "5c6bf8df",
   "metadata": {},
   "outputs": [
    {
     "data": {
      "text/plain": [
       "[{'rank': 1, 'name': '길동', 'tel': '02-999-9999', 'add': '서울'},\n",
       " {'rank': 2, 'name': '길자', 'tel': '02-888-8888', 'add': '판교'},\n",
       " {'rank': 3, 'name': '길숙', 'tel': '02-777-7777', 'add': '하남'}]"
      ]
     },
     "execution_count": 183,
     "metadata": {},
     "output_type": "execute_result"
    }
   ],
   "source": [
    "[{'rank':1,'name':'길동','tel':'02-999-9999','add':'서울'},\n",
    "{'rank':2,'name':'길자','tel':'02-888-8888','add':'판교'},\n",
    "{'rank':3,'name':'길숙','tel':'02-777-7777','add':'하남'},]"
   ]
  },
  {
   "cell_type": "code",
   "execution_count": 190,
   "id": "a4bcfa24",
   "metadata": {},
   "outputs": [],
   "source": []
  },
  {
   "cell_type": "code",
   "execution_count": null,
   "id": "bd704c4a",
   "metadata": {},
   "outputs": [],
   "source": []
  },
  {
   "cell_type": "code",
   "execution_count": null,
   "id": "c2bfd4e7",
   "metadata": {},
   "outputs": [],
   "source": []
  },
  {
   "cell_type": "code",
   "execution_count": 292,
   "id": "84aecf8f",
   "metadata": {},
   "outputs": [],
   "source": [
    "# 다음 리스트가 주어졌을 경우 요구사항대로 코드를 작성하시오\n",
    "\n",
    "numbers = [1,2,3,4,5,6,7,8,9,10]"
   ]
  },
  {
   "cell_type": "code",
   "execution_count": 293,
   "id": "16b30b99",
   "metadata": {},
   "outputs": [],
   "source": [
    "# 숫자 100을 맨 뒤에 추가하세요\n",
    "numbers.append(100)"
   ]
  },
  {
   "cell_type": "code",
   "execution_count": 294,
   "id": "c911f714",
   "metadata": {},
   "outputs": [],
   "source": [
    "# data = [200,300,400,500] 리스트 맨 뒤에 추가하세요.\n",
    "numbers.append([200,300,400,500])\n",
    "\n",
    "numbers += data"
   ]
  },
  {
   "cell_type": "code",
   "execution_count": 295,
   "id": "0c4054eb",
   "metadata": {},
   "outputs": [
    {
     "name": "stdout",
     "output_type": "stream",
     "text": [
      "[1, 2, 3, 4, 5]\n"
     ]
    }
   ],
   "source": [
    "#처음 다섯 개 숫자만 출력하세요\n",
    "print(numbers[:5])"
   ]
  },
  {
   "cell_type": "code",
   "execution_count": 296,
   "id": "0c853c18",
   "metadata": {},
   "outputs": [
    {
     "name": "stdout",
     "output_type": "stream",
     "text": [
      "[2, 4, 6, 8, 10, [200, 300, 400, 500], 'a', 'e']\n"
     ]
    }
   ],
   "source": [
    "#리스트에서 짝수 번째 데이터만 출력하세요\n",
    "print(numbers[1::2])"
   ]
  },
  {
   "cell_type": "code",
   "execution_count": 297,
   "id": "b6517fff",
   "metadata": {},
   "outputs": [],
   "source": [
    "#짝수 번째 데이터를 모두 0으로 바꾸세요\n",
    "numbers[::2] = [0] * len(numbers[::2])"
   ]
  },
  {
   "cell_type": "code",
   "execution_count": 298,
   "id": "5657e90f",
   "metadata": {},
   "outputs": [
    {
     "data": {
      "text/plain": [
       "['e', 0, 'a', 0, [200, 300, 400, 500], 0, 10, 0, 8, 0, 6, 0, 4, 0, 2, 0]"
      ]
     },
     "execution_count": 298,
     "metadata": {},
     "output_type": "execute_result"
    }
   ],
   "source": [
    "#데이터를 역순으로 나열하세요\n",
    "numbers = numbers[::-1]\n",
    "numbers"
   ]
  },
  {
   "cell_type": "code",
   "execution_count": 263,
   "id": "c1a57b4e",
   "metadata": {},
   "outputs": [],
   "source": [
    "#다음 딕셔너리 데이터가 주어졌을 경우 요구사항대로 코드를 작성하세요\n",
    "member_info = {\"name\":\"홍길동\",\"age\":20,\"address\":\"서울시 마포구\",\"score\":90}"
   ]
  },
  {
   "cell_type": "code",
   "execution_count": 264,
   "id": "707a0c6f",
   "metadata": {},
   "outputs": [
    {
     "name": "stdout",
     "output_type": "stream",
     "text": [
      "서울시 마포구\n"
     ]
    }
   ],
   "source": [
    "# address값을 출력하세요\n",
    "print(member_info[\"address\"])"
   ]
  },
  {
   "cell_type": "code",
   "execution_count": 265,
   "id": "93b40cd1",
   "metadata": {},
   "outputs": [
    {
     "name": "stdout",
     "output_type": "stream",
     "text": [
      "90\n"
     ]
    }
   ],
   "source": [
    "#score를 출력하고 member_info 딕셔녀리에서 삭제하세요\n",
    "print(member_info[\"score\"])\n",
    "del member_info[\"score\"]\n"
   ]
  },
  {
   "cell_type": "code",
   "execution_count": 266,
   "id": "dbb742b3",
   "metadata": {},
   "outputs": [],
   "source": [
    "#address를 \"서울시 서대문구\"로 변경하세요\n",
    "\n",
    "member_info[\"address\"] = \"서울시 서대문구\""
   ]
  },
  {
   "cell_type": "code",
   "execution_count": 267,
   "id": "a429739c",
   "metadata": {},
   "outputs": [
    {
     "data": {
      "text/plain": [
       "dict_values(['홍길동', 20, '서울시 서대문구'])"
      ]
     },
     "execution_count": 267,
     "metadata": {},
     "output_type": "execute_result"
    }
   ],
   "source": [
    "# member_info 딕셔너리 데이터의 값을 리스트로 출력하세요\n",
    "member_info.values()"
   ]
  },
  {
   "cell_type": "code",
   "execution_count": 268,
   "id": "2a451a2c",
   "metadata": {},
   "outputs": [
    {
     "data": {
      "text/plain": [
       "['orange', 'banana']"
      ]
     },
     "execution_count": 268,
     "metadata": {},
     "output_type": "execute_result"
    }
   ],
   "source": [
    "#다음 코드를 실행했을 때 출력되는 것은?\n",
    "\n",
    "['orange', 'banana']"
   ]
  },
  {
   "cell_type": "code",
   "execution_count": 269,
   "id": "59e2ef10",
   "metadata": {},
   "outputs": [],
   "source": [
    "# 2. 다음 코드와 실행결과가 잘못 짝지어진 것은?\n",
    "\n",
    "#3"
   ]
  },
  {
   "cell_type": "code",
   "execution_count": 270,
   "id": "0d9fe4e7",
   "metadata": {},
   "outputs": [],
   "source": [
    "#3. 다음 구문에 의해 출력되는 것은?\n",
    "\n",
    "#1"
   ]
  },
  {
   "cell_type": "code",
   "execution_count": 271,
   "id": "3c60e7d9",
   "metadata": {},
   "outputs": [],
   "source": [
    "#4 다음 코드의 실행결과가 나올 수 있는 빈간에 들어갈 함수 이름은?\n",
    "\n",
    "# extend"
   ]
  },
  {
   "cell_type": "code",
   "execution_count": 272,
   "id": "5f7910b5",
   "metadata": {},
   "outputs": [],
   "source": [
    "#5\n",
    "\n",
    "# [0, 1, 0, 3, 0, 5, 0, 7, 0, 9]"
   ]
  },
  {
   "cell_type": "code",
   "execution_count": 273,
   "id": "388039b1",
   "metadata": {},
   "outputs": [],
   "source": [
    "#6\n",
    "\n",
    "# [5, 1, 6, 3, 7, 5, 8, 7, 9, 9]"
   ]
  },
  {
   "cell_type": "code",
   "execution_count": 274,
   "id": "50525914",
   "metadata": {},
   "outputs": [],
   "source": [
    "#7\n",
    "\n",
    "#[0, 1, 1, 3, 2, 5, 3, 7, 4, 9]"
   ]
  },
  {
   "cell_type": "code",
   "execution_count": 275,
   "id": "6a6e041a",
   "metadata": {},
   "outputs": [],
   "source": [
    "# 8\n",
    "\n",
    "#1"
   ]
  },
  {
   "cell_type": "code",
   "execution_count": 276,
   "id": "5b2ca417",
   "metadata": {},
   "outputs": [],
   "source": [
    "# 9\n",
    "\n",
    "\n",
    "# apple\n",
    "# banana\n",
    "# orange"
   ]
  },
  {
   "cell_type": "code",
   "execution_count": 277,
   "id": "646fa602",
   "metadata": {},
   "outputs": [],
   "source": [
    "# 10\n",
    "\n",
    "# 3"
   ]
  },
  {
   "cell_type": "code",
   "execution_count": 278,
   "id": "5508499d",
   "metadata": {},
   "outputs": [
    {
     "ename": "SyntaxError",
     "evalue": "invalid syntax (1264083525.py, line 3)",
     "output_type": "error",
     "traceback": [
      "\u001b[1;36m  Cell \u001b[1;32mIn[278], line 3\u001b[1;36m\u001b[0m\n\u001b[1;33m    def\u001b[0m\n\u001b[1;37m       ^\u001b[0m\n\u001b[1;31mSyntaxError\u001b[0m\u001b[1;31m:\u001b[0m invalid syntax\n"
     ]
    }
   ],
   "source": [
    "# 11\n",
    "\n",
    "def"
   ]
  },
  {
   "cell_type": "markdown",
   "id": "c14423fd",
   "metadata": {},
   "source": []
  },
  {
   "cell_type": "markdown",
   "id": "433d9c6f",
   "metadata": {},
   "source": [
    "![변수타입들](https://pynative.com/wp-content/uploads/2021/02/python-data-types.jpg)"
   ]
  },
  {
   "cell_type": "markdown",
   "id": "b933cd59",
   "metadata": {},
   "source": [
    "<img src=\"https://pynative.com/wp-content/uploads/2021/02/python-data-types.jpg\"\n",
    "    style=\"float:left\"\n",
    "    width=\"500\">"
   ]
  },
  {
   "cell_type": "code",
   "execution_count": null,
   "id": "d92f1c11",
   "metadata": {},
   "outputs": [],
   "source": []
  }
 ],
 "metadata": {
  "kernelspec": {
   "display_name": "Python 3 (ipykernel)",
   "language": "python",
   "name": "python3"
  },
  "language_info": {
   "codemirror_mode": {
    "name": "ipython",
    "version": 3
   },
   "file_extension": ".py",
   "mimetype": "text/x-python",
   "name": "python",
   "nbconvert_exporter": "python",
   "pygments_lexer": "ipython3",
   "version": "3.10.9"
  },
  "toc": {
   "base_numbering": 1,
   "nav_menu": {},
   "number_sections": false,
   "sideBar": true,
   "skip_h1_title": false,
   "title_cell": "Table of Contents",
   "title_sidebar": "Contents",
   "toc_cell": false,
   "toc_position": {
    "height": "calc(100% - 180px)",
    "left": "10px",
    "top": "150px",
    "width": "165px"
   },
   "toc_section_display": true,
   "toc_window_display": true
  }
 },
 "nbformat": 4,
 "nbformat_minor": 5
}
