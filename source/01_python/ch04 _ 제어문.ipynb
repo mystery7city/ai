{
 "cells": [
  {
   "cell_type": "code",
   "execution_count": 1,
   "id": "97f3afd0",
   "metadata": {},
   "outputs": [
    {
     "data": {
      "text/html": [
       "\n",
       "<style>\n",
       "div.container{width:90% !important;}\n",
       "div.cell.code_cell.rendered{width:100%;}\n",
       "div.input_prompt{padding:0px;}\n",
       "div.CodeMirror {font-family:Consolas; font-size:16pt;}\n",
       "div.text_cell_render.rendered_html{font-size:12pt;}\n",
       "div.output {font-size:12pt; font-weight:bold;}\n",
       "div.input {font-family:Consolas; font-size:12pt;}\n",
       "div.prompt {min-width:70px;}\n",
       "div#toc-wrapper{padding-top:120px;}\n",
       "div.text_cell_render ul li{font-size:12pt;padding:5px;}\n",
       "table.dataframe{font-size:12px;}\n",
       "</style>\n"
      ],
      "text/plain": [
       "<IPython.core.display.HTML object>"
      ]
     },
     "metadata": {},
     "output_type": "display_data"
    }
   ],
   "source": [
    "from IPython.display import display, HTML\n",
    "display(HTML(\"\"\"\n",
    "<style>\n",
    "div.container{width:90% !important;}\n",
    "div.cell.code_cell.rendered{width:100%;}\n",
    "div.input_prompt{padding:0px;}\n",
    "div.CodeMirror {font-family:Consolas; font-size:16pt;}\n",
    "div.text_cell_render.rendered_html{font-size:12pt;}\n",
    "div.output {font-size:12pt; font-weight:bold;}\n",
    "div.input {font-family:Consolas; font-size:12pt;}\n",
    "div.prompt {min-width:70px;}\n",
    "div#toc-wrapper{padding-top:120px;}\n",
    "div.text_cell_render ul li{font-size:12pt;padding:5px;}\n",
    "table.dataframe{font-size:12px;}\n",
    "</style>\n",
    "\"\"\"))"
   ]
  },
  {
   "cell_type": "markdown",
   "id": "2c545389",
   "metadata": {},
   "source": [
    "<b><font size=\"6\" color =\"red\" > ch04. 제어문 </font></b>\n",
    "-  조건문 : if문\n",
    "-  반복문 : for문(반복횟수), while문(조건)\n",
    "**모두 중첩가능**\n",
    "# 1절 조건문(if)\n",
    "```\n",
    "if 조건 1:\n",
    "    조건1이 True일 경우 수행할 명령어들(들여쓰기 중요. if절 단독 가능)\n",
    "elif 조건 2:\n",
    "    조건1일 False고, 조건2가 True일겨우 수행할 명령어들\n",
    "else:\n",
    "    모든 조건이 False일 경우 수행할 명령어들(elif나 else는 단독 사용 불가\n",
    "```"
   ]
  },
  {
   "cell_type": "code",
   "execution_count": 1,
   "id": "5588fd3f",
   "metadata": {},
   "outputs": [
    {
     "name": "stdout",
     "output_type": "stream",
     "text": [
      "Enter you score>- >55\n",
      "재시험 응시하세요\n",
      "화이팅\n"
     ]
    }
   ],
   "source": [
    "score = int(input('Enter you score>- >'))\n",
    "if score >= 90:\n",
    "    print('참 잘했어요')\n",
    "    print('다음에도 기대할게')\n",
    "elif score >= 60:\n",
    "    print(\"분발하셔요\")\n",
    "    print(\"뭐 그대로 고생하셨어요\")\n",
    "else:\n",
    "    print('재시험 응시하세요')\n",
    "    print('화이팅')"
   ]
  },
  {
   "cell_type": "code",
   "execution_count": null,
   "id": "b12607de",
   "metadata": {},
   "outputs": [],
   "source": [
    "# ex. 점수를 입력받아 학점출력(a,b,c,d,e,유효하지 않은 점수)"
   ]
  },
  {
   "cell_type": "code",
   "execution_count": 16,
   "id": "5a1dcce8",
   "metadata": {},
   "outputs": [
    {
     "name": "stdout",
     "output_type": "stream",
     "text": [
      "Enter you score>- >66\n",
      "입력하신 점수 66점은 D학점\n",
      "입력하신 점수 66점은 D학점\n"
     ]
    }
   ],
   "source": [
    "score = int(input('Enter you score>- >'))\n",
    "\n",
    "\n",
    "if  90 <= score <=100:\n",
    "    grade = 'A학점'\n",
    "    \n",
    "elif  80 <= score <90:\n",
    "    grade = 'B학점'\n",
    "elif  70 <= score <80:\n",
    "    grade = 'C학점'\n",
    "elif  60 <= score <70:\n",
    "    grade = 'D학점'\n",
    "elif  0<= score <60:\n",
    "    grade = 'F학점'\n",
    "else:\n",
    "    grade = '유효하지 않은 점수'\n",
    "print(\"입력하신 점수 {}점은 {}\".format(score,grade))\n",
    "print(f\"입력하신 점수 {score}점은 {grade}\")"
   ]
  },
  {
   "cell_type": "markdown",
   "id": "b59691c1",
   "metadata": {},
   "source": [
    "# 2절 반복문\n",
    "## 2.1 for-in문\n",
    "```\n",
    "\n",
    "for 임시변수 in 나열가능한자료:\n",
    "    반복할 문장 1\n",
    "    반복할 문장 2\n",
    "else:\n",
    "    나열가능한자료를 다 소요하여 for블록을 다 수행한 후, 최종 한번 실행할 문장들\n",
    "    for문안의 break를 수행할 경우, else블록을 수행하지 않음(else는 선택)\n",
    "\n",
    "```"
   ]
  },
  {
   "cell_type": "code",
   "execution_count": 17,
   "id": "c297ac45",
   "metadata": {},
   "outputs": [
    {
     "name": "stdout",
     "output_type": "stream",
     "text": [
      "1\t3\t5\t7\t9\tDone\n",
      "END\n"
     ]
    }
   ],
   "source": [
    "for i in range(1,10,2):\n",
    "    print(i, end=\"\\t\")\n",
    "else:\n",
    "    print('Done')\n",
    "print('END')"
   ]
  },
  {
   "cell_type": "code",
   "execution_count": 18,
   "id": "2b783f91",
   "metadata": {},
   "outputs": [
    {
     "name": "stdout",
     "output_type": "stream",
     "text": [
      "0\t1\t2\t3\t4\tEND\n"
     ]
    }
   ],
   "source": [
    "for i in range(10):\n",
    "    if i == 5:\n",
    "        break # 현재 반복문을 빠져나가\n",
    "    print(i, end=\"\\t\")\n",
    "else:\n",
    "    print(\"\\nDone\")\n",
    "print(\"END\")"
   ]
  },
  {
   "cell_type": "code",
   "execution_count": 22,
   "id": "c15ad3df",
   "metadata": {},
   "outputs": [
    {
     "name": "stdout",
     "output_type": "stream",
     "text": [
      "1~100까지 합은 2550\n"
     ]
    }
   ],
   "source": [
    "# 1~100까지 짝수들의 합을 계산하고 출력하시오(for문)\n",
    "sum = 0 # 누적변수\n",
    "for i in range(1,101):\n",
    "    \n",
    "    if i % 2 == 0:\n",
    "        sum += i # sum = sum + i\n",
    "else:\n",
    "    print(\"1~100까지 짝수들의 합은\", sum)"
   ]
  },
  {
   "cell_type": "markdown",
   "id": "2fc55960",
   "metadata": {},
   "source": [
    "## 2.2 while 문\n",
    "```\n",
    "while 조건:\n",
    "    조건이 True일 경우 반복할 문장들\n",
    "else:\n",
    "    조건이 False일 경우 한번 실행할 문장들(else구문 선택사항)\n",
    "    while문내의 break 수행할 경우 else구문은 실행되지 않음\n",
    "```"
   ]
  },
  {
   "cell_type": "code",
   "execution_count": 24,
   "id": "a36da82c",
   "metadata": {},
   "outputs": [
    {
     "name": "stdout",
     "output_type": "stream",
     "text": [
      "1~100까지 짝수의 합은 2550\n"
     ]
    }
   ],
   "source": [
    "# 1~100까지 짝수들의 합을 계산하고 출력하시오(while문)\n",
    "\n",
    "sum = 0 # 누적변수\n",
    "\n",
    "i = 1 # i값 초기화\n",
    "\n",
    "while i<= 100:\n",
    "    if i % 2 == 0:\n",
    "        sum += i # sum = sum + i\n",
    "    i += 1\n",
    "else:\n",
    "    print('1~100까지 짝수의 합은', sum)\n",
    "\n"
   ]
  },
  {
   "cell_type": "code",
   "execution_count": 167,
   "id": "e77a18f0",
   "metadata": {},
   "outputs": [
    {
     "name": "stdout",
     "output_type": "stream",
     "text": [
      "a :22\n",
      "b :44\n",
      "363\n"
     ]
    }
   ],
   "source": [
    "# ex1. 사용자에게 두 정수를 입력받아, 작은수부터 큰수까지 홀수의 합을 누적해서 출력\n",
    "# 두 정수를 입력\n",
    "\n",
    "# 두 정수중 작은 수와 큰 수\n",
    "\n",
    "# 누적\n",
    "sum = 0\n",
    "\n",
    "a = int(input(\"a :\"))\n",
    "b = int(input(\"b :\"))\n",
    "\n",
    "\n",
    "\n",
    "if a < b:\n",
    "    for i in range(a,b+1):\n",
    "        if i % 2 == 1:\n",
    "            sum += i\n",
    "else:\n",
    "    for i in range(b,a+1):\n",
    "        if i % 2 == 1:\n",
    "            sum += i\n",
    "                \n",
    "print(sum)"
   ]
  },
  {
   "cell_type": "code",
   "execution_count": 175,
   "id": "b08dee0a",
   "metadata": {},
   "outputs": [
    {
     "name": "stdout",
     "output_type": "stream",
     "text": [
      "첫번쨰 정수? :11\n",
      "첫번쩌 정수? :44\n",
      " 11 ~ 44까지 누적합은 459\n"
     ]
    }
   ],
   "source": [
    "first = int(input('첫번쨰 정수? :'))\n",
    "second = int(input('첫번쩌 정수? :'))\n",
    "\n",
    "if first > second:\n",
    "    \n",
    "    first, second = second, first\n",
    "    \n",
    "sum = 0\n",
    "\n",
    "for i in range(first, second + 1):\n",
    "    if i % 2 != 0:\n",
    "        sum+= i\n",
    "\n",
    "print(\" {} ~ {}까지 누적합은 {}\".format(first,second,sum))"
   ]
  },
  {
   "cell_type": "code",
   "execution_count": 11,
   "id": "abcc1a3b",
   "metadata": {},
   "outputs": [
    {
     "data": {
      "text/plain": [
       "[8, 19, 7, 4, 13, 18]"
      ]
     },
     "execution_count": 11,
     "metadata": {},
     "output_type": "execute_result"
    }
   ],
   "source": [
    "# ex2. 로또번호 6개를 추출후, 정렬하여 출력\n",
    "import random\n",
    "#random.seed(3)\n",
    "# random.random() #이상 1미만의 실수 난수\n",
    "# random.randint(1, 45) # 1 ~ 45의 정수 난수\n",
    "\n",
    "\n",
    "lotto = []\n",
    "\n",
    "a = 0\n",
    "\n",
    "for i in range(6):\n",
    "    a = random.randint(1,45)\n",
    "    if a != lotto.count(i - 1):\n",
    "        lotto.append(a)\n",
    "    i -= 1    \n",
    "    \n",
    "lotto\n",
    "\n",
    "#random.choice(['남자','여자']) #남자나 여자를 선택(확률일치)\n",
    "#random.choices(['사기꾼','비사기꾼'], weights= [0.1,0.9])"
   ]
  },
  {
   "cell_type": "code",
   "execution_count": 16,
   "id": "f163148e",
   "metadata": {},
   "outputs": [
    {
     "name": "stdout",
     "output_type": "stream",
     "text": [
      "7번 로또번호 추출함 : [30, 15, 43, 10, 12, 17]\n",
      "정렬후 :  [10, 12, 15, 17, 30, 43]\n"
     ]
    }
   ],
   "source": [
    "lotto_lst = [] #추출된 로또번호를 담을 변수\n",
    "cnt = 0\n",
    "\n",
    "while len(lotto_lst) < 6:\n",
    "    temp = random.randint(1,45) # 임의의 수를 temp 변수\n",
    "    cnt += 1\n",
    "    \n",
    "    if temp not in lotto_lst:\n",
    "        lotto_lst.append(temp)\n",
    "    \n",
    "\n",
    "print(\"{}번 로또번호 추출함 : {}\".format(cnt, lotto_lst))\n",
    "#정렬 알고리즘\n",
    "      \n",
    "for i in range(len(lotto_lst)-1):\n",
    "      for j in range(i+1, len(lotto_lst)):\n",
    "            if lotto_lst[i] > lotto_lst[j]:\n",
    "                lotto_lst[i], lotto_lst[j] = lotto_lst[j], lotto_lst[i]\n",
    "print(\"정렬후 : \",lotto_lst)"
   ]
  },
  {
   "cell_type": "code",
   "execution_count": 24,
   "id": "6458a6fb",
   "metadata": {},
   "outputs": [
    {
     "data": {
      "text/plain": [
       "[9, 19, 24, 37, 39, 43]"
      ]
     },
     "execution_count": 24,
     "metadata": {},
     "output_type": "execute_result"
    }
   ],
   "source": [
    "# 위의 ex2를 set 이용\n",
    "lotto_set = set() # 빈 셋\n",
    "while len(lotto_set) < 6:\n",
    "    lotto_set.add(random.randint(1,45))\n",
    "sorted(lotto_set)"
   ]
  },
  {
   "cell_type": "code",
   "execution_count": 28,
   "id": "5ca98e8b",
   "metadata": {},
   "outputs": [
    {
     "data": {
      "text/plain": [
       "[6, 23]"
      ]
     },
     "execution_count": 28,
     "metadata": {},
     "output_type": "execute_result"
    }
   ],
   "source": [
    "# 1 ~ 45중 6개 뽑아 정렬\n",
    "sorted(random.sample(range(1,46),2))\n",
    "\n"
   ]
  },
  {
   "cell_type": "markdown",
   "id": "5c3ad6db",
   "metadata": {},
   "source": [
    "\n",
    "## 2.3 break, continue\n",
    "- break : 현재 반복문 탈출\n",
    "- continue : 수행중인 반복문을 멈추고 조건절로\n",
    "\n"
   ]
  },
  {
   "cell_type": "code",
   "execution_count": null,
   "id": "dc647f26",
   "metadata": {},
   "outputs": [],
   "source": [
    "num = 0\n",
    "while num < 10:\n",
    "    num += 1\n",
    "    if num == 5:\n",
    "        # break\n",
    "        continue\n",
    "    print(num,end = ' ')\n",
    "print('END')\n",
    "    \n",
    "    \n",
    "    \n",
    "\n"
   ]
  },
  {
   "cell_type": "code",
   "execution_count": null,
   "id": "bc932597",
   "metadata": {},
   "outputs": [
    {
     "name": "stdout",
     "output_type": "stream",
     "text": [
      "컴퓨터가 발생한 random 수 : 89\n",
      "1 ~ 100 사이의 수를 맞춰 보세요 :44\n",
      " UP ↑\n",
      "1 ~ 100 사이의 수를 맞춰 보세요 :33\n",
      " UP ↑\n",
      "1 ~ 100 사이의 수를 맞춰 보세요 :22\n",
      " UP ↑\n",
      "1 ~ 100 사이의 수를 맞춰 보세요 :66\n",
      " UP ↑\n",
      "1 ~ 100 사이의 수를 맞춰 보세요 :44\n",
      " UP ↑\n"
     ]
    }
   ],
   "source": [
    "# 숫자 찾기 게임\n",
    "'''\n",
    "1~100 사이의 정수 맞추기 프로그램\n",
    "(프로그램 안에서 RANDOM수가 만들어지고, 그 RANDOM수 맞추기)\n",
    "\n",
    "1단계 : 숫자를 못 맞추면 UP/DOWN을 출력하고, 맞추면 축하 메세지 뿌리고 프로그램 종료\n",
    "    \n",
    "2단계 : 숫자를 못 맞추면 MIN(0), MAX(100)를 조정하고, 맞추면 축하메세지 출력하고 종료\n",
    "    \n",
    "3단계 : 2단계의 기회를 5회로 제한. 5회의 기회가 지나면 실패메세지 출력하고 종료.\n",
    "       5회 이내에 맞추면 축하세메세지 출력하고 종료\n",
    "        \n",
    "       (2단계와 3단계는 연습문제)\n",
    "'''\n",
    "import random\n",
    "\n",
    "randomNum = random.randint(1,100)\n",
    "inputNum = -1\n",
    "print(\"컴퓨터가 발생한 random 수 :\", randomNum)\n",
    "while randomNum != inputNum:\n",
    "    inputNum = int(input(\"1 ~ 100 사이의 수를 맞춰 보세요 :\"))\n",
    "    if (inputNum < 1) | (inputNum > 100):\n",
    "        print('수의 범위를 벗어났습니다')\n",
    "    elif randomNum < inputNum :\n",
    "        print('Down ↓')\n",
    "    elif randomNum > inputNum :\n",
    "        print(\" UP ↑\")\n",
    "    else:\n",
    "        print(\"축하 축하 맞추셨습니다.\")\n",
    "        break\n",
    "print(\"Bye\")"
   ]
  },
  {
   "cell_type": "code",
   "execution_count": null,
   "id": "66a84c6c",
   "metadata": {},
   "outputs": [],
   "source": [
    "22\n",
    "2\n",
    "2\n",
    "3\n"
   ]
  },
  {
   "cell_type": "markdown",
   "id": "1c37955a",
   "metadata": {},
   "source": [
    "# 3절 중첩루프\n",
    "(반복문 안의 반복문)\n",
    "\n"
   ]
  },
  {
   "cell_type": "code",
   "execution_count": 13,
   "id": "03823b3b",
   "metadata": {},
   "outputs": [
    {
     "name": "stdout",
     "output_type": "stream",
     "text": [
      "  2단  \t  3단  \t  4단  \t  5단  \t  6단  \t  7단  \t  8단  \t  9단  \t\n",
      "2*1= 2\t3*1= 3\t4*1= 4\t5*1= 5\t6*1= 6\t7*1= 7\t8*1= 8\t9*1= 9\t\n",
      "2*2= 4\t3*2= 6\t4*2= 8\t5*2=10\t6*2=12\t7*2=14\t8*2=16\t9*2=18\t\n",
      "2*3= 6\t3*3= 9\t4*3=12\t5*3=15\t6*3=18\t7*3=21\t8*3=24\t9*3=27\t\n",
      "2*4= 8\t3*4=12\t4*4=16\t5*4=20\t6*4=24\t7*4=28\t8*4=32\t9*4=36\t\n",
      "2*5=10\t3*5=15\t4*5=20\t5*5=25\t6*5=30\t7*5=35\t8*5=40\t9*5=45\t\n",
      "2*6=12\t3*6=18\t4*6=24\t5*6=30\t6*6=36\t7*6=42\t8*6=48\t9*6=54\t\n",
      "2*7=14\t3*7=21\t4*7=28\t5*7=35\t6*7=42\t7*7=49\t8*7=56\t9*7=63\t\n",
      "2*8=16\t3*8=24\t4*8=32\t5*8=40\t6*8=48\t7*8=56\t8*8=64\t9*8=72\t\n"
     ]
    }
   ],
   "source": [
    "# 2 ~ 9단 구구단 출력\n",
    "for i in range(2,10):\n",
    "    print(\"{:^6}\".format(str(i)+'단'),end = \"\\t\")\n",
    "print()    \n",
    "for i in range(1,9):\n",
    "    for j in range(2,10):\n",
    "        print(\"{}*{}={:2}\".format(j,i,i*j), end = \"\\t\")\n",
    "    print()"
   ]
  },
  {
   "cell_type": "code",
   "execution_count": 16,
   "id": "f9a47379",
   "metadata": {},
   "outputs": [
    {
     "name": "stdout",
     "output_type": "stream",
     "text": [
      "0행0열 : 1\t0행1열 : 2\t0행2열 : 3\t0행3열 : 4\t\n",
      "1행0열 : 5\t1행1열 : 6\t1행2열 : 7\t1행3열 : 8\t\n"
     ]
    }
   ],
   "source": [
    "lst_2d = [[1,2,3,4],[5,6,7,8]]\n",
    "\n",
    "for i in range(len(lst_2d)): # 행\n",
    "    for j in range(len(lst_2d[i])): # 열\n",
    "        print(\"{}행{}열 : {}\".format(i,j,lst_2d[i][j]), end = \"\\t\")\n",
    "    print()"
   ]
  },
  {
   "cell_type": "markdown",
   "id": "d2366a47",
   "metadata": {},
   "source": [
    "# 4절 중첩루프 탈출"
   ]
  },
  {
   "cell_type": "code",
   "execution_count": 22,
   "id": "2fb48bb6",
   "metadata": {},
   "outputs": [
    {
     "name": "stdout",
     "output_type": "stream",
     "text": [
      "0 1\n",
      "0 2\n",
      "2 1\n",
      "Done\n"
     ]
    }
   ],
   "source": [
    "# 중첩 루프 탈출 방법1.flag변수 이용\n",
    "flag = False # break를 만나면 True\n",
    "for a in range(0,3): # a=0일때 1일때, 2일때\n",
    "    for b in range(1,3): # b=1일때, 2일때\n",
    "        if a == b:\n",
    "            flag = True\n",
    "            break\n",
    "        print(a,b)\n",
    "    # break를 만나면 오는 곳\n",
    "    if flag:\n",
    "        break\n",
    "print('Done')"
   ]
  },
  {
   "cell_type": "code",
   "execution_count": 23,
   "id": "007285eb",
   "metadata": {},
   "outputs": [],
   "source": [
    "#중첩 루프 탈출 방법2. 예외(Esception) 처리 이용"
   ]
  },
  {
   "cell_type": "markdown",
   "id": "19290fbc",
   "metadata": {},
   "source": [
    "# 5절 연습문제"
   ]
  },
  {
   "cell_type": "code",
   "execution_count": null,
   "id": "3857bcb2",
   "metadata": {},
   "outputs": [],
   "source": [
    "inputStr = int(input('양의 정수를 입력하세요'))\n",
    "print('inputStr이 양의 정수인지 여부 :',inputStr.isdigit())"
   ]
  },
  {
   "cell_type": "code",
   "execution_count": 1,
   "id": "c0e815db",
   "metadata": {},
   "outputs": [
    {
     "name": "stdout",
     "output_type": "stream",
     "text": [
      "숫자를 입력하세요:2\n",
      "짝수\n"
     ]
    }
   ],
   "source": [
    "# 1. 양의 정수를 입력 받아 홀수인지 짝수인지를 판별하는 프로그램을 작성하세요. 양의 정수가 아니면 숫자를 다시\n",
    "# 입력 받아야 합니다.\n",
    "\n",
    "\n",
    "\n",
    "\n",
    "while True:\n",
    "    a = int(input(\"숫자를 입력하세요:\"))\n",
    "    \n",
    "    if a < 0:\n",
    "        continue\n",
    "    elif a % 2 == 0:\n",
    "        print(\"짝수\")\n",
    "        break\n",
    "    else:\n",
    "        print(\"홀수\")\n",
    "        break\n"
   ]
  },
  {
   "cell_type": "code",
   "execution_count": 5,
   "id": "cb99a73c",
   "metadata": {},
   "outputs": [
    {
     "name": "stdout",
     "output_type": "stream",
     "text": [
      "inputStr이 0이상 정수인지 여부 : True\n"
     ]
    }
   ],
   "source": [
    "inputStr = \"0\"\n",
    "print('inputStr이 0이상 정수인지 여부 :',inputStr.isdigit())"
   ]
  },
  {
   "cell_type": "code",
   "execution_count": null,
   "id": "315701ad",
   "metadata": {},
   "outputs": [],
   "source": []
  },
  {
   "cell_type": "code",
   "execution_count": null,
   "id": "1942011b",
   "metadata": {},
   "outputs": [],
   "source": []
  },
  {
   "cell_type": "code",
   "execution_count": 21,
   "id": "d4f954a3",
   "metadata": {},
   "outputs": [
    {
     "name": "stdout",
     "output_type": "stream",
     "text": [
      "*****\n",
      "*****\n",
      "*****\n",
      "*****\n",
      "*****\n",
      "\n",
      "*\n",
      "**\n",
      "***\n",
      "****\n",
      "*****\n"
     ]
    }
   ],
   "source": [
    "# 2  중첩 for문을 이용하여 아래 패턴의 별을 출력하는 프로그램을 작성하세요.\n",
    "\n",
    "#1\n",
    "\n",
    "for i in range(5):\n",
    "    for j in range(5):\n",
    "        print(\"*\",end = \"\")\n",
    "    print()\n",
    "    \n",
    "    \n",
    "#2\n",
    "\n",
    "print()\n",
    "\n",
    "temp = 1\n",
    "\n",
    "\n",
    "for i in range(5):\n",
    "    for j in range(temp):\n",
    "        print(\"*\",end = \"\")\n",
    "    print()\n",
    "    temp += 1\n",
    "    "
   ]
  },
  {
   "cell_type": "code",
   "execution_count": 22,
   "id": "0f3fbf10",
   "metadata": {},
   "outputs": [
    {
     "name": "stdout",
     "output_type": "stream",
     "text": [
      "135\n"
     ]
    }
   ],
   "source": [
    "#3 다음 코드는 1부터 30까지 (30포함) 자연수 중에서 3의 배수의 총 합을 출력하는 프로그램입니다.\n",
    "\n",
    "\n",
    "sum = 0\n",
    "\n",
    "for i in range(30):\n",
    "    if i % 3 == 0:\n",
    "        sum = sum + i\n",
    "    else:\n",
    "        pass\n",
    "print(sum)"
   ]
  },
  {
   "cell_type": "code",
   "execution_count": 24,
   "id": "e31c4a46",
   "metadata": {},
   "outputs": [
    {
     "name": "stdout",
     "output_type": "stream",
     "text": [
      "1 3 5 7 9 "
     ]
    }
   ],
   "source": [
    "#4 다음 코드의 실행결과가 1 3 5 7 9가 되도록 빈칸을 완성하시오\n",
    "\n",
    "num = 0\n",
    "\n",
    "while num <= 10:\n",
    "    if num % 2 != 0:\n",
    "        print(num, end=' ')\n",
    "    num += 1"
   ]
  },
  {
   "cell_type": "code",
   "execution_count": 25,
   "id": "bbb73d1c",
   "metadata": {},
   "outputs": [
    {
     "name": "stdout",
     "output_type": "stream",
     "text": [
      "123\n",
      "4567\n",
      "89\n"
     ]
    }
   ],
   "source": [
    "#5 다음 2차원 리스트의 모든 값을 출력하는 코드입니다. 빈칸을 완성하시오\n",
    "\n",
    "list2d = [[1,2,3],[4,5,6,7],[8,9]]\n",
    "for row in list2d:\n",
    "    for data in row:\n",
    "        print(data,end='')\n",
    "    print()"
   ]
  },
  {
   "cell_type": "code",
   "execution_count": 6,
   "id": "4458d46d",
   "metadata": {},
   "outputs": [
    {
     "name": "stdout",
     "output_type": "stream",
     "text": [
      "0 apple\n",
      "1 banana\n"
     ]
    }
   ],
   "source": [
    "#6 다음 빈칸에 들어갈 함수 이름은?\n",
    "\n",
    "colors = {\"red\":'apple',\"yellow\":'banana'}\n",
    "for i,v in enumerate(colors.values()):\n",
    "    print(i,v)\n",
    "\n",
    "\n",
    "# enumerate"
   ]
  },
  {
   "cell_type": "code",
   "execution_count": 30,
   "id": "db2e349b",
   "metadata": {},
   "outputs": [
    {
     "name": "stdout",
     "output_type": "stream",
     "text": [
      "1 0\n"
     ]
    }
   ],
   "source": [
    "#7 다음 코드의 실행 결과는?\n",
    "\n",
    "for i in range(0,2):\n",
    "    for j in range(0,2):\n",
    "        if i == j:\n",
    "            break\n",
    "        print(i,j)\n",
    "        \n",
    "# 1, 0"
   ]
  },
  {
   "cell_type": "code",
   "execution_count": null,
   "id": "6fa974b0",
   "metadata": {},
   "outputs": [],
   "source": [
    "#8 다음 코드의 실행 결과로 출력될 수 없는 것은?\n",
    "\n",
    "#4"
   ]
  },
  {
   "cell_type": "code",
   "execution_count": null,
   "id": "ca824401",
   "metadata": {},
   "outputs": [],
   "source": [
    "# 9 다음 코드의 실행결과는?\n",
    "\n",
    "#3 5 7 9"
   ]
  },
  {
   "cell_type": "code",
   "execution_count": 5,
   "id": "f8c94b55",
   "metadata": {},
   "outputs": [
    {
     "name": "stdout",
     "output_type": "stream",
     "text": [
      "컴퓨터가 발생한 random 수 : 74\n",
      "1 ~ 100 사이의 수를 맞춰 보세요 :99\n",
      "Down ↓\n",
      "(남은 기회는 4번)\n",
      "1 ~ 100 사이의 수를 맞춰 보세요 :33\n",
      " UP ↑\n",
      "(남은 기회는 3번)\n",
      "1 ~ 100 사이의 수를 맞춰 보세요 :22\n",
      " UP ↑\n",
      "(남은 기회는 2번)\n",
      "1 ~ 100 사이의 수를 맞춰 보세요 :11\n",
      " UP ↑\n",
      "(남은 기회는 1번)\n",
      "1 ~ 100 사이의 수를 맞춰 보세요 :74\n",
      "기회를 모두 사용하셨습니다. 실패하셨습니다.\n",
      "Bye\n"
     ]
    }
   ],
   "source": [
    "# 10 1 ~ 100사이의 정수를 맞추는 프로그램을 구현하시오\n",
    "\n",
    "import random\n",
    "\n",
    "randomNum = random.randint(1,100)\n",
    "inputNum = -1\n",
    "print(\"컴퓨터가 발생한 random 수 :\", randomNum)\n",
    "\n",
    "temp = 0\n",
    "\n",
    "while randomNum != inputNum:\n",
    "    inputNum = int(input(\"1 ~ 100 사이의 수를 맞춰 보세요 :\"))\n",
    "    \n",
    "    temp += 1\n",
    "    \n",
    "    if temp >= 5:\n",
    "        print(\"기회를 모두 사용하셨습니다. 실패하셨습니다.\")\n",
    "        break\n",
    "    \n",
    "    elif (inputNum < 1) | (inputNum > 100):\n",
    "        print('수의 범위를 벗어났습니다')\n",
    "        print('(남은 기회는 {}번)'.format(5 - temp))\n",
    "    elif randomNum < inputNum :\n",
    "        print('Down ↓')\n",
    "        \n",
    "        print('(남은 기회는 {}번)'.format(5 - temp))\n",
    "    elif randomNum > inputNum :\n",
    "        print(\" UP ↑\")\n",
    "        \n",
    "        print('(남은 기회는 {}번)'.format(5 - temp))\n",
    "    else:\n",
    "        print(\"축하 축하 맞추셨습니다.\")\n",
    "        break\n",
    "print(\"Bye\")"
   ]
  },
  {
   "cell_type": "code",
   "execution_count": null,
   "id": "fee775b9",
   "metadata": {},
   "outputs": [],
   "source": []
  }
 ],
 "metadata": {
  "kernelspec": {
   "display_name": "Python 3 (ipykernel)",
   "language": "python",
   "name": "python3"
  },
  "language_info": {
   "codemirror_mode": {
    "name": "ipython",
    "version": 3
   },
   "file_extension": ".py",
   "mimetype": "text/x-python",
   "name": "python",
   "nbconvert_exporter": "python",
   "pygments_lexer": "ipython3",
   "version": "3.10.9"
  },
  "toc": {
   "base_numbering": 1,
   "nav_menu": {},
   "number_sections": false,
   "sideBar": true,
   "skip_h1_title": false,
   "title_cell": "Table of Contents",
   "title_sidebar": "Contents",
   "toc_cell": false,
   "toc_position": {
    "height": "calc(100% - 180px)",
    "left": "10px",
    "top": "150px",
    "width": "217.6px"
   },
   "toc_section_display": true,
   "toc_window_display": false
  }
 },
 "nbformat": 4,
 "nbformat_minor": 5
}
