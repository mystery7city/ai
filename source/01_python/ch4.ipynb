{
 "cells": [
  {
   "cell_type": "code",
   "execution_count": 4,
   "id": "d6439e02",
   "metadata": {},
   "outputs": [
    {
     "data": {
      "text/html": [
       "\n",
       "<style>\n",
       "div.container{width:90% !important;}\n",
       "div.cell.code_cell.rendered{width:100%;}\n",
       "div.input_prompt{padding:0px;}\n",
       "div.CodeMirror {font-family:Consolas; font-size:22pt;}\n",
       "div.text_cell_render.rendered_html{font-size:18pt;}\n",
       "div.output {font-size:22pt; font-weight:bold;}\n",
       "div.input {font-family:Consolas; font-size:22pt;}\n",
       "div.prompt {min-width:70px;}\n",
       "div#toc-wrapper{padding-top:120px;}\n",
       "div.text_cell_render ul li{font-size:22pt;padding:5px;}\n",
       "table.dataframe{font-size:22px;}\n",
       "</style>\n"
      ],
      "text/plain": [
       "<IPython.core.display.HTML object>"
      ]
     },
     "metadata": {},
     "output_type": "display_data"
    }
   ],
   "source": [
    "from IPython.display import display, HTML\n",
    "display(HTML(\"\"\"\n",
    "<style>\n",
    "div.container{width:90% !important;}\n",
    "div.cell.code_cell.rendered{width:100%;}\n",
    "div.input_prompt{padding:0px;}\n",
    "div.CodeMirror {font-family:Consolas; font-size:22pt;}\n",
    "div.text_cell_render.rendered_html{font-size:18pt;}\n",
    "div.output {font-size:22pt; font-weight:bold;}\n",
    "div.input {font-family:Consolas; font-size:22pt;}\n",
    "div.prompt {min-width:70px;}\n",
    "div#toc-wrapper{padding-top:120px;}\n",
    "div.text_cell_render ul li{font-size:22pt;padding:5px;}\n",
    "table.dataframe{font-size:22px;}\n",
    "</style>\n",
    "\"\"\"))\n"
   ]
  },
  {
   "cell_type": "markdown",
   "id": "1ad07cb1",
   "metadata": {},
   "source": [
    "<b><font size=\"6\" color =\"red\" > ch04 제어문 </font></b>\n",
    "- 조건문 if문\n",
    "- 반복문: for문(반복횟수),while문(조건) 모두 중첩가능\n"
   ]
  },
  {
   "cell_type": "code",
   "execution_count": null,
   "id": "9723fdc2",
   "metadata": {},
   "outputs": [],
   "source": []
  },
  {
   "cell_type": "code",
   "execution_count": 2,
   "id": "781e2525",
   "metadata": {},
   "outputs": [
    {
     "name": "stdout",
     "output_type": "stream",
     "text": [
      "Enter your score >33\n",
      "재시험 응시하셔야 합니다\n",
      "화이팅\n"
     ]
    }
   ],
   "source": [
    "score = int(input('Enter your score >'))\n",
    "if score>=80:\n",
    "    print('참 잘했어요')\n",
    "    print('다음에도 기대할께요')\n",
    "elif score>=60:\n",
    "    print('분발하셔요')\n",
    "    print('뭐 그대로 고생하셨어요')\n",
    "else:\n",
    "    print('재시험 응시하셔야 합니다')\n",
    "    print('화이팅')"
   ]
  },
  {
   "cell_type": "code",
   "execution_count": null,
   "id": "33e3cd18",
   "metadata": {},
   "outputs": [],
   "source": [
    "# ex. 점수를 입력받아 학점출력(A, B, C, D, F, 유효하지 않는 점수)\n",
    "score = int(input('Enter your score >'))\n",
    "if 90 <= score <= 100: #(90<=score) & (score>=100):\n",
    "    grade = 'A학점'\n",
    "elif 80 <= score < 90:\n",
    "    grade = 'B학점'\n",
    "elif 70 <= score < 80:\n",
    "    grade = 'C학점'\n",
    "elif 60 <= score < 70:\n",
    "    grade = 'D학점'\n",
    "elif 0 <= score < 60:\n",
    "    grade = 'F학점'\n",
    "else:\n",
    "    grade = '유효하지 않는 점수'\n",
    "print(\"입력하신 점수 {}점은 {}\".format(score, grade))\n",
    "print(f\"입력하신 점수 {score}점은 {grade}\")"
   ]
  },
  {
   "cell_type": "code",
   "execution_count": null,
   "id": "dc3d724d",
   "metadata": {},
   "outputs": [],
   "source": []
  },
  {
   "cell_type": "code",
   "execution_count": null,
   "id": "662e42e4",
   "metadata": {},
   "outputs": [],
   "source": [
    "\n",
    "for i in range(5, 0, -1):\n",
    "    print(i, end=\"\\t\")\n",
    "else:\n",
    "    print('DONE')\n",
    "print('END')"
   ]
  },
  {
   "cell_type": "code",
   "execution_count": null,
   "id": "c03c6c69",
   "metadata": {},
   "outputs": [],
   "source": []
  }
 ],
 "metadata": {
  "kernelspec": {
   "display_name": "Python 3 (ipykernel)",
   "language": "python",
   "name": "python3"
  },
  "language_info": {
   "codemirror_mode": {
    "name": "ipython",
    "version": 3
   },
   "file_extension": ".py",
   "mimetype": "text/x-python",
   "name": "python",
   "nbconvert_exporter": "python",
   "pygments_lexer": "ipython3",
   "version": "3.10.9"
  }
 },
 "nbformat": 4,
 "nbformat_minor": 5
}
